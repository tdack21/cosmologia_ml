{
  "cells": [
    {
      "cell_type": "markdown",
      "metadata": {
        "id": "view-in-github",
        "colab_type": "text"
      },
      "source": [
        "<a href=\"https://colab.research.google.com/github/tdack21/cosmologia_ml/blob/main/Tarea_4_cosmoml.ipynb\" target=\"_parent\"><img src=\"https://colab.research.google.com/assets/colab-badge.svg\" alt=\"Open In Colab\"/></a>"
      ]
    },
    {
      "cell_type": "markdown",
      "metadata": {
        "id": "NfSzGCY6v-K8"
      },
      "source": [
        "# Tarea 4. Cosmología con Machine Learnig\n",
        "## Tonatiuh Sánchez Madrid\n"
      ]
    },
    {
      "cell_type": "code",
      "execution_count": 1,
      "metadata": {
        "colab": {
          "base_uri": "https://localhost:8080/"
        },
        "id": "pPMsIDA5ZdYi",
        "outputId": "6b850963-1dd8-4730-cffb-01260de06905"
      },
      "outputs": [
        {
          "output_type": "stream",
          "name": "stdout",
          "text": [
            "Collecting gravipy\n",
            "  Downloading GraviPy-0.2.0-py3-none-any.whl.metadata (1.5 kB)\n",
            "Requirement already satisfied: sympy>=1.4 in /usr/local/lib/python3.11/dist-packages (from gravipy) (1.13.1)\n",
            "Requirement already satisfied: mpmath<1.4,>=1.1.0 in /usr/local/lib/python3.11/dist-packages (from sympy>=1.4->gravipy) (1.3.0)\n",
            "Downloading GraviPy-0.2.0-py3-none-any.whl (10 kB)\n",
            "Installing collected packages: gravipy\n",
            "Successfully installed gravipy-0.2.0\n"
          ]
        }
      ],
      "source": [
        "!pip install gravipy"
      ]
    },
    {
      "cell_type": "code",
      "execution_count": 2,
      "metadata": {
        "id": "r7ffJ_01vzqr"
      },
      "outputs": [],
      "source": [
        "import numpy as np\n",
        "from sympy import *\n",
        "from gravipy import *\n",
        "from gravipy.tensorial import *"
      ]
    },
    {
      "cell_type": "markdown",
      "metadata": {
        "id": "fE8KXy2Pw7B4"
      },
      "source": [
        "## Parte A\n",
        "1. **Compute the components of the Einstein tensor.**"
      ]
    },
    {
      "cell_type": "code",
      "execution_count": 3,
      "metadata": {
        "colab": {
          "base_uri": "https://localhost:8080/",
          "height": 100
        },
        "id": "s9LDWUoaZYYF",
        "outputId": "ca802f6f-d33d-413f-fc88-9aa37d0f4093"
      },
      "outputs": [
        {
          "output_type": "execute_result",
          "data": {
            "text/plain": [
              "Matrix([\n",
              "[-exp(2*F(r, t)),              0,    0,                   0],\n",
              "[              0, exp(2*H(r, t)),    0,                   0],\n",
              "[              0,              0, r**2,                   0],\n",
              "[              0,              0,    0, r**2*sin(\\theta)**2]])"
            ],
            "text/latex": "$\\displaystyle \\left[\\begin{matrix}- e^{2 F{\\left(r,t \\right)}} & 0 & 0 & 0\\\\0 & e^{2 H{\\left(r,t \\right)}} & 0 & 0\\\\0 & 0 & r^{2} & 0\\\\0 & 0 & 0 & r^{2} \\sin^{2}{\\left(\\theta \\right)}\\end{matrix}\\right]$"
          },
          "metadata": {},
          "execution_count": 3
        }
      ],
      "source": [
        "t, r, theta, phi = symbols('t r \\\\theta \\phi')\n",
        "F, H = Function('F'), Function('H')\n",
        "chi = Coordinates(\"\\chi\", [t, r, theta, phi])\n",
        "Metric = diag(-exp(2*F(r,t)), exp(2*H(r,t)), r**2, r**2*sin(theta)**2)\n",
        "g = MetricTensor(\"g\", chi, Metric)\n",
        "g(All, All)"
      ]
    },
    {
      "cell_type": "code",
      "execution_count": 4,
      "metadata": {
        "id": "pO4O1OpWdnHw"
      },
      "outputs": [],
      "source": [
        "Ga = Christoffel(\"Ga\", g)\n",
        "Rm = Riemann('Rm', g)\n",
        "Ri = Ricci('Ri', g)\n",
        "G = Einstein(\"G\", Ri)"
      ]
    },
    {
      "cell_type": "code",
      "execution_count": 5,
      "metadata": {
        "colab": {
          "base_uri": "https://localhost:8080/",
          "height": 149
        },
        "id": "fNF7oDGWgl90",
        "outputId": "6d94cef3-1ef7-4654-85c2-9279365eb1e5"
      },
      "outputs": [
        {
          "output_type": "execute_result",
          "data": {
            "text/plain": [
              "Matrix([\n",
              "[(2*r*Derivative(H(r, t), r) + exp(2*H(r, t)) - 1)*exp(2*F(r, t) - 2*H(r, t))/r**2,                             2*Derivative(H(r, t), t)/r,                                                                                                                                                                                                                                                                                                                                                                                                                                     0,                                                                                                                                                                                                                                                                                                                                                                                                                                                      0],\n",
              "[                                                       2*Derivative(H(r, t), t)/r, (2*r*Derivative(F(r, t), r) - exp(2*H(r, t)) + 1)/r**2,                                                                                                                                                                                                                                                                                                                                                                                                                                     0,                                                                                                                                                                                                                                                                                                                                                                                                                                                      0],\n",
              "[                                                                                0,                                                      0, r**2*exp(-2*H(r, t))*Derivative(F(r, t), r)**2 - r**2*exp(-2*H(r, t))*Derivative(F(r, t), r)*Derivative(H(r, t), r) + r**2*exp(-2*H(r, t))*Derivative(F(r, t), (r, 2)) + r**2*exp(-2*F(r, t))*Derivative(F(r, t), t)*Derivative(H(r, t), t) - r**2*exp(-2*F(r, t))*Derivative(H(r, t), t)**2 - r**2*exp(-2*F(r, t))*Derivative(H(r, t), (t, 2)) + r*exp(-2*H(r, t))*Derivative(F(r, t), r) - r*exp(-2*H(r, t))*Derivative(H(r, t), r),                                                                                                                                                                                                                                                                                                                                                                                                                                                      0],\n",
              "[                                                                                0,                                                      0,                                                                                                                                                                                                                                                                                                                                                                                                                                     0, r*(r*exp(2*F(r, t))*Derivative(F(r, t), r)**2 - r*exp(2*F(r, t))*Derivative(F(r, t), r)*Derivative(H(r, t), r) + r*exp(2*F(r, t))*Derivative(F(r, t), (r, 2)) + r*exp(2*H(r, t))*Derivative(F(r, t), t)*Derivative(H(r, t), t) - r*exp(2*H(r, t))*Derivative(H(r, t), t)**2 - r*exp(2*H(r, t))*Derivative(H(r, t), (t, 2)) + exp(2*F(r, t))*Derivative(F(r, t), r) - exp(2*F(r, t))*Derivative(H(r, t), r))*exp(-2*F(r, t) - 2*H(r, t))*sin(\\theta)**2]])"
            ],
            "text/latex": "$\\displaystyle \\left[\\begin{matrix}\\frac{\\left(2 r \\frac{\\partial}{\\partial r} H{\\left(r,t \\right)} + e^{2 H{\\left(r,t \\right)}} - 1\\right) e^{2 F{\\left(r,t \\right)} - 2 H{\\left(r,t \\right)}}}{r^{2}} & \\frac{2 \\frac{\\partial}{\\partial t} H{\\left(r,t \\right)}}{r} & 0 & 0\\\\\\frac{2 \\frac{\\partial}{\\partial t} H{\\left(r,t \\right)}}{r} & \\frac{2 r \\frac{\\partial}{\\partial r} F{\\left(r,t \\right)} - e^{2 H{\\left(r,t \\right)}} + 1}{r^{2}} & 0 & 0\\\\0 & 0 & r^{2} e^{- 2 H{\\left(r,t \\right)}} \\left(\\frac{\\partial}{\\partial r} F{\\left(r,t \\right)}\\right)^{2} - r^{2} e^{- 2 H{\\left(r,t \\right)}} \\frac{\\partial}{\\partial r} F{\\left(r,t \\right)} \\frac{\\partial}{\\partial r} H{\\left(r,t \\right)} + r^{2} e^{- 2 H{\\left(r,t \\right)}} \\frac{\\partial^{2}}{\\partial r^{2}} F{\\left(r,t \\right)} + r^{2} e^{- 2 F{\\left(r,t \\right)}} \\frac{\\partial}{\\partial t} F{\\left(r,t \\right)} \\frac{\\partial}{\\partial t} H{\\left(r,t \\right)} - r^{2} e^{- 2 F{\\left(r,t \\right)}} \\left(\\frac{\\partial}{\\partial t} H{\\left(r,t \\right)}\\right)^{2} - r^{2} e^{- 2 F{\\left(r,t \\right)}} \\frac{\\partial^{2}}{\\partial t^{2}} H{\\left(r,t \\right)} + r e^{- 2 H{\\left(r,t \\right)}} \\frac{\\partial}{\\partial r} F{\\left(r,t \\right)} - r e^{- 2 H{\\left(r,t \\right)}} \\frac{\\partial}{\\partial r} H{\\left(r,t \\right)} & 0\\\\0 & 0 & 0 & r \\left(r e^{2 F{\\left(r,t \\right)}} \\left(\\frac{\\partial}{\\partial r} F{\\left(r,t \\right)}\\right)^{2} - r e^{2 F{\\left(r,t \\right)}} \\frac{\\partial}{\\partial r} F{\\left(r,t \\right)} \\frac{\\partial}{\\partial r} H{\\left(r,t \\right)} + r e^{2 F{\\left(r,t \\right)}} \\frac{\\partial^{2}}{\\partial r^{2}} F{\\left(r,t \\right)} + r e^{2 H{\\left(r,t \\right)}} \\frac{\\partial}{\\partial t} F{\\left(r,t \\right)} \\frac{\\partial}{\\partial t} H{\\left(r,t \\right)} - r e^{2 H{\\left(r,t \\right)}} \\left(\\frac{\\partial}{\\partial t} H{\\left(r,t \\right)}\\right)^{2} - r e^{2 H{\\left(r,t \\right)}} \\frac{\\partial^{2}}{\\partial t^{2}} H{\\left(r,t \\right)} + e^{2 F{\\left(r,t \\right)}} \\frac{\\partial}{\\partial r} F{\\left(r,t \\right)} - e^{2 F{\\left(r,t \\right)}} \\frac{\\partial}{\\partial r} H{\\left(r,t \\right)}\\right) e^{- 2 F{\\left(r,t \\right)} - 2 H{\\left(r,t \\right)}} \\sin^{2}{\\left(\\theta \\right)}\\end{matrix}\\right]$"
          },
          "metadata": {},
          "execution_count": 5
        }
      ],
      "source": [
        "G(All,All)"
      ]
    },
    {
      "cell_type": "code",
      "execution_count": 6,
      "metadata": {
        "colab": {
          "base_uri": "https://localhost:8080/",
          "height": 56
        },
        "id": "dfTNu8T-gpII",
        "outputId": "82aac7e8-962c-4c30-f3c7-163e1f3d308b"
      },
      "outputs": [
        {
          "output_type": "execute_result",
          "data": {
            "text/plain": [
              "(2*r*Derivative(H(r, t), r) + exp(2*H(r, t)) - 1)*exp(2*F(r, t) - 2*H(r, t))/r**2"
            ],
            "text/latex": "$\\displaystyle \\frac{\\left(2 r \\frac{\\partial}{\\partial r} H{\\left(r,t \\right)} + e^{2 H{\\left(r,t \\right)}} - 1\\right) e^{2 F{\\left(r,t \\right)} - 2 H{\\left(r,t \\right)}}}{r^{2}}$"
          },
          "metadata": {},
          "execution_count": 6
        }
      ],
      "source": [
        "G(1,1)"
      ]
    },
    {
      "cell_type": "code",
      "execution_count": 7,
      "metadata": {
        "colab": {
          "base_uri": "https://localhost:8080/",
          "height": 56
        },
        "id": "zfK7p7E3h5q2",
        "outputId": "4a2f494a-47f3-4da9-b3b5-51ffe31769d7"
      },
      "outputs": [
        {
          "output_type": "execute_result",
          "data": {
            "text/plain": [
              "(2*r*Derivative(F(r, t), r) - exp(2*H(r, t)) + 1)/r**2"
            ],
            "text/latex": "$\\displaystyle \\frac{2 r \\frac{\\partial}{\\partial r} F{\\left(r,t \\right)} - e^{2 H{\\left(r,t \\right)}} + 1}{r^{2}}$"
          },
          "metadata": {},
          "execution_count": 7
        }
      ],
      "source": [
        "G(2,2)"
      ]
    },
    {
      "cell_type": "code",
      "execution_count": 8,
      "metadata": {
        "colab": {
          "base_uri": "https://localhost:8080/",
          "height": 56
        },
        "id": "OOXHqaYnp-WT",
        "outputId": "a890eb8d-014f-4fd5-e7f2-e6f7d23c6d4a"
      },
      "outputs": [
        {
          "output_type": "execute_result",
          "data": {
            "text/plain": [
              "2*Derivative(H(r, t), t)/r"
            ],
            "text/latex": "$\\displaystyle \\frac{2 \\frac{\\partial}{\\partial t} H{\\left(r,t \\right)}}{r}$"
          },
          "metadata": {},
          "execution_count": 8
        }
      ],
      "source": [
        "G(1,2)"
      ]
    },
    {
      "cell_type": "code",
      "execution_count": 9,
      "metadata": {
        "colab": {
          "base_uri": "https://localhost:8080/",
          "height": 56
        },
        "id": "r5DsNt5yqBZN",
        "outputId": "e57ff78e-c231-4828-e001-8c0653e0e989"
      },
      "outputs": [
        {
          "output_type": "execute_result",
          "data": {
            "text/plain": [
              "2*Derivative(H(r, t), t)/r"
            ],
            "text/latex": "$\\displaystyle \\frac{2 \\frac{\\partial}{\\partial t} H{\\left(r,t \\right)}}{r}$"
          },
          "metadata": {},
          "execution_count": 9
        }
      ],
      "source": [
        "G(2,1)"
      ]
    },
    {
      "cell_type": "code",
      "execution_count": 10,
      "metadata": {
        "colab": {
          "base_uri": "https://localhost:8080/",
          "height": 68
        },
        "id": "CiTXd1TrqCyH",
        "outputId": "16356ca3-98b2-43d3-b62a-0f966281493e"
      },
      "outputs": [
        {
          "output_type": "execute_result",
          "data": {
            "text/plain": [
              "r*(r*(Derivative(F(r, t), t)*Derivative(H(r, t), t) - Derivative(H(r, t), t)**2 - Derivative(H(r, t), (t, 2)))*exp(2*H(r, t)) + (r*Derivative(F(r, t), r)**2 - r*Derivative(F(r, t), r)*Derivative(H(r, t), r) + r*Derivative(F(r, t), (r, 2)) + Derivative(F(r, t), r) - Derivative(H(r, t), r))*exp(2*F(r, t)))*exp(-2*F(r, t) - 2*H(r, t))"
            ],
            "text/latex": "$\\displaystyle r \\left(r \\left(\\frac{\\partial}{\\partial t} F{\\left(r,t \\right)} \\frac{\\partial}{\\partial t} H{\\left(r,t \\right)} - \\left(\\frac{\\partial}{\\partial t} H{\\left(r,t \\right)}\\right)^{2} - \\frac{\\partial^{2}}{\\partial t^{2}} H{\\left(r,t \\right)}\\right) e^{2 H{\\left(r,t \\right)}} + \\left(r \\left(\\frac{\\partial}{\\partial r} F{\\left(r,t \\right)}\\right)^{2} - r \\frac{\\partial}{\\partial r} F{\\left(r,t \\right)} \\frac{\\partial}{\\partial r} H{\\left(r,t \\right)} + r \\frac{\\partial^{2}}{\\partial r^{2}} F{\\left(r,t \\right)} + \\frac{\\partial}{\\partial r} F{\\left(r,t \\right)} - \\frac{\\partial}{\\partial r} H{\\left(r,t \\right)}\\right) e^{2 F{\\left(r,t \\right)}}\\right) e^{- 2 F{\\left(r,t \\right)} - 2 H{\\left(r,t \\right)}}$"
          },
          "metadata": {},
          "execution_count": 10
        }
      ],
      "source": [
        "G(3,3).simplify()"
      ]
    },
    {
      "cell_type": "code",
      "execution_count": 11,
      "metadata": {
        "colab": {
          "base_uri": "https://localhost:8080/",
          "height": 88
        },
        "id": "rQ4h0kLdqHPh",
        "outputId": "32e752fc-c49d-4159-b6e2-60b070d023c0"
      },
      "outputs": [
        {
          "output_type": "execute_result",
          "data": {
            "text/plain": [
              "r*(r*exp(2*F(r, t))*Derivative(F(r, t), r)**2 - r*exp(2*F(r, t))*Derivative(F(r, t), r)*Derivative(H(r, t), r) + r*exp(2*F(r, t))*Derivative(F(r, t), (r, 2)) + r*exp(2*H(r, t))*Derivative(F(r, t), t)*Derivative(H(r, t), t) - r*exp(2*H(r, t))*Derivative(H(r, t), t)**2 - r*exp(2*H(r, t))*Derivative(H(r, t), (t, 2)) + exp(2*F(r, t))*Derivative(F(r, t), r) - exp(2*F(r, t))*Derivative(H(r, t), r))*exp(-2*F(r, t) - 2*H(r, t))*sin(\\theta)**2"
            ],
            "text/latex": "$\\displaystyle r \\left(r e^{2 F{\\left(r,t \\right)}} \\left(\\frac{\\partial}{\\partial r} F{\\left(r,t \\right)}\\right)^{2} - r e^{2 F{\\left(r,t \\right)}} \\frac{\\partial}{\\partial r} F{\\left(r,t \\right)} \\frac{\\partial}{\\partial r} H{\\left(r,t \\right)} + r e^{2 F{\\left(r,t \\right)}} \\frac{\\partial^{2}}{\\partial r^{2}} F{\\left(r,t \\right)} + r e^{2 H{\\left(r,t \\right)}} \\frac{\\partial}{\\partial t} F{\\left(r,t \\right)} \\frac{\\partial}{\\partial t} H{\\left(r,t \\right)} - r e^{2 H{\\left(r,t \\right)}} \\left(\\frac{\\partial}{\\partial t} H{\\left(r,t \\right)}\\right)^{2} - r e^{2 H{\\left(r,t \\right)}} \\frac{\\partial^{2}}{\\partial t^{2}} H{\\left(r,t \\right)} + e^{2 F{\\left(r,t \\right)}} \\frac{\\partial}{\\partial r} F{\\left(r,t \\right)} - e^{2 F{\\left(r,t \\right)}} \\frac{\\partial}{\\partial r} H{\\left(r,t \\right)}\\right) e^{- 2 F{\\left(r,t \\right)} - 2 H{\\left(r,t \\right)}} \\sin^{2}{\\left(\\theta \\right)}$"
          },
          "metadata": {},
          "execution_count": 11
        }
      ],
      "source": [
        "G(4,4).simplify()"
      ]
    },
    {
      "cell_type": "markdown",
      "metadata": {
        "id": "FoHSsUU-qakf"
      },
      "source": [
        "2. **The Bianchi models are a large family of homogeneus but anisotropic cosmological models.**\n",
        " **a) Compute the components of the Einstein's field equations.**"
      ]
    },
    {
      "cell_type": "code",
      "execution_count": 12,
      "metadata": {
        "colab": {
          "base_uri": "https://localhost:8080/",
          "height": 98
        },
        "id": "I56vcJpbqMnU",
        "outputId": "ff1f4c60-b843-4bbf-ef4b-f4c615ca9f35"
      },
      "outputs": [
        {
          "output_type": "execute_result",
          "data": {
            "text/plain": [
              "Matrix([\n",
              "[1,        0,                         0,        0],\n",
              "[0, -A(t)**2,                         0,        0],\n",
              "[0,        0, -B(t)**2*exp(-2*\\alpha*x),        0],\n",
              "[0,        0,                         0, -C(t)**2]])"
            ],
            "text/latex": "$\\displaystyle \\left[\\begin{matrix}1 & 0 & 0 & 0\\\\0 & - A^{2}{\\left(t \\right)} & 0 & 0\\\\0 & 0 & - B^{2}{\\left(t \\right)} e^{- 2 \\alpha x} & 0\\\\0 & 0 & 0 & - C^{2}{\\left(t \\right)}\\end{matrix}\\right]$"
          },
          "metadata": {},
          "execution_count": 12
        }
      ],
      "source": [
        "t, x, y, z, alfa = symbols('t x y z \\\\alpha')\n",
        "A, B, C = Function('A'), Function('B'), Function('C')\n",
        "chi = Coordinates(\"\\chi\", [t, x, y, z])\n",
        "Metric = diag(1, -A(t)**2, -B(t)**2*exp(-2*alfa*x), -C(t)**2)\n",
        "g = MetricTensor(\"g\", chi, Metric)\n",
        "g(All, All)"
      ]
    },
    {
      "cell_type": "code",
      "execution_count": 13,
      "metadata": {
        "id": "QYaO1PPPsEwo"
      },
      "outputs": [],
      "source": [
        "Ga = Christoffel(\"Ga\", g)\n",
        "Rm = Riemann('Rm', g)\n",
        "Ri = Ricci('Ri', g)\n",
        "G = Einstein(\"G\", Ri)\n",
        "G_ = G(All, -All)"
      ]
    },
    {
      "cell_type": "code",
      "execution_count": 14,
      "metadata": {
        "id": "oYdWWRbzsK9u"
      },
      "outputs": [],
      "source": [
        "omega, rho, gamma, delta = Function(\"\\omega\"), Function(\"\\\\rho\"), Function(\"\\gamma\"), Function(\"\\delta\")\n",
        "Te_m = diag(rho(t), -omega(t)*rho(t), -(omega(t)+delta(t))*rho(t), -(omega(t)+gamma(t))*rho(t))"
      ]
    },
    {
      "cell_type": "code",
      "execution_count": 15,
      "metadata": {
        "colab": {
          "base_uri": "https://localhost:8080/",
          "height": 98
        },
        "id": "TBFPCzUlvdQ_",
        "outputId": "f149b83a-7006-498f-f491-782beba5eec9"
      },
      "outputs": [
        {
          "output_type": "execute_result",
          "data": {
            "text/plain": [
              "Matrix([\n",
              "[\\rho(t),                  0,                                0,                                0],\n",
              "[      0, -\\omega(t)*\\rho(t),                                0,                                0],\n",
              "[      0,                  0, (-\\delta(t) - \\omega(t))*\\rho(t),                                0],\n",
              "[      0,                  0,                                0, (-\\gamma(t) - \\omega(t))*\\rho(t)]])"
            ],
            "text/latex": "$\\displaystyle \\left[\\begin{matrix}\\rho{\\left(t \\right)} & 0 & 0 & 0\\\\0 & - \\omega{\\left(t \\right)} \\rho{\\left(t \\right)} & 0 & 0\\\\0 & 0 & \\left(- \\delta{\\left(t \\right)} - \\omega{\\left(t \\right)}\\right) \\rho{\\left(t \\right)} & 0\\\\0 & 0 & 0 & \\left(- \\gamma{\\left(t \\right)} - \\omega{\\left(t \\right)}\\right) \\rho{\\left(t \\right)}\\end{matrix}\\right]$"
          },
          "metadata": {},
          "execution_count": 15
        }
      ],
      "source": [
        "Te_m"
      ]
    },
    {
      "cell_type": "code",
      "execution_count": 16,
      "metadata": {
        "colab": {
          "base_uri": "https://localhost:8080/",
          "height": 60
        },
        "id": "bhfb8xB2ve0N",
        "outputId": "921a3ff1-6384-48db-db0c-27b9029cdeb6"
      },
      "outputs": [
        {
          "output_type": "execute_result",
          "data": {
            "text/plain": [
              "-\\alpha**2/A(t)**2 - \\rho(t) + Derivative(B(t), t)*Derivative(C(t), t)/(B(t)*C(t)) + Derivative(A(t), t)*Derivative(C(t), t)/(A(t)*C(t)) + Derivative(A(t), t)*Derivative(B(t), t)/(A(t)*B(t))"
            ],
            "text/latex": "$\\displaystyle - \\frac{\\alpha^{2}}{A^{2}{\\left(t \\right)}} - \\rho{\\left(t \\right)} + \\frac{\\frac{d}{d t} B{\\left(t \\right)} \\frac{d}{d t} C{\\left(t \\right)}}{B{\\left(t \\right)} C{\\left(t \\right)}} + \\frac{\\frac{d}{d t} A{\\left(t \\right)} \\frac{d}{d t} C{\\left(t \\right)}}{A{\\left(t \\right)} C{\\left(t \\right)}} + \\frac{\\frac{d}{d t} A{\\left(t \\right)} \\frac{d}{d t} B{\\left(t \\right)}}{A{\\left(t \\right)} B{\\left(t \\right)}}$"
          },
          "metadata": {},
          "execution_count": 16
        }
      ],
      "source": [
        "F_5 = G_[0, 0] - Te_m[0, 0] #Ecuación de Einstein con 8piG=1\n",
        "F_5.simplify()"
      ]
    },
    {
      "cell_type": "code",
      "execution_count": 17,
      "metadata": {
        "colab": {
          "base_uri": "https://localhost:8080/",
          "height": 63
        },
        "id": "gmCXvJ9kx45Y",
        "outputId": "1c40a8fd-91be-435e-b522-c3c2f932c4df"
      },
      "outputs": [
        {
          "output_type": "execute_result",
          "data": {
            "text/plain": [
              "\\omega(t)*\\rho(t) + Derivative(C(t), (t, 2))/C(t) + Derivative(B(t), (t, 2))/B(t) + Derivative(B(t), t)*Derivative(C(t), t)/(B(t)*C(t))"
            ],
            "text/latex": "$\\displaystyle \\omega{\\left(t \\right)} \\rho{\\left(t \\right)} + \\frac{\\frac{d^{2}}{d t^{2}} C{\\left(t \\right)}}{C{\\left(t \\right)}} + \\frac{\\frac{d^{2}}{d t^{2}} B{\\left(t \\right)}}{B{\\left(t \\right)}} + \\frac{\\frac{d}{d t} B{\\left(t \\right)} \\frac{d}{d t} C{\\left(t \\right)}}{B{\\left(t \\right)} C{\\left(t \\right)}}$"
          },
          "metadata": {},
          "execution_count": 17
        }
      ],
      "source": [
        "F_6 = G_[1, 1] - Te_m[1, 1]\n",
        "F_6.simplify()"
      ]
    },
    {
      "cell_type": "code",
      "execution_count": 18,
      "metadata": {
        "colab": {
          "base_uri": "https://localhost:8080/",
          "height": 63
        },
        "id": "o0WijxG9y813",
        "outputId": "896b695b-805b-499c-b89d-2a4b401b27d5"
      },
      "outputs": [
        {
          "output_type": "execute_result",
          "data": {
            "text/plain": [
              "\\delta(t)*\\rho(t) + \\omega(t)*\\rho(t) + Derivative(C(t), (t, 2))/C(t) + Derivative(A(t), (t, 2))/A(t) + Derivative(A(t), t)*Derivative(C(t), t)/(A(t)*C(t))"
            ],
            "text/latex": "$\\displaystyle \\delta{\\left(t \\right)} \\rho{\\left(t \\right)} + \\omega{\\left(t \\right)} \\rho{\\left(t \\right)} + \\frac{\\frac{d^{2}}{d t^{2}} C{\\left(t \\right)}}{C{\\left(t \\right)}} + \\frac{\\frac{d^{2}}{d t^{2}} A{\\left(t \\right)}}{A{\\left(t \\right)}} + \\frac{\\frac{d}{d t} A{\\left(t \\right)} \\frac{d}{d t} C{\\left(t \\right)}}{A{\\left(t \\right)} C{\\left(t \\right)}}$"
          },
          "metadata": {},
          "execution_count": 18
        }
      ],
      "source": [
        "F_7 = G_[2, 2] - Te_m[2, 2]\n",
        "F_7.simplify()"
      ]
    },
    {
      "cell_type": "code",
      "execution_count": 19,
      "metadata": {
        "colab": {
          "base_uri": "https://localhost:8080/",
          "height": 63
        },
        "id": "c8dfgCKHzCNs",
        "outputId": "bde01455-ed7d-4d33-ed7f-0146c9f56ae9"
      },
      "outputs": [
        {
          "output_type": "execute_result",
          "data": {
            "text/plain": [
              "-\\alpha**2/A(t)**2 + \\gamma(t)*\\rho(t) + \\omega(t)*\\rho(t) + Derivative(B(t), (t, 2))/B(t) + Derivative(A(t), (t, 2))/A(t) + Derivative(A(t), t)*Derivative(B(t), t)/(A(t)*B(t))"
            ],
            "text/latex": "$\\displaystyle - \\frac{\\alpha^{2}}{A^{2}{\\left(t \\right)}} + \\gamma{\\left(t \\right)} \\rho{\\left(t \\right)} + \\omega{\\left(t \\right)} \\rho{\\left(t \\right)} + \\frac{\\frac{d^{2}}{d t^{2}} B{\\left(t \\right)}}{B{\\left(t \\right)}} + \\frac{\\frac{d^{2}}{d t^{2}} A{\\left(t \\right)}}{A{\\left(t \\right)}} + \\frac{\\frac{d}{d t} A{\\left(t \\right)} \\frac{d}{d t} B{\\left(t \\right)}}{A{\\left(t \\right)} B{\\left(t \\right)}}$"
          },
          "metadata": {},
          "execution_count": 19
        }
      ],
      "source": [
        "F_8 = G_[3, 3] - Te_m[3, 3]\n",
        "F_8.simplify()"
      ]
    },
    {
      "cell_type": "code",
      "execution_count": 20,
      "metadata": {
        "colab": {
          "base_uri": "https://localhost:8080/",
          "height": 60
        },
        "id": "GhH0bnFVzRlq",
        "outputId": "0b950756-c47a-41f3-b809-63e47c5cd14b"
      },
      "outputs": [
        {
          "output_type": "execute_result",
          "data": {
            "text/plain": [
              "\\alpha*Derivative(B(t), t)/B(t) - \\alpha*Derivative(A(t), t)/A(t)"
            ],
            "text/latex": "$\\displaystyle \\frac{\\alpha \\frac{d}{d t} B{\\left(t \\right)}}{B{\\left(t \\right)}} - \\frac{\\alpha \\frac{d}{d t} A{\\left(t \\right)}}{A{\\left(t \\right)}}$"
          },
          "metadata": {},
          "execution_count": 20
        }
      ],
      "source": [
        "F_9 = G_[1, 0] - Te_m[1, 0]\n",
        "F_9.simplify()"
      ]
    },
    {
      "cell_type": "markdown",
      "metadata": {
        "id": "EyulqCyq2d8z"
      },
      "source": [
        " **b) Show the solution of Eqn. (9) gives $B=c_1A$, where $c_1$ is the positive constant of integration.**"
      ]
    },
    {
      "cell_type": "code",
      "execution_count": 21,
      "metadata": {
        "colab": {
          "base_uri": "https://localhost:8080/",
          "height": 39
        },
        "id": "uo7xTLPu2fdc",
        "outputId": "573f09af-0e95-481a-d051-9ad763588f40"
      },
      "outputs": [
        {
          "output_type": "execute_result",
          "data": {
            "text/plain": [
              "Eq(B(t), C1*A(t))"
            ],
            "text/latex": "$\\displaystyle B{\\left(t \\right)} = C_{1} A{\\left(t \\right)}$"
          },
          "metadata": {},
          "execution_count": 21
        }
      ],
      "source": [
        "diffeq = Eq(F_9, 0)\n",
        "dsolve(diffeq, B(t))"
      ]
    },
    {
      "cell_type": "markdown",
      "metadata": {
        "id": "3B7BKm5t5Zyw"
      },
      "source": [
        "**c)  Substitute this solution into (6), and subtract the result from (7), to show that the skewness parameter on the $y$ axis is null, i.e. $\\delta=0$, which means that the directional EoS parameters, hence the pressures, on the $x$ and $y$ axes are equal.**"
      ]
    },
    {
      "cell_type": "code",
      "execution_count": 22,
      "metadata": {
        "colab": {
          "base_uri": "https://localhost:8080/",
          "height": 39
        },
        "id": "vGuYG6rZ0raE",
        "outputId": "daf0b94f-0e38-4348-c78e-6866e3dc35e4"
      },
      "outputs": [
        {
          "output_type": "execute_result",
          "data": {
            "text/plain": [
              "-\\delta(t)*\\rho(t)"
            ],
            "text/latex": "$\\displaystyle - \\delta{\\left(t \\right)} \\rho{\\left(t \\right)}$"
          },
          "metadata": {},
          "execution_count": 22
        }
      ],
      "source": [
        "(F_6.subs(B(t), A(t)) - F_7).simplify()"
      ]
    },
    {
      "cell_type": "markdown",
      "metadata": {
        "id": "2brQYG6X-vJx"
      },
      "source": [
        "## Parte B\n",
        "Using the FRW metric.\n",
        "1. **Show that adding $\\Gamma_{abc}$ to $\\Gamma_{bac}$ gives:**\n",
        "$$\n",
        "g_{ab,c}=\\Gamma_{abc}+\\Gamma_{bac}.\n",
        "$$"
      ]
    },
    {
      "cell_type": "code",
      "execution_count": 23,
      "metadata": {
        "colab": {
          "base_uri": "https://localhost:8080/",
          "height": 104
        },
        "id": "wM5AL7f4-gCm",
        "outputId": "6d054b2c-5a37-479c-b02b-ce7723f43ed2"
      },
      "outputs": [
        {
          "output_type": "execute_result",
          "data": {
            "text/plain": [
              "Matrix([\n",
              "[1,                     0,            0,                           0],\n",
              "[0, a(t)**2/(-k*r**2 + 1),            0,                           0],\n",
              "[0,                     0, r**2*a(t)**2,                           0],\n",
              "[0,                     0,            0, r**2*a(t)**2*sin(\\theta)**2]])"
            ],
            "text/latex": "$\\displaystyle \\left[\\begin{matrix}1 & 0 & 0 & 0\\\\0 & \\frac{a^{2}{\\left(t \\right)}}{- k r^{2} + 1} & 0 & 0\\\\0 & 0 & r^{2} a^{2}{\\left(t \\right)} & 0\\\\0 & 0 & 0 & r^{2} a^{2}{\\left(t \\right)} \\sin^{2}{\\left(\\theta \\right)}\\end{matrix}\\right]$"
          },
          "metadata": {},
          "execution_count": 23
        }
      ],
      "source": [
        "t, r, theta, phi, k = symbols('t r \\\\theta \\phi k')\n",
        "a = Function(\"a\")\n",
        "chi = Coordinates(\"\\chi\", [t, r, theta, phi])\n",
        "Metric = diag(1, a(t)**2/(1-k*r**2), a(t)**2*r**2, a(t)**2*r**2*sin(theta)**2)\n",
        "g = MetricTensor(\"g\", chi, Metric)\n",
        "g(All, All)"
      ]
    },
    {
      "cell_type": "code",
      "execution_count": 24,
      "metadata": {
        "id": "GF8YKuB8AyHE"
      },
      "outputs": [],
      "source": [
        "Ga = Christoffel(\"Ga\", g)\n",
        "Rm = Riemann('Rm', g)\n",
        "Ri = Ricci('Ri', g)\n",
        "G = Einstein(\"G\", Ri)"
      ]
    },
    {
      "cell_type": "code",
      "execution_count": 25,
      "metadata": {
        "colab": {
          "base_uri": "https://localhost:8080/",
          "height": 106
        },
        "id": "gvL5qZoIA35E",
        "outputId": "efee2069-a8e3-454c-c11c-7b62e56b7810"
      },
      "outputs": [
        {
          "output_type": "execute_result",
          "data": {
            "text/plain": [
              "Matrix([\n",
              "[0,                                        0,                               0,                                              0],\n",
              "[0, -2*a(t)*Derivative(a(t), t)/(k*r**2 - 1),                               0,                                              0],\n",
              "[0,                                        0, 2*r**2*a(t)*Derivative(a(t), t),                                              0],\n",
              "[0,                                        0,                               0, 2*r**2*a(t)*sin(\\theta)**2*Derivative(a(t), t)]])"
            ],
            "text/latex": "$\\displaystyle \\left[\\begin{matrix}0 & 0 & 0 & 0\\\\0 & - \\frac{2 a{\\left(t \\right)} \\frac{d}{d t} a{\\left(t \\right)}}{k r^{2} - 1} & 0 & 0\\\\0 & 0 & 2 r^{2} a{\\left(t \\right)} \\frac{d}{d t} a{\\left(t \\right)} & 0\\\\0 & 0 & 0 & 2 r^{2} a{\\left(t \\right)} \\sin^{2}{\\left(\\theta \\right)} \\frac{d}{d t} a{\\left(t \\right)}\\end{matrix}\\right]$"
          },
          "metadata": {},
          "execution_count": 25
        }
      ],
      "source": [
        "Ga(All,All,1) + Ga(All,All,1).T # t"
      ]
    },
    {
      "cell_type": "code",
      "execution_count": 26,
      "metadata": {
        "colab": {
          "base_uri": "https://localhost:8080/",
          "height": 106
        },
        "id": "WBxZ95Q2BCZa",
        "outputId": "7eb8e24d-221d-4607-f9a3-32cd6bc8630d"
      },
      "outputs": [
        {
          "output_type": "execute_result",
          "data": {
            "text/plain": [
              "Matrix([\n",
              "[0,                                        0,                               0,                                              0],\n",
              "[0, 2*a(t)*Derivative(a(t), t)/(-k*r**2 + 1),                               0,                                              0],\n",
              "[0,                                        0, 2*r**2*a(t)*Derivative(a(t), t),                                              0],\n",
              "[0,                                        0,                               0, 2*r**2*a(t)*sin(\\theta)**2*Derivative(a(t), t)]])"
            ],
            "text/latex": "$\\displaystyle \\left[\\begin{matrix}0 & 0 & 0 & 0\\\\0 & \\frac{2 a{\\left(t \\right)} \\frac{d}{d t} a{\\left(t \\right)}}{- k r^{2} + 1} & 0 & 0\\\\0 & 0 & 2 r^{2} a{\\left(t \\right)} \\frac{d}{d t} a{\\left(t \\right)} & 0\\\\0 & 0 & 0 & 2 r^{2} a{\\left(t \\right)} \\sin^{2}{\\left(\\theta \\right)} \\frac{d}{d t} a{\\left(t \\right)}\\end{matrix}\\right]$"
          },
          "metadata": {},
          "execution_count": 26
        }
      ],
      "source": [
        "g(All,All).diff(t)"
      ]
    },
    {
      "cell_type": "code",
      "execution_count": 27,
      "metadata": {
        "colab": {
          "base_uri": "https://localhost:8080/",
          "height": 108
        },
        "id": "t6fmynJ1CLlB",
        "outputId": "dc8a4976-abc9-498d-c588-3e3c3e5e9ba9"
      },
      "outputs": [
        {
          "output_type": "execute_result",
          "data": {
            "text/plain": [
              "Matrix([\n",
              "[0,                             0,           0,                          0],\n",
              "[0, 2*k*r*a(t)**2/(k*r**2 - 1)**2,           0,                          0],\n",
              "[0,                             0, 2*r*a(t)**2,                          0],\n",
              "[0,                             0,           0, 2*r*a(t)**2*sin(\\theta)**2]])"
            ],
            "text/latex": "$\\displaystyle \\left[\\begin{matrix}0 & 0 & 0 & 0\\\\0 & \\frac{2 k r a^{2}{\\left(t \\right)}}{\\left(k r^{2} - 1\\right)^{2}} & 0 & 0\\\\0 & 0 & 2 r a^{2}{\\left(t \\right)} & 0\\\\0 & 0 & 0 & 2 r a^{2}{\\left(t \\right)} \\sin^{2}{\\left(\\theta \\right)}\\end{matrix}\\right]$"
          },
          "metadata": {},
          "execution_count": 27
        }
      ],
      "source": [
        "Ga(All,All,2) + Ga(All,All,2).T # r"
      ]
    },
    {
      "cell_type": "code",
      "execution_count": 28,
      "metadata": {
        "colab": {
          "base_uri": "https://localhost:8080/",
          "height": 108
        },
        "id": "3cMVoHxoDG_3",
        "outputId": "3f3f9c95-4309-4902-d5c0-6ef7d2450e5c"
      },
      "outputs": [
        {
          "output_type": "execute_result",
          "data": {
            "text/plain": [
              "Matrix([\n",
              "[0,                              0,           0,                          0],\n",
              "[0, 2*k*r*a(t)**2/(-k*r**2 + 1)**2,           0,                          0],\n",
              "[0,                              0, 2*r*a(t)**2,                          0],\n",
              "[0,                              0,           0, 2*r*a(t)**2*sin(\\theta)**2]])"
            ],
            "text/latex": "$\\displaystyle \\left[\\begin{matrix}0 & 0 & 0 & 0\\\\0 & \\frac{2 k r a^{2}{\\left(t \\right)}}{\\left(- k r^{2} + 1\\right)^{2}} & 0 & 0\\\\0 & 0 & 2 r a^{2}{\\left(t \\right)} & 0\\\\0 & 0 & 0 & 2 r a^{2}{\\left(t \\right)} \\sin^{2}{\\left(\\theta \\right)}\\end{matrix}\\right]$"
          },
          "metadata": {},
          "execution_count": 28
        }
      ],
      "source": [
        "g(All,All).diff(r)"
      ]
    },
    {
      "cell_type": "code",
      "execution_count": 29,
      "metadata": {
        "colab": {
          "base_uri": "https://localhost:8080/",
          "height": 98
        },
        "id": "lU_bHuaPDJNy",
        "outputId": "8409b799-d776-49a4-b05d-793a7f2a18e7"
      },
      "outputs": [
        {
          "output_type": "execute_result",
          "data": {
            "text/plain": [
              "Matrix([\n",
              "[0, 0, 0,                          0],\n",
              "[0, 0, 0,                          0],\n",
              "[0, 0, 0,                          0],\n",
              "[0, 0, 0, r**2*a(t)**2*sin(2*\\theta)]])"
            ],
            "text/latex": "$\\displaystyle \\left[\\begin{matrix}0 & 0 & 0 & 0\\\\0 & 0 & 0 & 0\\\\0 & 0 & 0 & 0\\\\0 & 0 & 0 & r^{2} a^{2}{\\left(t \\right)} \\sin{\\left(2 \\theta \\right)}\\end{matrix}\\right]$"
          },
          "metadata": {},
          "execution_count": 29
        }
      ],
      "source": [
        "Ga(All,All,3) + Ga(All,All,3).T # theta"
      ]
    },
    {
      "cell_type": "code",
      "execution_count": 30,
      "metadata": {
        "colab": {
          "base_uri": "https://localhost:8080/",
          "height": 98
        },
        "id": "n5FugBdLETWG",
        "outputId": "2f701a1c-9303-4de2-b5f2-631e11f11ca2"
      },
      "outputs": [
        {
          "output_type": "execute_result",
          "data": {
            "text/plain": [
              "Matrix([\n",
              "[0, 0, 0,                                      0],\n",
              "[0, 0, 0,                                      0],\n",
              "[0, 0, 0,                                      0],\n",
              "[0, 0, 0, 2*r**2*a(t)**2*sin(\\theta)*cos(\\theta)]])"
            ],
            "text/latex": "$\\displaystyle \\left[\\begin{matrix}0 & 0 & 0 & 0\\\\0 & 0 & 0 & 0\\\\0 & 0 & 0 & 0\\\\0 & 0 & 0 & 2 r^{2} a^{2}{\\left(t \\right)} \\sin{\\left(\\theta \\right)} \\cos{\\left(\\theta \\right)}\\end{matrix}\\right]$"
          },
          "metadata": {},
          "execution_count": 30
        }
      ],
      "source": [
        "g(All,All).diff(theta)"
      ]
    },
    {
      "cell_type": "code",
      "execution_count": 31,
      "metadata": {
        "colab": {
          "base_uri": "https://localhost:8080/",
          "height": 98
        },
        "id": "BWPBAqoNEWbh",
        "outputId": "c7ade1b5-f911-489e-cc50-93d3d8e3bdb4"
      },
      "outputs": [
        {
          "output_type": "execute_result",
          "data": {
            "text/plain": [
              "Matrix([\n",
              "[0, 0, 0, 0],\n",
              "[0, 0, 0, 0],\n",
              "[0, 0, 0, 0],\n",
              "[0, 0, 0, 0]])"
            ],
            "text/latex": "$\\displaystyle \\left[\\begin{matrix}0 & 0 & 0 & 0\\\\0 & 0 & 0 & 0\\\\0 & 0 & 0 & 0\\\\0 & 0 & 0 & 0\\end{matrix}\\right]$"
          },
          "metadata": {},
          "execution_count": 31
        }
      ],
      "source": [
        "Ga(All,All,4) + Ga(All,All,4).T # phi\n"
      ]
    },
    {
      "cell_type": "code",
      "execution_count": 32,
      "metadata": {
        "colab": {
          "base_uri": "https://localhost:8080/",
          "height": 98
        },
        "id": "81LXFTmJEwYv",
        "outputId": "82a19bd3-3322-4fb8-bcad-8921f433aae6"
      },
      "outputs": [
        {
          "output_type": "execute_result",
          "data": {
            "text/plain": [
              "Matrix([\n",
              "[0, 0, 0, 0],\n",
              "[0, 0, 0, 0],\n",
              "[0, 0, 0, 0],\n",
              "[0, 0, 0, 0]])"
            ],
            "text/latex": "$\\displaystyle \\left[\\begin{matrix}0 & 0 & 0 & 0\\\\0 & 0 & 0 & 0\\\\0 & 0 & 0 & 0\\\\0 & 0 & 0 & 0\\end{matrix}\\right]$"
          },
          "metadata": {},
          "execution_count": 32
        }
      ],
      "source": [
        "g(All,All).diff(phi)"
      ]
    },
    {
      "cell_type": "markdown",
      "metadata": {
        "id": "8ThsSgsZBahh"
      },
      "source": [
        "2. **Show that the derivative of the determinant $g$, of $g_{ab}$, is:**\n",
        "$$\n",
        "g_{,c}=gg^{ab}g_{ab,c}=2g\\Gamma^{a}_{\\; ac}.\n",
        "$$"
      ]
    },
    {
      "cell_type": "code",
      "execution_count": 33,
      "metadata": {
        "colab": {
          "base_uri": "https://localhost:8080/",
          "height": 63
        },
        "id": "xnADhKfjEzFz",
        "outputId": "5ab9263b-63eb-4f91-aa07-89c67fed408a"
      },
      "outputs": [
        {
          "output_type": "execute_result",
          "data": {
            "text/plain": [
              "2*r**3*(-k*r**2 + 2)*a(t)**6*sin(\\theta)**2/(k*r**2 - 1)**2"
            ],
            "text/latex": "$\\displaystyle \\frac{2 r^{3} \\left(- k r^{2} + 2\\right) a^{6}{\\left(t \\right)} \\sin^{2}{\\left(\\theta \\right)}}{\\left(k r^{2} - 1\\right)^{2}}$"
          },
          "metadata": {},
          "execution_count": 33
        }
      ],
      "source": [
        "det_g = g(All, All).det()\n",
        "det_g.diff(r).simplify()"
      ]
    },
    {
      "cell_type": "code",
      "execution_count": 34,
      "metadata": {
        "colab": {
          "base_uri": "https://localhost:8080/",
          "height": 60
        },
        "id": "kgT7qykAC_nA",
        "outputId": "e08d889e-0365-44ae-84fe-eb4922877a5d"
      },
      "outputs": [
        {
          "output_type": "execute_result",
          "data": {
            "text/plain": [
              "2*r**4*(k*r**2 - 2)*a(t)**6*sin(\\theta)**2/((-k*r**2 + 1)*(k*r**3 - r))"
            ],
            "text/latex": "$\\displaystyle \\frac{2 r^{4} \\left(k r^{2} - 2\\right) a^{6}{\\left(t \\right)} \\sin^{2}{\\left(\\theta \\right)}}{\\left(- k r^{2} + 1\\right) \\left(k r^{3} - r\\right)}$"
          },
          "metadata": {},
          "execution_count": 34
        }
      ],
      "source": [
        "Ga_trace = Ga(-1, 1, 2) + Ga(-2, 2, 2) + Ga(-3, 3, 2) + Ga(-4, 4, 2)\n",
        "2*det_g*Ga_trace.simplify()"
      ]
    },
    {
      "cell_type": "code",
      "execution_count": 35,
      "metadata": {
        "colab": {
          "base_uri": "https://localhost:8080/",
          "height": 55
        },
        "id": "GSWclYi-EI4V",
        "outputId": "53258f53-0914-4d7d-c68e-d1009e91dae7"
      },
      "outputs": [
        {
          "output_type": "execute_result",
          "data": {
            "text/plain": [
              "r**4*a(t)**6*sin(2*\\theta)/(-k*r**2 + 1)"
            ],
            "text/latex": "$\\displaystyle \\frac{r^{4} a^{6}{\\left(t \\right)} \\sin{\\left(2 \\theta \\right)}}{- k r^{2} + 1}$"
          },
          "metadata": {},
          "execution_count": 35
        }
      ],
      "source": [
        "det_g.diff(theta).trigsimp()"
      ]
    },
    {
      "cell_type": "code",
      "execution_count": 36,
      "metadata": {
        "colab": {
          "base_uri": "https://localhost:8080/",
          "height": 55
        },
        "id": "avcHDEjUizgX",
        "outputId": "82a99e72-2f68-4602-ba11-df3be4a81714"
      },
      "outputs": [
        {
          "output_type": "execute_result",
          "data": {
            "text/plain": [
              "r**4*a(t)**6*sin(2*\\theta)/(-k*r**2 + 1)"
            ],
            "text/latex": "$\\displaystyle \\frac{r^{4} a^{6}{\\left(t \\right)} \\sin{\\left(2 \\theta \\right)}}{- k r^{2} + 1}$"
          },
          "metadata": {},
          "execution_count": 36
        }
      ],
      "source": [
        "Ga_trace = Ga(-1, 1, 3) + Ga(-2, 2, 3) + Ga(-3, 3, 3) + Ga(-4, 4, 3)\n",
        "2*det_g*Ga_trace"
      ]
    },
    {
      "cell_type": "code",
      "execution_count": 37,
      "metadata": {
        "colab": {
          "base_uri": "https://localhost:8080/",
          "height": 37
        },
        "id": "mJpVcRf9i4BM",
        "outputId": "b1ceb87f-95c2-435c-eb6d-f5c9bf8698cf"
      },
      "outputs": [
        {
          "output_type": "execute_result",
          "data": {
            "text/plain": [
              "0"
            ],
            "text/latex": "$\\displaystyle 0$"
          },
          "metadata": {},
          "execution_count": 37
        }
      ],
      "source": [
        "det_g.diff(phi)"
      ]
    },
    {
      "cell_type": "code",
      "execution_count": 38,
      "metadata": {
        "colab": {
          "base_uri": "https://localhost:8080/",
          "height": 37
        },
        "id": "r3c-zb0djLO0",
        "outputId": "e28954ff-607a-4913-c464-9c582cc23373"
      },
      "outputs": [
        {
          "output_type": "execute_result",
          "data": {
            "text/plain": [
              "0"
            ],
            "text/latex": "$\\displaystyle 0$"
          },
          "metadata": {},
          "execution_count": 38
        }
      ],
      "source": [
        "Ga_trace = Ga(-1, 1, 4) + Ga(-2, 2, 4) + Ga(-3, 3, 4) + Ga(-4, 4, 4)\n",
        "2*det_g*Ga_trace"
      ]
    },
    {
      "cell_type": "code",
      "execution_count": 39,
      "metadata": {
        "colab": {
          "base_uri": "https://localhost:8080/",
          "height": 57
        },
        "id": "nRK1_KbVjPe8",
        "outputId": "d717f4e3-c04f-42a6-d343-e0a00da5fde9"
      },
      "outputs": [
        {
          "output_type": "execute_result",
          "data": {
            "text/plain": [
              "6*r**4*a(t)**5*sin(\\theta)**2*Derivative(a(t), t)/(-k*r**2 + 1)"
            ],
            "text/latex": "$\\displaystyle \\frac{6 r^{4} a^{5}{\\left(t \\right)} \\sin^{2}{\\left(\\theta \\right)} \\frac{d}{d t} a{\\left(t \\right)}}{- k r^{2} + 1}$"
          },
          "metadata": {},
          "execution_count": 39
        }
      ],
      "source": [
        "det_g.diff(t)"
      ]
    },
    {
      "cell_type": "code",
      "execution_count": 40,
      "metadata": {
        "colab": {
          "base_uri": "https://localhost:8080/",
          "height": 57
        },
        "id": "TYKdBxBejTwb",
        "outputId": "2a3014b7-d33e-484d-9774-eb3f57ff6b6f"
      },
      "outputs": [
        {
          "output_type": "execute_result",
          "data": {
            "text/plain": [
              "6*r**4*a(t)**5*sin(\\theta)**2*Derivative(a(t), t)/(-k*r**2 + 1)"
            ],
            "text/latex": "$\\displaystyle \\frac{6 r^{4} a^{5}{\\left(t \\right)} \\sin^{2}{\\left(\\theta \\right)} \\frac{d}{d t} a{\\left(t \\right)}}{- k r^{2} + 1}$"
          },
          "metadata": {},
          "execution_count": 40
        }
      ],
      "source": [
        "Ga_trace = Ga(-1, 1, 1) + Ga(-2, 2, 1) + Ga(-3, 3, 1) + Ga(-4, 4, 1)\n",
        "2*det_g*Ga_trace.simplify()"
      ]
    },
    {
      "cell_type": "markdown",
      "metadata": {
        "id": "KCFni6SLkNrR"
      },
      "source": [
        "3. **Show the validity of the 1st Bianchi identity.**\n",
        "$$\n",
        "R_{abcd}+R_{adbc}+R_{acdb}.\n",
        "$$"
      ]
    },
    {
      "cell_type": "code",
      "execution_count": 41,
      "metadata": {
        "colab": {
          "base_uri": "https://localhost:8080/",
          "height": 37
        },
        "id": "_4Aa54DQksIX",
        "outputId": "0021ad3b-7d6c-431b-e80f-61ed2a01413e"
      },
      "outputs": [
        {
          "output_type": "execute_result",
          "data": {
            "text/plain": [
              "0"
            ],
            "text/latex": "$\\displaystyle 0$"
          },
          "metadata": {},
          "execution_count": 41
        }
      ],
      "source": [
        "Rm(1, 2, 3, 4) + Rm(1, 4, 2, 3) + Rm(1, 3, 4, 2)"
      ]
    },
    {
      "cell_type": "code",
      "execution_count": 42,
      "metadata": {
        "colab": {
          "base_uri": "https://localhost:8080/",
          "height": 37
        },
        "id": "4xjiJZTole8e",
        "outputId": "aa7619aa-5945-4800-f934-4d09584c2fbb"
      },
      "outputs": [
        {
          "output_type": "execute_result",
          "data": {
            "text/plain": [
              "0"
            ],
            "text/latex": "$\\displaystyle 0$"
          },
          "metadata": {},
          "execution_count": 42
        }
      ],
      "source": [
        "Rm(2, 3, 4, 1) + Rm(2, 1, 3, 4) + Rm(2, 4, 1, 3)"
      ]
    },
    {
      "cell_type": "code",
      "execution_count": 43,
      "metadata": {
        "colab": {
          "base_uri": "https://localhost:8080/",
          "height": 37
        },
        "id": "dh4bW_uNmG-p",
        "outputId": "c209bbdf-4280-46a2-a9ae-a76cf167b25f"
      },
      "outputs": [
        {
          "output_type": "execute_result",
          "data": {
            "text/plain": [
              "0"
            ],
            "text/latex": "$\\displaystyle 0$"
          },
          "metadata": {},
          "execution_count": 43
        }
      ],
      "source": [
        "Rm(3, 4, 1, 2) + Rm(3, 2, 4, 1) + Rm(3, 1, 2, 4)"
      ]
    },
    {
      "cell_type": "code",
      "execution_count": 44,
      "metadata": {
        "colab": {
          "base_uri": "https://localhost:8080/",
          "height": 37
        },
        "id": "g4jxBVHUmPrS",
        "outputId": "548f69aa-4a3b-4ad5-d17d-740c0aff0280"
      },
      "outputs": [
        {
          "output_type": "execute_result",
          "data": {
            "text/plain": [
              "0"
            ],
            "text/latex": "$\\displaystyle 0$"
          },
          "metadata": {},
          "execution_count": 44
        }
      ],
      "source": [
        "Rm(4, 1, 2, 3) + Rm(4, 3, 1, 2) + Rm(4, 2, 3, 1)"
      ]
    },
    {
      "cell_type": "markdown",
      "metadata": {
        "id": "Jmy9MRQWmbSm"
      },
      "source": [
        "4. **Show that:**\n",
        "$$\n",
        "R^{a}_{\\; acd}=0.\n",
        "$$"
      ]
    },
    {
      "cell_type": "code",
      "execution_count": 45,
      "metadata": {
        "colab": {
          "base_uri": "https://localhost:8080/",
          "height": 98
        },
        "id": "lQtNU8pCmZ1f",
        "outputId": "20acb3fe-8a4e-46a8-fe6c-1ee64ade1f2f"
      },
      "outputs": [
        {
          "output_type": "execute_result",
          "data": {
            "text/plain": [
              "Matrix([\n",
              "[0, 0, 0, 0],\n",
              "[0, 0, 0, 0],\n",
              "[0, 0, 0, 0],\n",
              "[0, 0, 0, 0]])"
            ],
            "text/latex": "$\\displaystyle \\left[\\begin{matrix}0 & 0 & 0 & 0\\\\0 & 0 & 0 & 0\\\\0 & 0 & 0 & 0\\\\0 & 0 & 0 & 0\\end{matrix}\\right]$"
          },
          "metadata": {},
          "execution_count": 45
        }
      ],
      "source": [
        "Rm(-1, 1, All, All) + Rm(-2, 2, All, All) + Rm(-3, 3, All, All) + Rm(-4, 4, All, All)"
      ]
    },
    {
      "cell_type": "markdown",
      "metadata": {
        "id": "KC-gsv15n1Ee"
      },
      "source": [
        "5. **Show that $∇_aG^{ab}=0$. With $G^{ab}≡R^{ab}-\\frac{1}{2}g^{ab}R$.**"
      ]
    },
    {
      "cell_type": "code",
      "execution_count": 46,
      "metadata": {
        "colab": {
          "base_uri": "https://localhost:8080/",
          "height": 37
        },
        "id": "0kBQgz-LnpRN",
        "outputId": "899903db-2cbb-417e-9ac5-d1834b28d29c"
      },
      "outputs": [
        {
          "output_type": "execute_result",
          "data": {
            "text/plain": [
              "0"
            ],
            "text/latex": "$\\displaystyle 0$"
          },
          "metadata": {},
          "execution_count": 46
        }
      ],
      "source": [
        "sum(G.covariantD(-i, -j, i).simplify() for i, j in list(variations(range(1,5), 2, True))).simplify()"
      ]
    },
    {
      "cell_type": "markdown",
      "metadata": {
        "id": "T_ixF5Wh1yBQ"
      },
      "source": [
        "6. **Show the conservation of the energy-momentum tensor, $∇_{\\mu}T^{\\mu}_{\\; \\nu}$, leads $(\\nu=0)$ to the continuity equation**\n",
        "$$\n",
        "\\dot{\\rho}+3\\frac{\\dot{a}}{a}(\\rho+p)=0.\n",
        "$$"
      ]
    },
    {
      "cell_type": "code",
      "execution_count": 47,
      "metadata": {
        "id": "UQbkMSVJx4pl"
      },
      "outputs": [],
      "source": [
        "rho, P = Function(\"\\\\rho\"), Function(\"P\")\n",
        "Te_m = diag(rho(t), -P(t)*a(t)**2/(1-k*r**2), -P(t)*a(t)**2*r**2, -P(t)*a(t)**2*r**2*sin(theta)**2)\n",
        "T = Tensor(\"T\", 2, g, components=Te_m)"
      ]
    },
    {
      "cell_type": "code",
      "execution_count": 48,
      "metadata": {
        "colab": {
          "base_uri": "https://localhost:8080/",
          "height": 60
        },
        "id": "2b0Hio_43xHh",
        "outputId": "7d588e40-1480-4058-983e-572da68465cf"
      },
      "outputs": [
        {
          "output_type": "execute_result",
          "data": {
            "text/plain": [
              "Eq(3*(P(t) + \\rho(t))*Derivative(a(t), t)/a(t) + Derivative(\\rho(t), t), 0)"
            ],
            "text/latex": "$\\displaystyle \\frac{3 \\left(P{\\left(t \\right)} + \\rho{\\left(t \\right)}\\right) \\frac{d}{d t} a{\\left(t \\right)}}{a{\\left(t \\right)}} + \\frac{d}{d t} \\rho{\\left(t \\right)} = 0$"
          },
          "metadata": {},
          "execution_count": 48
        }
      ],
      "source": [
        "F = T.covariantD(-1, 1, 1).simplify() + T.covariantD(-2, 1, 2).simplify() + T.covariantD(-3, 1, 3).simplify() + T.covariantD(-4, 1, 4).simplify()\n",
        "Eq(F,0)"
      ]
    },
    {
      "cell_type": "markdown",
      "metadata": {
        "id": "tT2VD8l-9iIk"
      },
      "source": [
        "7. **For a Schwarzschild black hole of mass M, show the Kretschmann scalar is**\n",
        "$$\n",
        "K=\\frac{48G^2M^2}{c^4r^6}.\n",
        "$$"
      ]
    },
    {
      "cell_type": "code",
      "execution_count": 49,
      "metadata": {
        "id": "ZhG94yB89S32"
      },
      "outputs": [],
      "source": [
        "G, M, c = symbols(\"G M c\")\n",
        "Metric = diag(-(1-2*G*M/(c**2*r))*c**2, (1-2*G*M/(c**2*r))**(-1), r**2, r**2*sin(theta)**2)\n",
        "g = MetricTensor(\"g\", chi, Metric)"
      ]
    },
    {
      "cell_type": "code",
      "execution_count": 50,
      "metadata": {
        "colab": {
          "base_uri": "https://localhost:8080/",
          "height": 106
        },
        "id": "2UE8l--z_3EB",
        "outputId": "d16ca2b7-7ec6-4fc8-c635-c3875a5c03c4"
      },
      "outputs": [
        {
          "output_type": "execute_result",
          "data": {
            "text/plain": [
              "Matrix([\n",
              "[c**2*(2*G*M/(c**2*r) - 1),                       0,    0,                   0],\n",
              "[                        0, 1/(-2*G*M/(c**2*r) + 1),    0,                   0],\n",
              "[                        0,                       0, r**2,                   0],\n",
              "[                        0,                       0,    0, r**2*sin(\\theta)**2]])"
            ],
            "text/latex": "$\\displaystyle \\left[\\begin{matrix}c^{2} \\left(\\frac{2 G M}{c^{2} r} - 1\\right) & 0 & 0 & 0\\\\0 & \\frac{1}{- \\frac{2 G M}{c^{2} r} + 1} & 0 & 0\\\\0 & 0 & r^{2} & 0\\\\0 & 0 & 0 & r^{2} \\sin^{2}{\\left(\\theta \\right)}\\end{matrix}\\right]$"
          },
          "metadata": {},
          "execution_count": 50
        }
      ],
      "source": [
        "g(All, All)"
      ]
    },
    {
      "cell_type": "code",
      "execution_count": 51,
      "metadata": {
        "id": "ClDkpzulAFzn"
      },
      "outputs": [],
      "source": [
        "Ga = Christoffel(\"Ga\", g)\n",
        "Rm = Riemann('Rm', g)"
      ]
    },
    {
      "cell_type": "code",
      "execution_count": 52,
      "metadata": {
        "id": "tb718Lc1AbRn"
      },
      "outputs": [],
      "source": [
        "K = sum(Rm(i,j,k,l)*Rm(-i,-j,-k,-l).simplify() for i, j, k, l in list(variations(Range(1,5), 4, True)))"
      ]
    },
    {
      "cell_type": "code",
      "execution_count": 53,
      "metadata": {
        "colab": {
          "base_uri": "https://localhost:8080/",
          "height": 54
        },
        "id": "KyBiEYOQA1zQ",
        "outputId": "3eb4257b-dc5b-4674-fc64-3ff36e25b079"
      },
      "outputs": [
        {
          "output_type": "execute_result",
          "data": {
            "text/plain": [
              "48*G**2*M**2/(c**4*r**6)"
            ],
            "text/latex": "$\\displaystyle \\frac{48 G^{2} M^{2}}{c^{4} r^{6}}$"
          },
          "metadata": {},
          "execution_count": 53
        }
      ],
      "source": [
        "K.simplify()"
      ]
    },
    {
      "cell_type": "markdown",
      "metadata": {
        "id": "LQ3j7ldCBWcn"
      },
      "source": [
        "## Parte C\n",
        "**The Two-sphere**\n",
        "$$\n",
        "ds^2=\\frac{a^2}{a^2-\\rho^2}d\\rho^2+\\rho^2d\\phi^2.\n",
        "$$\n",
        "1. **Compute the distance in the surface D from the centre to a particular radius $\\rho=R$, at constant $\\phi$, is:**\n",
        "$$\n",
        "D=∫^R_0 \\frac{a}{(a^2-\\rho^2)^{1/2}}d\\rho=a\\sin^{-1}{(\\frac{R}{a})}.\n",
        "$$"
      ]
    },
    {
      "cell_type": "code",
      "execution_count": 54,
      "metadata": {
        "id": "wzTI7_TBA2hE"
      },
      "outputs": [],
      "source": [
        "a, R, rho, phi, r, theta = symbols(\"a R \\\\rho \\phi r \\\\theta\", positive=True)"
      ]
    },
    {
      "cell_type": "code",
      "execution_count": 55,
      "metadata": {
        "colab": {
          "base_uri": "https://localhost:8080/",
          "height": 80
        },
        "id": "o1qeqgwBu8Rz",
        "outputId": "c388e81c-b21e-4a88-accf-699dc9afc9e0"
      },
      "outputs": [
        {
          "output_type": "execute_result",
          "data": {
            "text/plain": [
              "Eq(Integral(a/sqrt(-\\rho**2 + a**2), (\\rho, 0, R)), a*asin(R/a))"
            ],
            "text/latex": "$\\displaystyle \\int\\limits_{0}^{R} \\frac{a}{\\sqrt{- \\rho^{2} + a^{2}}}\\, d\\rho = a \\operatorname{asin}{\\left(\\frac{R}{a} \\right)}$"
          },
          "metadata": {},
          "execution_count": 55
        }
      ],
      "source": [
        "D = Integral(a/sqrt(a**2-rho**2), (rho, 0, R))\n",
        "Eq(D, D.doit())"
      ]
    },
    {
      "cell_type": "markdown",
      "metadata": {
        "id": "ObykeC_4xeSP"
      },
      "source": [
        "2. **Compute the circumference of the circle, given by:**\n",
        "$$\n",
        "C=∫^{2\\pi}_0 Rd\\phi=2\\pi R.\n",
        "$$"
      ]
    },
    {
      "cell_type": "code",
      "execution_count": 56,
      "metadata": {
        "colab": {
          "base_uri": "https://localhost:8080/",
          "height": 80
        },
        "id": "HK7ciFC_xKe8",
        "outputId": "40ef3070-9941-4c00-a5e0-98331f37d845"
      },
      "outputs": [
        {
          "output_type": "execute_result",
          "data": {
            "text/plain": [
              "Eq(Integral(R, (\\phi, 0, 2*pi)), 2*pi*R)"
            ],
            "text/latex": "$\\displaystyle \\int\\limits_{0}^{2 \\pi} R\\, d\\phi = 2 \\pi R$"
          },
          "metadata": {},
          "execution_count": 56
        }
      ],
      "source": [
        "C = Integral(R, (phi, 0, 2*pi))\n",
        "Eq(C, C.doit())"
      ]
    },
    {
      "cell_type": "markdown",
      "metadata": {
        "id": "O1FmgZxAyHsP"
      },
      "source": [
        "3. **Similary, compute the area within the circumference C.**\n",
        "$$\n",
        "A=∫^{2\\pi}_0 ∫^R_0 \\frac{a}{(a^2-\\rho^2)^{1/2}}\\rho d\\rho d\\phi = 2\\pi a^2[1-(1-\\frac{R^2}{a^2})^{1/2}].\n",
        "$$"
      ]
    },
    {
      "cell_type": "code",
      "execution_count": 57,
      "metadata": {
        "colab": {
          "base_uri": "https://localhost:8080/",
          "height": 80
        },
        "id": "OjZRiS8ryAOL",
        "outputId": "055537c4-05d6-4c66-b6ea-89b81cf1c6ca"
      },
      "outputs": [
        {
          "output_type": "execute_result",
          "data": {
            "text/plain": [
              "Eq(Integral(\\rho*a/sqrt(-\\rho**2 + a**2), (\\rho, 0, R), (\\phi, 0, 2*pi)), 2*pi*a*(a - sqrt(-R**2 + a**2)))"
            ],
            "text/latex": "$\\displaystyle \\int\\limits_{0}^{2 \\pi}\\int\\limits_{0}^{R} \\frac{\\rho a}{\\sqrt{- \\rho^{2} + a^{2}}}\\, d\\rho\\, d\\phi = 2 \\pi a \\left(a - \\sqrt{- R^{2} + a^{2}}\\right)$"
          },
          "metadata": {},
          "execution_count": 57
        }
      ],
      "source": [
        "A = Integral(a/sqrt(a**2-rho**2)*rho, (rho, 0, R), (phi, 0, 2*pi))\n",
        "Eq(A, A.doit().simplify())"
      ]
    },
    {
      "cell_type": "markdown",
      "metadata": {
        "id": "BSkeeJ_p0Gme"
      },
      "source": [
        "4. **For completeness, show the total area, by symmetry, is given by:**\n",
        "$$\n",
        "A_{tot}= ∫^{2\\pi}_0 ∫^a_0 \\frac{a}{(a^2-r^2)^{1/2}}r dr d\\phi = 4\\pi a^2.\n",
        "$$"
      ]
    },
    {
      "cell_type": "code",
      "execution_count": 58,
      "metadata": {
        "colab": {
          "base_uri": "https://localhost:8080/",
          "height": 80
        },
        "id": "IyNOxQcGzbL1",
        "outputId": "f19c3fde-7200-4e31-c73f-d9beb73eb9eb"
      },
      "outputs": [
        {
          "output_type": "execute_result",
          "data": {
            "text/plain": [
              "Eq(Integral(2*a*r/sqrt(a**2 - r**2), (r, 0, a), (\\phi, 0, 2*pi)), 4*pi*a**2)"
            ],
            "text/latex": "$\\displaystyle \\int\\limits_{0}^{2 \\pi}\\int\\limits_{0}^{a} \\frac{2 a r}{\\sqrt{a^{2} - r^{2}}}\\, dr\\, d\\phi = 4 \\pi a^{2}$"
          },
          "metadata": {},
          "execution_count": 58
        }
      ],
      "source": [
        "A_tot = Integral(2*a/sqrt(a**2-r**2)*r, (r, 0, a), (phi, 0, 2*pi))\n",
        "Eq(A_tot, A_tot.doit().simplify())"
      ]
    },
    {
      "cell_type": "markdown",
      "metadata": {
        "id": "QaStnHlu1OfT"
      },
      "source": [
        "5. **Compute the Volume of the 3D sphere. Hint [the total volume $V_{tot}$ is found when $R=a$].**\n",
        "$$\n",
        "V=∫^{2\\pi}_0 ∫^\\pi_0 ∫^R_0 \\frac{a}{(a^2-r^2)^{1/2}}r^2\\sin\\theta dr d\\theta d\\phi.\n",
        "$$"
      ]
    },
    {
      "cell_type": "code",
      "execution_count": 59,
      "metadata": {
        "colab": {
          "base_uri": "https://localhost:8080/",
          "height": 80
        },
        "id": "M4V-glXQ0_rm",
        "outputId": "395749fa-b500-41ba-e034-0112e1baff40"
      },
      "outputs": [
        {
          "output_type": "execute_result",
          "data": {
            "text/plain": [
              "Eq(Integral(a*r**2*sin(\\theta)/sqrt(a**2 - r**2), (r, 0, a), (\\theta, 0, pi), (\\phi, 0, 2*pi)), pi**2*a**3)"
            ],
            "text/latex": "$\\displaystyle \\int\\limits_{0}^{2 \\pi}\\int\\limits_{0}^{\\pi}\\int\\limits_{0}^{a} \\frac{a r^{2} \\sin{\\left(\\theta \\right)}}{\\sqrt{a^{2} - r^{2}}}\\, dr\\, d\\theta\\, d\\phi = \\pi^{2} a^{3}$"
          },
          "metadata": {},
          "execution_count": 59
        }
      ],
      "source": [
        "V = Integral(a/sqrt(a**2-r**2)*r**2*sin(theta), (r, 0, a), (theta, 0, pi), (phi, 0, 2*pi))\n",
        "Eq(V, V.doit())"
      ]
    },
    {
      "cell_type": "markdown",
      "source": [
        "## Parte 4\n",
        "1. **Dust only Friedmann model ($\\Omega_{r,0}=0$, $\\Omega_{k,0}=1-\\Omega_{m,0}$). Compute the integlral:**\n",
        "$$\n",
        "t=\\frac{1}{H_0}∫^a_0 \\left[\\frac{x}{\\Omega_{m,0}+(1-\\Omega_{m,0})x} \\right]^{1/2} dx.\n",
        "$$"
      ],
      "metadata": {
        "id": "3PyvK4OSHUwM"
      }
    },
    {
      "cell_type": "code",
      "source": [
        "a, t, x, H_0, psi, y = symbols(\"a t x H_0 \\psi y\")\n",
        "Omega_m0, Omega_r0, Omega_k0 = symbols(\"\\Omega_{m\\,0} \\Omega_{r\\,0} \\Omega_{k\\,0}\")"
      ],
      "metadata": {
        "id": "92dPD0_0_xNP"
      },
      "execution_count": 60,
      "outputs": []
    },
    {
      "cell_type": "markdown",
      "source": [
        "* **Flat Universe ($k=0$) $\\Omega_{m,0}=1$.**"
      ],
      "metadata": {
        "id": "nj4D2IMqSr0c"
      }
    },
    {
      "cell_type": "code",
      "source": [
        "ti = 1/H_0*Integral(sqrt(x/(Omega_m0+(1-Omega_m0)*x)), (x, 0, a))\n",
        "solve = ti.subs(Omega_m0, 1).doit()\n",
        "Eq(t, solve)"
      ],
      "metadata": {
        "colab": {
          "base_uri": "https://localhost:8080/",
          "height": 59
        },
        "id": "KTpfweAbK79z",
        "outputId": "3ca02793-7273-44ab-aabc-0db0859ad76b"
      },
      "execution_count": 61,
      "outputs": [
        {
          "output_type": "execute_result",
          "data": {
            "text/plain": [
              "Eq(t, 2*a**(3/2)/(3*H_0))"
            ],
            "text/latex": "$\\displaystyle t = \\frac{2 a^{\\frac{3}{2}}}{3 H_{0}}$"
          },
          "metadata": {},
          "execution_count": 61
        }
      ]
    },
    {
      "cell_type": "markdown",
      "source": [
        "* **For spherical Universe $\\Omega_{m,0}>1$ $(k=1)$.**"
      ],
      "metadata": {
        "id": "8jZHi5lPeqnQ"
      }
    },
    {
      "cell_type": "code",
      "source": [
        "Omega_m0, psi = symbols(\"\\Omega_{m\\,0} \\psi\", positive=True)\n",
        "assuming(Omega_m0 > 1)\n",
        "assuming(psi < pi)\n",
        "x = Omega_m0/(1-Omega_m0)*sin(psi/2)**2\n",
        "d_x = x.diff(psi)\n",
        "d_x"
      ],
      "metadata": {
        "colab": {
          "base_uri": "https://localhost:8080/",
          "height": 71
        },
        "id": "kmWXxmIMLWIQ",
        "outputId": "5da6bbfb-ecd2-46d1-bbd2-706964fa67d5"
      },
      "execution_count": 62,
      "outputs": [
        {
          "output_type": "execute_result",
          "data": {
            "text/plain": [
              "\\Omega_{m,0}*sin(\\psi/2)*cos(\\psi/2)/(1 - \\Omega_{m,0})"
            ],
            "text/latex": "$\\displaystyle \\frac{\\Omega_{m,0} \\sin{\\left(\\frac{\\psi}{2} \\right)} \\cos{\\left(\\frac{\\psi}{2} \\right)}}{1 - \\Omega_{m,0}}$"
          },
          "metadata": {},
          "execution_count": 62
        }
      ]
    },
    {
      "cell_type": "code",
      "source": [
        "expr = sqrt(x/(Omega_m0+(1-Omega_m0)*x))\n",
        "expr*d_x"
      ],
      "metadata": {
        "colab": {
          "base_uri": "https://localhost:8080/",
          "height": 95
        },
        "id": "9H9AhateRtN6",
        "outputId": "9f553fd8-6487-42c4-a7b1-9b9dcc8723ea"
      },
      "execution_count": 63,
      "outputs": [
        {
          "output_type": "execute_result",
          "data": {
            "text/plain": [
              "\\Omega_{m,0}**(3/2)*sqrt(1/(1 - \\Omega_{m,0}))*sin(\\psi/2)*cos(\\psi/2)*Abs(sin(\\psi/2))/((1 - \\Omega_{m,0})*sqrt(\\Omega_{m,0}*sin(\\psi/2)**2 + \\Omega_{m,0}))"
            ],
            "text/latex": "$\\displaystyle \\frac{\\Omega_{m,0}^{\\frac{3}{2}} \\sqrt{\\frac{1}{1 - \\Omega_{m,0}}} \\sin{\\left(\\frac{\\psi}{2} \\right)} \\cos{\\left(\\frac{\\psi}{2} \\right)} \\left|{\\sin{\\left(\\frac{\\psi}{2} \\right)}}\\right|}{\\left(1 - \\Omega_{m,0}\\right) \\sqrt{\\Omega_{m,0} \\sin^{2}{\\left(\\frac{\\psi}{2} \\right)} + \\Omega_{m,0}}}$"
          },
          "metadata": {},
          "execution_count": 63
        }
      ]
    },
    {
      "cell_type": "code",
      "source": [
        "inte = 2*Omega_m0**(3/2)*sqrt(1/(1-Omega_m0))*y**2/((1-Omega_m0)*sqrt(Omega_m0*y**2+Omega_m0))\n",
        "ti = 1/H_0*Integral(inte, (y, 0, y))\n",
        "solve = ti.doit()\n",
        "Eq(t, solve.subs(y, sin(psi/2)).simplify())"
      ],
      "metadata": {
        "colab": {
          "base_uri": "https://localhost:8080/",
          "height": 79
        },
        "id": "tMqPEzc4Meyw",
        "outputId": "e40c24d2-16ad-4fea-edbf-7e2aecb523ed"
      },
      "execution_count": 64,
      "outputs": [
        {
          "output_type": "execute_result",
          "data": {
            "text/plain": [
              "Eq(t, \\Omega_{m,0}**1.0*(-1/(\\Omega_{m,0} - 1))**(3/2)*(sqrt(6 - 2*cos(\\psi))*sin(\\psi/2)/2 - asinh(sin(\\psi/2)))/H_0)"
            ],
            "text/latex": "$\\displaystyle t = \\frac{\\Omega_{m,0}^{1.0} \\left(- \\frac{1}{\\Omega_{m,0} - 1}\\right)^{\\frac{3}{2}} \\left(\\frac{\\sqrt{6 - 2 \\cos{\\left(\\psi \\right)}} \\sin{\\left(\\frac{\\psi}{2} \\right)}}{2} - \\operatorname{asinh}{\\left(\\sin{\\left(\\frac{\\psi}{2} \\right)} \\right)}\\right)}{H_{0}}$"
          },
          "metadata": {},
          "execution_count": 64
        }
      ]
    },
    {
      "cell_type": "markdown",
      "source": [
        "* **For hyperbolic Universe $\\Omega_{m,0}<1$ $(k=-1)$.**"
      ],
      "metadata": {
        "id": "MewgeMJ4eeey"
      }
    },
    {
      "cell_type": "code",
      "source": [
        "Omega_m0, psi = symbols(\"\\Omega_{m\\,0} \\psi\", positive=True)\n",
        "assuming(Omega_m0 < 1)\n",
        "assuming(psi < pi)\n",
        "x = Omega_m0/(1-Omega_m0)*sinh(psi/2)**2\n",
        "d_x = x.diff(psi)\n",
        "d_x"
      ],
      "metadata": {
        "colab": {
          "base_uri": "https://localhost:8080/",
          "height": 71
        },
        "id": "Ch6x4ImLSNz0",
        "outputId": "2a51e821-89b2-4a09-fe6b-2845a3fcec69"
      },
      "execution_count": 65,
      "outputs": [
        {
          "output_type": "execute_result",
          "data": {
            "text/plain": [
              "\\Omega_{m,0}*sinh(\\psi/2)*cosh(\\psi/2)/(1 - \\Omega_{m,0})"
            ],
            "text/latex": "$\\displaystyle \\frac{\\Omega_{m,0} \\sinh{\\left(\\frac{\\psi}{2} \\right)} \\cosh{\\left(\\frac{\\psi}{2} \\right)}}{1 - \\Omega_{m,0}}$"
          },
          "metadata": {},
          "execution_count": 65
        }
      ]
    },
    {
      "cell_type": "code",
      "source": [
        "expr = sqrt(x/(Omega_m0+(1-Omega_m0)*x))\n",
        "expr*d_x"
      ],
      "metadata": {
        "colab": {
          "base_uri": "https://localhost:8080/",
          "height": 95
        },
        "id": "_yA3K3bmfosC",
        "outputId": "934a1854-caa1-4e3a-ecbd-c84aa0a5880c"
      },
      "execution_count": 66,
      "outputs": [
        {
          "output_type": "execute_result",
          "data": {
            "text/plain": [
              "\\Omega_{m,0}**(3/2)*sqrt(1/(1 - \\Omega_{m,0}))*sinh(\\psi/2)**2*cosh(\\psi/2)/((1 - \\Omega_{m,0})*sqrt(\\Omega_{m,0}*sinh(\\psi/2)**2 + \\Omega_{m,0}))"
            ],
            "text/latex": "$\\displaystyle \\frac{\\Omega_{m,0}^{\\frac{3}{2}} \\sqrt{\\frac{1}{1 - \\Omega_{m,0}}} \\sinh^{2}{\\left(\\frac{\\psi}{2} \\right)} \\cosh{\\left(\\frac{\\psi}{2} \\right)}}{\\left(1 - \\Omega_{m,0}\\right) \\sqrt{\\Omega_{m,0} \\sinh^{2}{\\left(\\frac{\\psi}{2} \\right)} + \\Omega_{m,0}}}$"
          },
          "metadata": {},
          "execution_count": 66
        }
      ]
    },
    {
      "cell_type": "code",
      "source": [
        "inte = 2*Omega_m0**(3/2)*sqrt(1/(1-Omega_m0))*y**2/((1-Omega_m0)*sqrt(Omega_m0*y**2+Omega_m0))\n",
        "ti = 1/H_0*Integral(inte, (y, 0, y))\n",
        "solve = ti.doit()\n",
        "Eq(t, solve.subs(y, sinh(psi/2)).simplify())"
      ],
      "metadata": {
        "colab": {
          "base_uri": "https://localhost:8080/",
          "height": 74
        },
        "id": "fS9Qfgr8fqqm",
        "outputId": "7c5aaaee-c6ff-44f2-8f3c-9de13b39cef5"
      },
      "execution_count": 67,
      "outputs": [
        {
          "output_type": "execute_result",
          "data": {
            "text/plain": [
              "Eq(t, \\Omega_{m,0}**1.0*(-1/(\\Omega_{m,0} - 1))**(3/2)*(sinh(\\psi/2)*cosh(\\psi/2) - asinh(sinh(\\psi/2)))/H_0)"
            ],
            "text/latex": "$\\displaystyle t = \\frac{\\Omega_{m,0}^{1.0} \\left(- \\frac{1}{\\Omega_{m,0} - 1}\\right)^{\\frac{3}{2}} \\left(\\sinh{\\left(\\frac{\\psi}{2} \\right)} \\cosh{\\left(\\frac{\\psi}{2} \\right)} - \\operatorname{asinh}{\\left(\\sinh{\\left(\\frac{\\psi}{2} \\right)} \\right)}\\right)}{H_{0}}$"
          },
          "metadata": {},
          "execution_count": 67
        }
      ]
    },
    {
      "cell_type": "markdown",
      "source": [
        "2. **Radiation domination ($\\Omega_{m,0}=0$, $\\Omega_{k,0}=1-\\Omega_{m,0}$). Compute the integral:**\n",
        "$$\n",
        "t=\\frac{1}{H_0}∫^a_0 \\left[\\frac{x}{\\Omega_{r,0}+(1-\\Omega_{r,0})x^2} \\right] dx.\n",
        "$$"
      ],
      "metadata": {
        "id": "A4l5zf1MheOT"
      }
    },
    {
      "cell_type": "code",
      "source": [
        "a, t, x, H_0, psi, y = symbols(\"a t x H_0 \\psi y\")\n",
        "Omega_m0, Omega_r0, Omega_k0 = symbols(\"\\Omega_{m\\,0} \\Omega_{r\\,0} \\Omega_{k\\,0}\", positive=True)"
      ],
      "metadata": {
        "id": "ZwoQH4iHIrP1"
      },
      "execution_count": 71,
      "outputs": []
    },
    {
      "cell_type": "markdown",
      "source": [
        "* **Fñat Universe $\\Omega_{r,0}=1$ ($k=0$).**"
      ],
      "metadata": {
        "id": "CkwJ77QuHr6a"
      }
    },
    {
      "cell_type": "code",
      "source": [
        "ti = 1/H_0*Integral(x/sqrt(Omega_r0+(1-Omega_r0)*x**2), (x, 0, a))\n",
        "solve = ti.subs(Omega_r0, 1).doit()\n",
        "Eq(t, solve)"
      ],
      "metadata": {
        "colab": {
          "base_uri": "https://localhost:8080/",
          "height": 56
        },
        "id": "FJd8-dVSgA_i",
        "outputId": "67d6fd8c-e209-4913-ff59-6b45aa701546"
      },
      "execution_count": 108,
      "outputs": [
        {
          "output_type": "execute_result",
          "data": {
            "text/plain": [
              "Eq(t, a**2/(2*H_0))"
            ],
            "text/latex": "$\\displaystyle t = \\frac{a^{2}}{2 H_{0}}$"
          },
          "metadata": {},
          "execution_count": 108
        }
      ]
    },
    {
      "cell_type": "markdown",
      "source": [
        "* **Spherical $\\Omega_{r,0}<1$ ($k=-1$) or Hyperbolic $\\Omega_{r,0}>1$ ($k=1$).**"
      ],
      "metadata": {
        "id": "K0BdVHObI_Ir"
      }
    },
    {
      "cell_type": "code",
      "source": [
        "Omega_r0 = symbols(\"\\Omega_{r\\,0}\", positive=True)\n",
        "assuming(Omega_r0 > 1)\n",
        "Eq(t, ti.doit().simplify())"
      ],
      "metadata": {
        "colab": {
          "base_uri": "https://localhost:8080/",
          "height": 61
        },
        "id": "lxV5FjVBICZr",
        "outputId": "014861a3-84a1-4145-ae87-3a05eb4092cb"
      },
      "execution_count": 109,
      "outputs": [
        {
          "output_type": "execute_result",
          "data": {
            "text/plain": [
              "Eq(t, (sqrt(\\Omega_{r,0}) - sqrt(\\Omega_{r,0} + a**2*polar_lift(1 - \\Omega_{r,0})))/(H_0*(\\Omega_{r,0} - 1)))"
            ],
            "text/latex": "$\\displaystyle t = \\frac{\\sqrt{\\Omega_{r,0}} - \\sqrt{\\Omega_{r,0} + a^{2} \\operatorname{polar\\_lift}{\\left(1 - \\Omega_{r,0} \\right)}}}{H_{0} \\left(\\Omega_{r,0} - 1\\right)}$"
          },
          "metadata": {},
          "execution_count": 109
        }
      ]
    },
    {
      "cell_type": "code",
      "source": [
        "assuming(Omega_r0 < 1)\n",
        "Eq(t, ti.doit().simplify())"
      ],
      "metadata": {
        "colab": {
          "base_uri": "https://localhost:8080/",
          "height": 61
        },
        "id": "LlnesXiII2kD",
        "outputId": "18dc9ec1-8809-4605-cb6d-3e8598a78605"
      },
      "execution_count": 110,
      "outputs": [
        {
          "output_type": "execute_result",
          "data": {
            "text/plain": [
              "Eq(t, (sqrt(\\Omega_{r,0}) - sqrt(\\Omega_{r,0} + a**2*polar_lift(1 - \\Omega_{r,0})))/(H_0*(\\Omega_{r,0} - 1)))"
            ],
            "text/latex": "$\\displaystyle t = \\frac{\\sqrt{\\Omega_{r,0}} - \\sqrt{\\Omega_{r,0} + a^{2} \\operatorname{polar\\_lift}{\\left(1 - \\Omega_{r,0} \\right)}}}{H_{0} \\left(\\Omega_{r,0} - 1\\right)}$"
          },
          "metadata": {},
          "execution_count": 110
        }
      ]
    },
    {
      "cell_type": "markdown",
      "source": [
        "3. **Spatially flat ($\\Omega_{k,0}$, $\\Omega_{m,0}+\\Omega_{r,0}=1$). Compute the integral:**\n",
        "$$\n",
        "t=\\frac{1}{H_0}∫^a_0 \\left[\\frac{x}{\\Omega_{m,0}x+\\Omega_{r,0}} \\right] dx.\n",
        "$$"
      ],
      "metadata": {
        "id": "E2ONOZMEOqfX"
      }
    },
    {
      "cell_type": "code",
      "source": [
        "a, t, x, H_0, psi, y = symbols(\"a t x H_0 \\psi y\")\n",
        "Omega_m0, Omega_r0, Omega_k0 = symbols(\"\\Omega_{m\\,0} \\Omega_{r\\,0} \\Omega_{k\\,0}\", positive=True)"
      ],
      "metadata": {
        "id": "00hbxyrzOJDf"
      },
      "execution_count": 111,
      "outputs": []
    },
    {
      "cell_type": "code",
      "source": [
        "ti = 1/H_0*Integral(x/sqrt(Omega_m0*x+Omega_r0), (x, 0, a))\n",
        "solve = ti.doit(hint='manual')\n",
        "Eq(t, solve.simplify())"
      ],
      "metadata": {
        "colab": {
          "base_uri": "https://localhost:8080/",
          "height": 73
        },
        "id": "IW9vI_gkPbhW",
        "outputId": "77d76095-17f6-4bac-f024-9ce67f179928"
      },
      "execution_count": 118,
      "outputs": [
        {
          "output_type": "execute_result",
          "data": {
            "text/plain": [
              "Eq(t, 2*(\\Omega_{m,0}*a*sqrt(\\Omega_{m,0}*a + \\Omega_{r,0}) + 2*\\Omega_{r,0}**(3/2) - 2*\\Omega_{r,0}*sqrt(\\Omega_{m,0}*a + \\Omega_{r,0}))/(3*H_0*\\Omega_{m,0}**2))"
            ],
            "text/latex": "$\\displaystyle t = \\frac{2 \\left(\\Omega_{m,0} a \\sqrt{\\Omega_{m,0} a + \\Omega_{r,0}} + 2 \\Omega_{r,0}^{\\frac{3}{2}} - 2 \\Omega_{r,0} \\sqrt{\\Omega_{m,0} a + \\Omega_{r,0}}\\right)}{3 H_{0} \\Omega_{m,0}^{2}}$"
          },
          "metadata": {},
          "execution_count": 118
        }
      ]
    },
    {
      "cell_type": "code",
      "source": [],
      "metadata": {
        "id": "mGrl1VziQR7H"
      },
      "execution_count": null,
      "outputs": []
    }
  ],
  "metadata": {
    "colab": {
      "provenance": [],
      "authorship_tag": "ABX9TyMUgdChX02TKqsNaN84jrMQ",
      "include_colab_link": true
    },
    "kernelspec": {
      "display_name": "Python 3",
      "name": "python3"
    },
    "language_info": {
      "name": "python"
    }
  },
  "nbformat": 4,
  "nbformat_minor": 0
}