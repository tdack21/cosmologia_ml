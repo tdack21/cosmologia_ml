{
  "nbformat": 4,
  "nbformat_minor": 0,
  "metadata": {
    "colab": {
      "provenance": [],
      "authorship_tag": "ABX9TyPXnUSNf6Q5gZFuSa974uQn",
      "include_colab_link": true
    },
    "kernelspec": {
      "name": "python3",
      "display_name": "Python 3"
    },
    "language_info": {
      "name": "python"
    }
  },
  "cells": [
    {
      "cell_type": "markdown",
      "metadata": {
        "id": "view-in-github",
        "colab_type": "text"
      },
      "source": [
        "<a href=\"https://colab.research.google.com/github/tdack21/cosmologia_ml/blob/main/Tarea_3_cosmoml.ipynb\" target=\"_parent\"><img src=\"https://colab.research.google.com/assets/colab-badge.svg\" alt=\"Open In Colab\"/></a>"
      ]
    },
    {
      "cell_type": "markdown",
      "source": [
        "# Tarea 3. Comología con Machine Learning\n",
        "## Tonatiuh Sánchez Madrid"
      ],
      "metadata": {
        "id": "CwLDZFhHruqh"
      }
    },
    {
      "cell_type": "markdown",
      "source": [
        "## Parte A\n",
        "1. **Encontrar las soluciones de:\n",
        "$$\n",
        "f(x)=3x^4-x^3-10x^2-2x+4=0.\n",
        "$$**"
      ],
      "metadata": {
        "id": "BFM9DceUsFQb"
      }
    },
    {
      "cell_type": "code",
      "execution_count": 290,
      "metadata": {
        "id": "oq7QTyolroVT"
      },
      "outputs": [],
      "source": [
        "from sympy import *\n",
        "x, y, z, a, b = symbols(\"x y z a b\")"
      ]
    },
    {
      "cell_type": "code",
      "source": [
        "solveset(Eq(3*x**4 - x**3 -10*x**2 - 2*x + 4, 0), x)"
      ],
      "metadata": {
        "colab": {
          "base_uri": "https://localhost:8080/",
          "height": 68
        },
        "id": "CLN1AAae8Pr6",
        "outputId": "3603f9e2-9e36-42f9-ac28-8bf6e8dcc71b"
      },
      "execution_count": 291,
      "outputs": [
        {
          "output_type": "execute_result",
          "data": {
            "text/plain": [
              "⎧         1   √7    √7   1⎫\n",
              "⎨-1, 2, - ─ + ──, - ── - ─⎬\n",
              "⎩         3   3     3    3⎭"
            ],
            "text/latex": "$\\displaystyle \\left\\{-1, 2, - \\frac{1}{3} + \\frac{\\sqrt{7}}{3}, - \\frac{\\sqrt{7}}{3} - \\frac{1}{3}\\right\\}$"
          },
          "metadata": {},
          "execution_count": 291
        }
      ]
    },
    {
      "cell_type": "markdown",
      "source": [
        "2. **Mostrar:\n",
        "$$\n",
        "\\tan(A \\pm B)=\\frac{\\tan(A) \\pm \\tan(B)}{1 \\mp \\tan(A)\\tan(B)},\n",
        "$$\n",
        "$$\n",
        "\\cos(C)+\\cos(D)=2\\cos(\\frac{C+D}{2})\\cos(\\frac{C-D}{2}).\n",
        "$$**"
      ],
      "metadata": {
        "id": "gixFs6Sm9X7U"
      }
    },
    {
      "cell_type": "code",
      "source": [
        "expr = tan(x+y)\n",
        "Eq(expr, expand_trig(expr))"
      ],
      "metadata": {
        "colab": {
          "base_uri": "https://localhost:8080/",
          "height": 57
        },
        "id": "qgvQEx1J829y",
        "outputId": "d7db8042-5871-4445-c737-ad7e2bf469fd"
      },
      "execution_count": 292,
      "outputs": [
        {
          "output_type": "execute_result",
          "data": {
            "text/plain": [
              "              tan(x) + tan(y)  \n",
              "tan(x + y) = ──────────────────\n",
              "             -tan(x)⋅tan(y) + 1"
            ],
            "text/latex": "$\\displaystyle \\tan{\\left(x + y \\right)} = \\frac{\\tan{\\left(x \\right)} + \\tan{\\left(y \\right)}}{- \\tan{\\left(x \\right)} \\tan{\\left(y \\right)} + 1}$"
          },
          "metadata": {},
          "execution_count": 292
        }
      ]
    },
    {
      "cell_type": "code",
      "source": [
        "expr = tan(x-y)\n",
        "Eq(expr, expand_trig(expr))"
      ],
      "metadata": {
        "colab": {
          "base_uri": "https://localhost:8080/",
          "height": 57
        },
        "id": "JdF3h-ubAmMy",
        "outputId": "e7a77146-d329-4cc9-a5b3-9fa20c4847ae"
      },
      "execution_count": 293,
      "outputs": [
        {
          "output_type": "execute_result",
          "data": {
            "text/plain": [
              "              tan(x) - tan(y) \n",
              "tan(x - y) = ─────────────────\n",
              "             tan(x)⋅tan(y) + 1"
            ],
            "text/latex": "$\\displaystyle \\tan{\\left(x - y \\right)} = \\frac{\\tan{\\left(x \\right)} - \\tan{\\left(y \\right)}}{\\tan{\\left(x \\right)} \\tan{\\left(y \\right)} + 1}$"
          },
          "metadata": {},
          "execution_count": 293
        }
      ]
    },
    {
      "cell_type": "code",
      "source": [
        "expr = 2*cos((x+y)/2)*cos((x-y)/2)\n",
        "Eq(trigsimp(expr), expr)"
      ],
      "metadata": {
        "colab": {
          "base_uri": "https://localhost:8080/",
          "height": 48
        },
        "id": "Fd5b54avA-ZW",
        "outputId": "00b5714b-2546-4bee-b161-54b643193562"
      },
      "execution_count": 294,
      "outputs": [
        {
          "output_type": "execute_result",
          "data": {
            "text/plain": [
              "                       ⎛x   y⎞    ⎛x   y⎞\n",
              "cos(x) + cos(y) = 2⋅cos⎜─ - ─⎟⋅cos⎜─ + ─⎟\n",
              "                       ⎝2   2⎠    ⎝2   2⎠"
            ],
            "text/latex": "$\\displaystyle \\cos{\\left(x \\right)} + \\cos{\\left(y \\right)} = 2 \\cos{\\left(\\frac{x}{2} - \\frac{y}{2} \\right)} \\cos{\\left(\\frac{x}{2} + \\frac{y}{2} \\right)}$"
          },
          "metadata": {},
          "execution_count": 294
        }
      ]
    },
    {
      "cell_type": "markdown",
      "source": [
        "3. **Expresar en forma de fracciones parciles:\n",
        "$$\n",
        "\\frac{4x+2}{x^2+3x+2},\\qquad\\frac{x^3+3x^2+2x-1}{x^2-x-6}.\n",
        "$$**"
      ],
      "metadata": {
        "id": "l-BvbVWoAzw2"
      }
    },
    {
      "cell_type": "code",
      "source": [
        "expr = (4*x+2)/(x**2+3*x+2)\n",
        "Eq(expr, apart(expr))"
      ],
      "metadata": {
        "colab": {
          "base_uri": "https://localhost:8080/",
          "height": 52
        },
        "id": "0Tqvf-erAqhs",
        "outputId": "781f7e41-e235-4fb2-e9f3-dd1bbe41c2f9"
      },
      "execution_count": 295,
      "outputs": [
        {
          "output_type": "execute_result",
          "data": {
            "text/plain": [
              "  4⋅x + 2        6       2  \n",
              "──────────── = ───── - ─────\n",
              " 2             x + 2   x + 1\n",
              "x  + 3⋅x + 2                "
            ],
            "text/latex": "$\\displaystyle \\frac{4 x + 2}{x^{2} + 3 x + 2} = \\frac{6}{x + 2} - \\frac{2}{x + 1}$"
          },
          "metadata": {},
          "execution_count": 295
        }
      ]
    },
    {
      "cell_type": "code",
      "source": [
        "expr = (x**3+3*x**2+2*x-1)/(x**2-x-6)\n",
        "Eq(expr, apart(expr))"
      ],
      "metadata": {
        "colab": {
          "base_uri": "https://localhost:8080/",
          "height": 58
        },
        "id": "Ow1YtDYzDvaJ",
        "outputId": "bbc44902-28f7-4ce6-cdba-1dba056d7ac3"
      },
      "execution_count": 296,
      "outputs": [
        {
          "output_type": "execute_result",
          "data": {
            "text/plain": [
              " 3      2                                          \n",
              "x  + 3⋅x  + 2⋅x - 1               1          59    \n",
              "─────────────────── = x + 4 + ───────── + ─────────\n",
              "     2                        5⋅(x + 2)   5⋅(x - 3)\n",
              "    x  - x - 6                                     "
            ],
            "text/latex": "$\\displaystyle \\frac{x^{3} + 3 x^{2} + 2 x - 1}{x^{2} - x - 6} = x + 4 + \\frac{1}{5 \\left(x + 2\\right)} + \\frac{59}{5 \\left(x - 3\\right)}$"
          },
          "metadata": {},
          "execution_count": 296
        }
      ]
    },
    {
      "cell_type": "markdown",
      "source": [
        "4. **Probar:\n",
        "$$\n",
        "\\sum_{i}^{n} i^2 = \\frac{1}{6}n(n+1)(2n+1).\n",
        "$$**"
      ],
      "metadata": {
        "id": "SSvu3gZFFcj1"
      }
    },
    {
      "cell_type": "code",
      "source": [
        "summ = Sum(x**2, (x,1,y))\n",
        "Eq(summ, factor(summ.doit()))"
      ],
      "metadata": {
        "colab": {
          "base_uri": "https://localhost:8080/",
          "height": 67
        },
        "id": "L2XQMowmHi1U",
        "outputId": "c949f6da-3cde-446a-a016-c4efc574d8c0"
      },
      "execution_count": 297,
      "outputs": [
        {
          "output_type": "execute_result",
          "data": {
            "text/plain": [
              "  y                           \n",
              " ___                          \n",
              " ╲                            \n",
              "  ╲    2   y⋅(y + 1)⋅(2⋅y + 1)\n",
              "  ╱   x  = ───────────────────\n",
              " ╱                  6         \n",
              " ‾‾‾                          \n",
              "x = 1                         "
            ],
            "text/latex": "$\\displaystyle \\sum_{x=1}^{y} x^{2} = \\frac{y \\left(y + 1\\right) \\left(2 y + 1\\right)}{6}$"
          },
          "metadata": {},
          "execution_count": 297
        }
      ]
    },
    {
      "cell_type": "markdown",
      "source": [
        "5. **Encontrar la derivada de $y$:\n",
        "$$\n",
        "si:\\; y=(3+x^2)^3,\n",
        "$$\n",
        "$$\n",
        "si:\\; x^3-3xy+y^3=2.\n",
        "$$**"
      ],
      "metadata": {
        "id": "99msNqitIkP2"
      }
    },
    {
      "cell_type": "code",
      "source": [
        "equation = (3+x**2)**3-y\n",
        "dy_dx = diff(equation, x).simplify()\n",
        "dy_dy = diff(equation, y).simplify()\n",
        "implicit_derivative = -dy_dx / dy_dy\n",
        "Eq(Derivative(y, x), implicit_derivative)"
      ],
      "metadata": {
        "id": "Cl0gajJ8H1N_",
        "colab": {
          "base_uri": "https://localhost:8080/",
          "height": 52
        },
        "outputId": "c749dd12-c9b9-4514-e02d-38cbbc8788b7"
      },
      "execution_count": 298,
      "outputs": [
        {
          "output_type": "execute_result",
          "data": {
            "text/plain": [
              "                    2\n",
              "d           ⎛ 2    ⎞ \n",
              "──(y) = 6⋅x⋅⎝x  + 3⎠ \n",
              "dx                   "
            ],
            "text/latex": "$\\displaystyle \\frac{d}{d x} y = 6 x \\left(x^{2} + 3\\right)^{2}$"
          },
          "metadata": {},
          "execution_count": 298
        }
      ]
    },
    {
      "cell_type": "code",
      "source": [
        "equation = x**3-3*x*y+y**3-2\n",
        "dy_dx = diff(equation, x).simplify()\n",
        "dy_dy = diff(equation, y).simplify()\n",
        "implicit_derivative = -dy_dx / dy_dy\n",
        "Eq(Derivative(y, x), implicit_derivative)"
      ],
      "metadata": {
        "colab": {
          "base_uri": "https://localhost:8080/",
          "height": 57
        },
        "id": "Xi4cw1sskOtx",
        "outputId": "f3ccb1a0-0a24-4c55-f27d-7e0755fa085a"
      },
      "execution_count": 299,
      "outputs": [
        {
          "output_type": "execute_result",
          "data": {
            "text/plain": [
              "             2      \n",
              "d       - 3⋅x  + 3⋅y\n",
              "──(y) = ────────────\n",
              "dx                2 \n",
              "        -3⋅x + 3⋅y  "
            ],
            "text/latex": "$\\displaystyle \\frac{d}{d x} y = \\frac{- 3 x^{2} + 3 y}{- 3 x + 3 y^{2}}$"
          },
          "metadata": {},
          "execution_count": 299
        }
      ]
    },
    {
      "cell_type": "markdown",
      "source": [
        "6. **Encontrtar los puntos críticos de $f(x)$, y decir de qué naturaleza son.\n",
        "$$\n",
        "f(x)=2x^3-3x^2-36x+2.\n",
        "$$**"
      ],
      "metadata": {
        "id": "D-seJLsclum-"
      }
    },
    {
      "cell_type": "code",
      "source": [
        "f_x = 2*x**3-3*x**2-36*x+2\n",
        "f_x_prime = diff(f_x, x)\n",
        "crit = solveset(Eq(f_x_prime, 0), x)\n",
        "f_x_bi_prime = diff(f_x, x, x)\n",
        "for i in crit:\n",
        "    c = f_x_bi_prime.subs(x, i)\n",
        "    if c > 0:\n",
        "        print(f\"El punto crítico ({i}, {f_x.subs(x, i)}) es un mínimo.\")\n",
        "    elif c < 0:\n",
        "        print(f\"El punto crítico ({i}, {f_x.subs(x, i)}) es un máximo.\")\n",
        "    else:\n",
        "        print(f\"El punto ({i}, {f_x.subs(x, i)}) es un punto de silla.\")"
      ],
      "metadata": {
        "colab": {
          "base_uri": "https://localhost:8080/"
        },
        "id": "nxMUHhKEllcw",
        "outputId": "41c8ad76-acd3-4ff3-ce38-26d93b93f109"
      },
      "execution_count": 300,
      "outputs": [
        {
          "output_type": "stream",
          "name": "stdout",
          "text": [
            "El punto crítico (-2, 46) es un máximo.\n",
            "El punto crítico (3, -79) es un mínimo.\n"
          ]
        }
      ]
    },
    {
      "cell_type": "markdown",
      "source": [
        "7. **Resolver:\n",
        "$$\n",
        "\\int \\sin^2x \\, dx, \\quad \\int a\\tan(bx)\\, dx, \\quad \\int \\frac{2}{1+3x} \\, dx, \\quad \\int_{0}^{∞} \\frac{x}{(x^2+a^2)^2} \\, dx.\n",
        "$$**"
      ],
      "metadata": {
        "id": "iXF0F3ia7TKJ"
      }
    },
    {
      "cell_type": "code",
      "source": [
        "expr = Integral(sin(x)**2, x)\n",
        "I = expr.doit()\n",
        "Eq(expr, I)"
      ],
      "metadata": {
        "colab": {
          "base_uri": "https://localhost:8080/",
          "height": 56
        },
        "id": "hGj3krr55NRP",
        "outputId": "9029dcb7-f596-4b1c-8e50-dc67ec54bf95"
      },
      "execution_count": 301,
      "outputs": [
        {
          "output_type": "execute_result",
          "data": {
            "text/plain": [
              "⌠                               \n",
              "⎮    2         x   sin(x)⋅cos(x)\n",
              "⎮ sin (x) dx = ─ - ─────────────\n",
              "⌡              2         2      "
            ],
            "text/latex": "$\\displaystyle \\int \\sin^{2}{\\left(x \\right)}\\, dx = \\frac{x}{2} - \\frac{\\sin{\\left(x \\right)} \\cos{\\left(x \\right)}}{2}$"
          },
          "metadata": {},
          "execution_count": 301
        }
      ]
    },
    {
      "cell_type": "code",
      "source": [
        "expr = Integral(a*tan(b*x), x)\n",
        "I = expr.doit()\n",
        "Eq(expr, I)"
      ],
      "metadata": {
        "colab": {
          "base_uri": "https://localhost:8080/",
          "height": 68
        },
        "id": "TXsSZUBs-6is",
        "outputId": "428676ad-27e8-4767-8d52-93a1c344f450"
      },
      "execution_count": 302,
      "outputs": [
        {
          "output_type": "execute_result",
          "data": {
            "text/plain": [
              "                    ⎛⎧-log(cos(b⋅x))            ⎞\n",
              "⌠                   ⎜⎪───────────────  for b ≠ 0⎟\n",
              "⎮ a⋅tan(b⋅x) dx = a⋅⎜⎨       b                  ⎟\n",
              "⌡                   ⎜⎪                          ⎟\n",
              "                    ⎝⎩       0         otherwise⎠"
            ],
            "text/latex": "$\\displaystyle \\int a \\tan{\\left(b x \\right)}\\, dx = a \\left(\\begin{cases} - \\frac{\\log{\\left(\\cos{\\left(b x \\right)} \\right)}}{b} & \\text{for}\\: b \\neq 0 \\\\0 & \\text{otherwise} \\end{cases}\\right)$"
          },
          "metadata": {},
          "execution_count": 302
        }
      ]
    },
    {
      "cell_type": "code",
      "source": [
        "expr = Integral(2/(1+3*x), x)\n",
        "I = expr.doit()\n",
        "Eq(expr, I)"
      ],
      "metadata": {
        "colab": {
          "base_uri": "https://localhost:8080/",
          "height": 56
        },
        "id": "jdwn-y22_N5z",
        "outputId": "b466eabd-b682-40b5-ef14-ea142db6d713"
      },
      "execution_count": 303,
      "outputs": [
        {
          "output_type": "execute_result",
          "data": {
            "text/plain": [
              "⌠                            \n",
              "⎮    2         2⋅log(3⋅x + 1)\n",
              "⎮ ─────── dx = ──────────────\n",
              "⎮ 3⋅x + 1            3       \n",
              "⌡                            "
            ],
            "text/latex": "$\\displaystyle \\int \\frac{2}{3 x + 1}\\, dx = \\frac{2 \\log{\\left(3 x + 1 \\right)}}{3}$"
          },
          "metadata": {},
          "execution_count": 303
        }
      ]
    },
    {
      "cell_type": "code",
      "source": [
        "expr = Integral(x/(x**2+a**2)**2, (x, 0, oo))\n",
        "I = expr.doit()\n",
        "Eq(expr, I)"
      ],
      "metadata": {
        "colab": {
          "base_uri": "https://localhost:8080/",
          "height": 83
        },
        "id": "A3kzbHTT_eQo",
        "outputId": "7f77c65c-510c-43b1-b341-13485116684d"
      },
      "execution_count": 304,
      "outputs": [
        {
          "output_type": "execute_result",
          "data": {
            "text/plain": [
              "                  ⎧      1              ⎛           π   1                   π⎞              π\n",
              "                  ⎪     ────        for ⎜│arg(a)│ < ─ ∧ ── ≠ 0 ∧ │arg(a)│ ≠ ─⎟ ∨ │arg(a)│ < ─\n",
              "                  ⎪        2            ⎜           2    2                  2⎟              2\n",
              "                  ⎪     2⋅a             ⎝               a                    ⎠               \n",
              "∞                 ⎪                                                                          \n",
              "⌠                 ⎪∞                                                                         \n",
              "⎮     x           ⎪⌠                                                                         \n",
              "⎮ ────────── dx = ⎨⎮     x                                                                   \n",
              "⎮          2      ⎪⎮ ────────── dx                          otherwise                        \n",
              "⎮ ⎛ 2    2⎞       ⎪⎮          2                                                              \n",
              "⎮ ⎝a  + x ⎠       ⎪⎮ ⎛ 2    2⎞                                                               \n",
              "⌡                 ⎪⎮ ⎝a  + x ⎠                                                               \n",
              "0                 ⎪⌡                                                                         \n",
              "                  ⎪0                                                                         \n",
              "                  ⎩                                                                          "
            ],
            "text/latex": "$\\displaystyle \\int\\limits_{0}^{\\infty} \\frac{x}{\\left(a^{2} + x^{2}\\right)^{2}}\\, dx = \\begin{cases} \\frac{1}{2 a^{2}} & \\text{for}\\: \\left(\\left|{\\arg{\\left(a \\right)}}\\right| < \\frac{\\pi}{2} \\wedge \\frac{1}{a^{2}} \\neq 0 \\wedge \\left|{\\arg{\\left(a \\right)}}\\right| \\neq \\frac{\\pi}{2}\\right) \\vee \\left|{\\arg{\\left(a \\right)}}\\right| < \\frac{\\pi}{2} \\\\\\int\\limits_{0}^{\\infty} \\frac{x}{\\left(a^{2} + x^{2}\\right)^{2}}\\, dx & \\text{otherwise} \\end{cases}$"
          },
          "metadata": {},
          "execution_count": 304
        }
      ]
    },
    {
      "cell_type": "markdown",
      "source": [
        "8. **Expresar en serie de Taylor (Orden 3).\n",
        "$$\n",
        "f(x)=\\cos(x), \\quad x=π/3,\n",
        "$$\n",
        "$$\n",
        "f(x)=(1+x)^n, \\quad x=0.\n",
        "$$**"
      ],
      "metadata": {
        "id": "q9ouafhggMo_"
      }
    },
    {
      "cell_type": "code",
      "source": [
        "expr = cos(x)\n",
        "s = expr.series(x, pi/3, 3).removeO()\n",
        "Eq(expr,s)"
      ],
      "metadata": {
        "colab": {
          "base_uri": "https://localhost:8080/",
          "height": 59
        },
        "id": "lQ0UWWOHf1Cj",
        "outputId": "b33d9523-d29e-4df0-dc74-266f55acae75"
      },
      "execution_count": 305,
      "outputs": [
        {
          "output_type": "execute_result",
          "data": {
            "text/plain": [
              "                  2                 \n",
              "           ⎛    π⎞       ⎛    π⎞    \n",
              "           ⎜x - ─⎟    √3⋅⎜x - ─⎟    \n",
              "           ⎝    3⎠       ⎝    3⎠   1\n",
              "cos(x) = - ──────── - ────────── + ─\n",
              "              4           2        2"
            ],
            "text/latex": "$\\displaystyle \\cos{\\left(x \\right)} = - \\frac{\\left(x - \\frac{\\pi}{3}\\right)^{2}}{4} - \\frac{\\sqrt{3} \\left(x - \\frac{\\pi}{3}\\right)}{2} + \\frac{1}{2}$"
          },
          "metadata": {},
          "execution_count": 305
        }
      ]
    },
    {
      "cell_type": "code",
      "source": [
        "expr = (1+x)**a\n",
        "s = expr.series(x, 0, 3).removeO()\n",
        "Eq(expr,s)"
      ],
      "metadata": {
        "colab": {
          "base_uri": "https://localhost:8080/",
          "height": 54
        },
        "id": "9GJgwtshhMto",
        "outputId": "fafe2077-6b31-42b8-94b7-1555494c6a05"
      },
      "execution_count": 306,
      "outputs": [
        {
          "output_type": "execute_result",
          "data": {
            "text/plain": [
              "              2                  \n",
              "       a   a⋅x ⋅(a - 1)          \n",
              "(x + 1)  = ──────────── + a⋅x + 1\n",
              "                2                "
            ],
            "text/latex": "$\\displaystyle \\left(x + 1\\right)^{a} = \\frac{a x^{2} \\left(a - 1\\right)}{2} + a x + 1$"
          },
          "metadata": {},
          "execution_count": 306
        }
      ]
    },
    {
      "cell_type": "markdown",
      "source": [
        "9. **Calcular:\n",
        "$$\n",
        "\\lim_{{x \\to ∞}} \\left(1- \\frac{a^2}{x^2}\\right)^{x^2}\n",
        "$$**"
      ],
      "metadata": {
        "id": "6Zi8weeHm22i"
      }
    },
    {
      "cell_type": "code",
      "source": [
        "expr = Limit((1-a**2/x**2)**(x**2), x, oo)\n",
        "Eq(expr, expr.doit())"
      ],
      "metadata": {
        "colab": {
          "base_uri": "https://localhost:8080/",
          "height": 65
        },
        "id": "0U5_LkgKhg_y",
        "outputId": "a24292c3-c1e5-46c4-e55c-8e52dbe0d631"
      },
      "execution_count": 307,
      "outputs": [
        {
          "output_type": "execute_result",
          "data": {
            "text/plain": [
              "              ⎛ 2⎞       \n",
              "              ⎝x ⎠       \n",
              "    ⎛   2    ⎞          2\n",
              "    ⎜  a     ⎟        -a \n",
              "lim ⎜- ── + 1⎟     = ℯ   \n",
              "x─→∞⎜   2    ⎟           \n",
              "    ⎝  x     ⎠           "
            ],
            "text/latex": "$\\displaystyle \\lim_{x \\to \\infty} \\left(- \\frac{a^{2}}{x^{2}} + 1\\right)^{x^{2}} = e^{- a^{2}}$"
          },
          "metadata": {},
          "execution_count": 307
        }
      ]
    },
    {
      "cell_type": "markdown",
      "source": [
        "##Parte B\n",
        "1. **Encontrar el área del paralelogramo que forman los vectores:**\n",
        "$$\n",
        "\\vec{a}=\\hat{i}+2\\hat{j}+3\\hat{k}, \\qquad \\vec{b}=4\\hat{i}+5\\hat{j}+6\\hat{k}.\n",
        "$$"
      ],
      "metadata": {
        "id": "uElLAX-FpFiP"
      }
    },
    {
      "cell_type": "code",
      "source": [
        "from sympy.vector import *\n",
        "R = CoordSys3D('R')"
      ],
      "metadata": {
        "id": "N8kYJuKQou_Y"
      },
      "execution_count": 308,
      "outputs": []
    },
    {
      "cell_type": "code",
      "source": [
        "a = R.i + 2*R.j + 3*R.k\n",
        "b = 4*R.i + 5*R.j + 6*R.k\n",
        "print(f\"El área del paralelogramo que forman los vectores a y b es:\")\n",
        "a.cross(b).magnitude()"
      ],
      "metadata": {
        "colab": {
          "base_uri": "https://localhost:8080/",
          "height": 56
        },
        "id": "clKl79rXqmHo",
        "outputId": "30d7368e-30b4-4177-b6fb-f04f11b0380a"
      },
      "execution_count": 309,
      "outputs": [
        {
          "output_type": "stream",
          "name": "stdout",
          "text": [
            "El área del paralelogramo que forman los vectores a y b es:\n"
          ]
        },
        {
          "output_type": "execute_result",
          "data": {
            "text/plain": [
              "3⋅√6"
            ],
            "text/latex": "$\\displaystyle 3 \\sqrt{6}$"
          },
          "metadata": {},
          "execution_count": 309
        }
      ]
    },
    {
      "cell_type": "markdown",
      "source": [
        "2. **Encontrar $D=A+2B-C$, si:**\n",
        "$$\n",
        "A= \\left( \\begin{matrix} 2 & -1 \\\\ 3 & 1 \\end{matrix} \\right), \\quad\n",
        "B= \\left( \\begin{matrix} 1 & 0 \\\\ 0 & -2 \\end{matrix} \\right), \\quad\n",
        "C= \\left( \\begin{matrix} -2 & 1 \\\\ -1 & 1 \\end{matrix} \\right).\n",
        "$$"
      ],
      "metadata": {
        "id": "9UmKGuossiBE"
      }
    },
    {
      "cell_type": "code",
      "source": [
        "A, B, C = Matrix([[2,-1],[3,1]]), Matrix([[1,0],[0,-2]]), Matrix([[-2,1],[-1,1]])\n",
        "D = A + 2*B - C\n",
        "D"
      ],
      "metadata": {
        "colab": {
          "base_uri": "https://localhost:8080/",
          "height": 58
        },
        "id": "qwTGq_bhrcAa",
        "outputId": "e22e77ca-b1b9-493e-f971-56cf0f60dc68"
      },
      "execution_count": 310,
      "outputs": [
        {
          "output_type": "execute_result",
          "data": {
            "text/plain": [
              "⎡6  -2⎤\n",
              "⎢     ⎥\n",
              "⎣4  -4⎦"
            ],
            "text/latex": "$\\displaystyle \\left[\\begin{matrix}6 & -2\\\\4 & -4\\end{matrix}\\right]$"
          },
          "metadata": {},
          "execution_count": 310
        }
      ]
    },
    {
      "cell_type": "markdown",
      "source": [
        "3. **Encontrar $P=AB$ y $Q=BA$, si:**\n",
        "$$\n",
        "A= \\left( \\begin{matrix} 3 & 2 & -1 \\\\ 0 & 3 & 2 \\\\ 1 & -1 & 4 \\end{matrix} \\right), \\qquad\n",
        "B= \\left( \\begin{matrix} 2 & -2 & 3 \\\\ 1 & 1 & 0 \\\\ 3 & 2 & 1 \\end{matrix} \\right).\n",
        "$$"
      ],
      "metadata": {
        "id": "eOUqOwmQwiMc"
      }
    },
    {
      "cell_type": "code",
      "source": [
        "A, B = Matrix([[3,2,-1],[0,3,2],[1,-1,4]]), Matrix([[2,-2,3],[1,1,0],[3,2,1]])\n",
        "P = A*B\n",
        "Q = B*A\n",
        "P"
      ],
      "metadata": {
        "colab": {
          "base_uri": "https://localhost:8080/",
          "height": 78
        },
        "id": "W2E86kFQvd0g",
        "outputId": "dc6cab25-4091-4439-9811-da1f9e645ac2"
      },
      "execution_count": 311,
      "outputs": [
        {
          "output_type": "execute_result",
          "data": {
            "text/plain": [
              "⎡5   -6  8⎤\n",
              "⎢         ⎥\n",
              "⎢9   7   2⎥\n",
              "⎢         ⎥\n",
              "⎣13  5   7⎦"
            ],
            "text/latex": "$\\displaystyle \\left[\\begin{matrix}5 & -6 & 8\\\\9 & 7 & 2\\\\13 & 5 & 7\\end{matrix}\\right]$"
          },
          "metadata": {},
          "execution_count": 311
        }
      ]
    },
    {
      "cell_type": "code",
      "source": [
        "Q"
      ],
      "metadata": {
        "colab": {
          "base_uri": "https://localhost:8080/",
          "height": 78
        },
        "id": "03qVu05KxmBz",
        "outputId": "48c2f972-8e1e-4ff2-c887-19a86db57423"
      },
      "execution_count": 312,
      "outputs": [
        {
          "output_type": "execute_result",
          "data": {
            "text/plain": [
              "⎡9   -5  6⎤\n",
              "⎢         ⎥\n",
              "⎢3   5   1⎥\n",
              "⎢         ⎥\n",
              "⎣10  11  5⎦"
            ],
            "text/latex": "$\\displaystyle \\left[\\begin{matrix}9 & -5 & 6\\\\3 & 5 & 1\\\\10 & 11 & 5\\end{matrix}\\right]$"
          },
          "metadata": {},
          "execution_count": 312
        }
      ]
    },
    {
      "cell_type": "markdown",
      "source": [
        "4. **Encontrar la transpuesta:**\n",
        "$$\n",
        "A= \\left( \\begin{matrix} 3 & 1 & 2 \\\\ 0 & 4 & 1 \\end{matrix} \\right).\n",
        "$$"
      ],
      "metadata": {
        "id": "3mSe0LroxsB6"
      }
    },
    {
      "cell_type": "code",
      "source": [
        "A = Matrix([[3,1,2],[0,4,1]])\n",
        "A.T"
      ],
      "metadata": {
        "colab": {
          "base_uri": "https://localhost:8080/",
          "height": 78
        },
        "id": "nXX5fLJLxoao",
        "outputId": "9eedb01f-67c1-4e2f-a8dd-518a66d86b4e"
      },
      "execution_count": 313,
      "outputs": [
        {
          "output_type": "execute_result",
          "data": {
            "text/plain": [
              "⎡3  0⎤\n",
              "⎢    ⎥\n",
              "⎢1  4⎥\n",
              "⎢    ⎥\n",
              "⎣2  1⎦"
            ],
            "text/latex": "$\\displaystyle \\left[\\begin{matrix}3 & 0\\\\1 & 4\\\\2 & 1\\end{matrix}\\right]$"
          },
          "metadata": {},
          "execution_count": 313
        }
      ]
    },
    {
      "cell_type": "markdown",
      "source": [
        "5. **Encontrar el complejo conjugado:**\n",
        "$$\n",
        "A= \\left( \\begin{matrix} 1 & 2 & 3i \\\\ 1+i & 1 & 0 \\end{matrix} \\right).\n",
        "$$"
      ],
      "metadata": {
        "id": "ZoAP4ygzyuY7"
      }
    },
    {
      "cell_type": "code",
      "source": [
        "A = Matrix([[1,2,3j],[1+1j,1,0]])\n",
        "A.applyfunc(conjugate)"
      ],
      "metadata": {
        "colab": {
          "base_uri": "https://localhost:8080/",
          "height": 58
        },
        "id": "uGj43caOyrM9",
        "outputId": "53ca8313-6f96-496f-93e5-47439da8c064"
      },
      "execution_count": 314,
      "outputs": [
        {
          "output_type": "execute_result",
          "data": {
            "text/plain": [
              "⎡     1       2  -3.0⋅ⅈ⎤\n",
              "⎢                      ⎥\n",
              "⎣1.0 - 1.0⋅ⅈ  1    0   ⎦"
            ],
            "text/latex": "$\\displaystyle \\left[\\begin{matrix}1 & 2 & - 3.0 i\\\\1.0 - 1.0 i & 1 & 0\\end{matrix}\\right]$"
          },
          "metadata": {},
          "execution_count": 314
        }
      ]
    },
    {
      "cell_type": "markdown",
      "source": [
        "6. **Encontrar el determinante de:**\n",
        "$$\n",
        "A= \\left( \\begin{matrix} 1 & 0 & 2 & 3 \\\\ 0 & 1 & -2 & 1 \\\\ 3 & -3 & 4 & -2 \\\\ -2 & 1 & -2 & -1 \\end{matrix} \\right).\n",
        "$$"
      ],
      "metadata": {
        "id": "X8H7chk4z7h5"
      }
    },
    {
      "cell_type": "code",
      "source": [
        "A = Matrix([[1,0,2,3],[0,1,-2,1],[3,-3,4,-2],[-2,1,-2,-1]])\n",
        "A.det()"
      ],
      "metadata": {
        "colab": {
          "base_uri": "https://localhost:8080/",
          "height": 37
        },
        "id": "JrwRn3WBzFd8",
        "outputId": "38515c5c-28e9-4ec1-f286-94c61e527e3a"
      },
      "execution_count": 315,
      "outputs": [
        {
          "output_type": "execute_result",
          "data": {
            "text/plain": [
              "0"
            ],
            "text/latex": "$\\displaystyle 0$"
          },
          "metadata": {},
          "execution_count": 315
        }
      ]
    },
    {
      "cell_type": "markdown",
      "source": [
        "7. **Encontrar la inversa de:**\n",
        "$$\n",
        "A= \\left( \\begin{matrix} 2 & 4 & 3 \\\\ 1 & -2 & -2 \\\\ -3 & 3 & 2 \\end{matrix} \\right).\n",
        "$$"
      ],
      "metadata": {
        "id": "fXcUhrum1JM2"
      }
    },
    {
      "cell_type": "code",
      "source": [
        "A = Matrix([[2,4,3],[1,-2,-2],[-3,3,2]])\n",
        "A**-1"
      ],
      "metadata": {
        "colab": {
          "base_uri": "https://localhost:8080/",
          "height": 78
        },
        "id": "PDUxnfBF1CdP",
        "outputId": "10b6664e-1749-4a85-e703-e457e7e33f80"
      },
      "execution_count": 316,
      "outputs": [
        {
          "output_type": "execute_result",
          "data": {
            "text/plain": [
              "⎡2/11   1/11  -2/11⎤\n",
              "⎢                  ⎥\n",
              "⎢        13        ⎥\n",
              "⎢4/11    ──   7/11 ⎥\n",
              "⎢        11        ⎥\n",
              "⎢                  ⎥\n",
              "⎢       -18        ⎥\n",
              "⎢-3/11  ────  -8/11⎥\n",
              "⎣        11        ⎦"
            ],
            "text/latex": "$\\displaystyle \\left[\\begin{matrix}\\frac{2}{11} & \\frac{1}{11} & - \\frac{2}{11}\\\\\\frac{4}{11} & \\frac{13}{11} & \\frac{7}{11}\\\\- \\frac{3}{11} & - \\frac{18}{11} & - \\frac{8}{11}\\end{matrix}\\right]$"
          },
          "metadata": {},
          "execution_count": 316
        }
      ]
    },
    {
      "cell_type": "markdown",
      "source": [
        "8. **Encontrar los eigen valores y eigenvectores normalizados.**\n",
        "$$\n",
        "A= \\left( \\begin{matrix} 1 & 1 & 3 \\\\ 1 & 1 & -3 \\\\ 3 & -3 & -3 \\end{matrix} \\right).\n",
        "$$"
      ],
      "metadata": {
        "id": "15svKVIt2DAY"
      }
    },
    {
      "cell_type": "code",
      "source": [
        "A = Matrix([[1,1,3],[1,1,-3],[3,-3,-3]])\n",
        "eigenvals = A.eigenvals()\n",
        "eigenvects = A.eigenvects()\n",
        "\n",
        "eigenvects_normalized = [(val, multiplicity, [vec.normalized() for vec in vectors]) for val, multiplicity, vectors in eigenvects]\n",
        "\n",
        "print(\"Eigenvalores:\", eigenvals)\n",
        "print(\"Eigenvectores normalizados:\")\n",
        "eigenvects_normalized"
      ],
      "metadata": {
        "colab": {
          "base_uri": "https://localhost:8080/",
          "height": 124
        },
        "id": "D_M57M3h15xa",
        "outputId": "7957e6a3-c271-4cdc-c562-bc2921aa69d5"
      },
      "execution_count": 317,
      "outputs": [
        {
          "output_type": "stream",
          "name": "stdout",
          "text": [
            "Eigenvalores: {3: 1, 2: 1, -6: 1}\n",
            "Eigenvectores normalizados:\n"
          ]
        },
        {
          "output_type": "execute_result",
          "data": {
            "text/plain": [
              "⎡⎛       ⎡⎡-√6 ⎤⎤⎞                  ⎛      ⎡⎡ √3 ⎤⎤⎞⎤\n",
              "⎢⎜       ⎢⎢────⎥⎥⎟  ⎛      ⎡⎡√2⎤⎤⎞  ⎜      ⎢⎢ ── ⎥⎥⎟⎥\n",
              "⎢⎜       ⎢⎢ 6  ⎥⎥⎟  ⎜      ⎢⎢──⎥⎥⎟  ⎜      ⎢⎢ 3  ⎥⎥⎟⎥\n",
              "⎢⎜       ⎢⎢    ⎥⎥⎟  ⎜      ⎢⎢2 ⎥⎥⎟  ⎜      ⎢⎢    ⎥⎥⎟⎥\n",
              "⎢⎜       ⎢⎢ √6 ⎥⎥⎟  ⎜      ⎢⎢  ⎥⎥⎟  ⎜      ⎢⎢-√3 ⎥⎥⎟⎥\n",
              "⎢⎜-6, 1, ⎢⎢ ── ⎥⎥⎟, ⎜2, 1, ⎢⎢√2⎥⎥⎟, ⎜3, 1, ⎢⎢────⎥⎥⎟⎥\n",
              "⎢⎜       ⎢⎢ 6  ⎥⎥⎟  ⎜      ⎢⎢──⎥⎥⎟  ⎜      ⎢⎢ 3  ⎥⎥⎟⎥\n",
              "⎢⎜       ⎢⎢    ⎥⎥⎟  ⎜      ⎢⎢2 ⎥⎥⎟  ⎜      ⎢⎢    ⎥⎥⎟⎥\n",
              "⎢⎜       ⎢⎢ √6 ⎥⎥⎟  ⎜      ⎢⎢  ⎥⎥⎟  ⎜      ⎢⎢ √3 ⎥⎥⎟⎥\n",
              "⎢⎜       ⎢⎢ ── ⎥⎥⎟  ⎝      ⎣⎣0 ⎦⎦⎠  ⎜      ⎢⎢ ── ⎥⎥⎟⎥\n",
              "⎣⎝       ⎣⎣ 3  ⎦⎦⎠                  ⎝      ⎣⎣ 3  ⎦⎦⎠⎦"
            ],
            "text/latex": "$\\displaystyle \\left[ \\left( -6, \\  1, \\  \\left[ \\left[\\begin{matrix}- \\frac{\\sqrt{6}}{6}\\\\\\frac{\\sqrt{6}}{6}\\\\\\frac{\\sqrt{6}}{3}\\end{matrix}\\right]\\right]\\right), \\  \\left( 2, \\  1, \\  \\left[ \\left[\\begin{matrix}\\frac{\\sqrt{2}}{2}\\\\\\frac{\\sqrt{2}}{2}\\\\0\\end{matrix}\\right]\\right]\\right), \\  \\left( 3, \\  1, \\  \\left[ \\left[\\begin{matrix}\\frac{\\sqrt{3}}{3}\\\\- \\frac{\\sqrt{3}}{3}\\\\\\frac{\\sqrt{3}}{3}\\end{matrix}\\right]\\right]\\right)\\right]$"
          },
          "metadata": {},
          "execution_count": 317
        }
      ]
    },
    {
      "cell_type": "markdown",
      "source": [
        "9. **Encontrar la solución.**\n",
        "$$\n",
        "2x+4y+3z=4\n",
        "$$\n",
        "$$\n",
        "x-2y-2z=0\n",
        "$$\n",
        "$$\n",
        "-3x+3y+2z=-7.\n",
        "$$"
      ],
      "metadata": {
        "id": "Ew1gj7j74egf"
      }
    },
    {
      "cell_type": "code",
      "source": [
        "linsolve((Matrix([[2,4,3,4],[1,-2,-2,0],[-3,3,2,-7]])), (x,y,z))"
      ],
      "metadata": {
        "colab": {
          "base_uri": "https://localhost:8080/",
          "height": 37
        },
        "id": "jNfYkeZ24ViI",
        "outputId": "22926f64-9498-41fe-ff17-34acbc130bbf"
      },
      "execution_count": 318,
      "outputs": [
        {
          "output_type": "execute_result",
          "data": {
            "text/plain": [
              "{(2, -3, 4)}"
            ],
            "text/latex": "$\\displaystyle \\left\\{\\left( 2, \\  -3, \\  4\\right)\\right\\}$"
          },
          "metadata": {},
          "execution_count": 318
        }
      ]
    },
    {
      "cell_type": "markdown",
      "source": [
        "## Parte C\n",
        "1. **Calcular el gradiente**\n",
        "$$\n",
        "\\phi=xy^2z^2.\n",
        "$$"
      ],
      "metadata": {
        "id": "r7mwY80y6Ddy"
      }
    },
    {
      "cell_type": "code",
      "source": [
        "phi = R.x*R.y**2*R.z**2\n",
        "print(f\"El gradiente de la función es:\")\n",
        "gradient(phi)"
      ],
      "metadata": {
        "colab": {
          "base_uri": "https://localhost:8080/",
          "height": 57
        },
        "id": "CdfEw2Va6vg9",
        "outputId": "b97b4439-f25f-4142-f25e-3420fd7ff801"
      },
      "execution_count": 319,
      "outputs": [
        {
          "output_type": "stream",
          "name": "stdout",
          "text": [
            "El gradiente de la función es:\n"
          ]
        },
        {
          "output_type": "execute_result",
          "data": {
            "text/plain": [
              "⎛   2    2⎞        ⎛             2⎞        ⎛         2    ⎞     \n",
              "⎝y_R ⋅z_R ⎠ i_R  + ⎝2⋅x_R⋅y_R⋅z_R ⎠ j_R  + ⎝2⋅x_R⋅y_R ⋅z_R⎠ k_R "
            ],
            "text/latex": "$\\displaystyle \\left(\\mathbf{{y}_{R}}^{2} \\mathbf{{z}_{R}}^{2}\\right)\\mathbf{\\hat{i}_{R}} + \\left(2 \\mathbf{{x}_{R}} \\mathbf{{y}_{R}} \\mathbf{{z}_{R}}^{2}\\right)\\mathbf{\\hat{j}_{R}} + \\left(2 \\mathbf{{x}_{R}} \\mathbf{{y}_{R}}^{2} \\mathbf{{z}_{R}}\\right)\\mathbf{\\hat{k}_{R}}$"
          },
          "metadata": {},
          "execution_count": 319
        }
      ]
    },
    {
      "cell_type": "markdown",
      "source": [
        "2. **Calcular la divergencia**\n",
        "$$\n",
        "\\vec{a}=x^2y^2\\hat{i}+y^2z^2\\hat{j}+x^2z^2\\hat{z}.\n",
        "$$"
      ],
      "metadata": {
        "id": "HMx5Btzn-tUr"
      }
    },
    {
      "cell_type": "code",
      "source": [
        "a = R.x**2*R.y**2*R.i + R.y**2*R.z**2*R.j + R.x**2*R.z**2*R.k\n",
        "print(f\"La divergencia del vector a es:\")\n",
        "divergence(a)"
      ],
      "metadata": {
        "colab": {
          "base_uri": "https://localhost:8080/",
          "height": 55
        },
        "id": "pZOzhi3G9Iy2",
        "outputId": "b983d97b-b40d-434a-a7f0-ced0f9ffbf3f"
      },
      "execution_count": 320,
      "outputs": [
        {
          "output_type": "stream",
          "name": "stdout",
          "text": [
            "La divergencia del vector a es:\n"
          ]
        },
        {
          "output_type": "execute_result",
          "data": {
            "text/plain": [
              "     2                2            2\n",
              "2⋅x_R ⋅z_R + 2⋅x_R⋅y_R  + 2⋅y_R⋅z_R "
            ],
            "text/latex": "$\\displaystyle 2 \\mathbf{{x}_{R}}^{2} \\mathbf{{z}_{R}} + 2 \\mathbf{{x}_{R}} \\mathbf{{y}_{R}}^{2} + 2 \\mathbf{{y}_{R}} \\mathbf{{z}_{R}}^{2}$"
          },
          "metadata": {},
          "execution_count": 320
        }
      ]
    },
    {
      "cell_type": "markdown",
      "source": [
        "3. **Calcular el Laplaciano**\n",
        "$$\n",
        "\\phi=xy^2z^3.\n",
        "$$"
      ],
      "metadata": {
        "id": "PbczVu6z_jVd"
      }
    },
    {
      "cell_type": "code",
      "source": [
        "phi = R.x*R.y**2*R.z**3\n",
        "print(f\"El laplaciano de la función es:\")\n",
        "laplacian(phi)"
      ],
      "metadata": {
        "colab": {
          "base_uri": "https://localhost:8080/",
          "height": 55
        },
        "id": "2bMki_RD_V5V",
        "outputId": "b0f7c962-6429-4660-ddb6-0b8c8c221159"
      },
      "execution_count": 321,
      "outputs": [
        {
          "output_type": "stream",
          "name": "stdout",
          "text": [
            "El laplaciano de la función es:\n"
          ]
        },
        {
          "output_type": "execute_result",
          "data": {
            "text/plain": [
              "         2                3\n",
              "6⋅x_R⋅y_R ⋅z_R + 2⋅x_R⋅z_R "
            ],
            "text/latex": "$\\displaystyle 6 \\mathbf{{x}_{R}} \\mathbf{{y}_{R}}^{2} \\mathbf{{z}_{R}} + 2 \\mathbf{{x}_{R}} \\mathbf{{z}_{R}}^{3}$"
          },
          "metadata": {},
          "execution_count": 321
        }
      ]
    },
    {
      "cell_type": "markdown",
      "source": [
        "4. **Checar:**\n",
        "$$\n",
        "∇×(\\phi\\vec{a})=∇\\phi\\times\\vec{a}+\\phi∇\\times\\vec{a},\n",
        "$$\n",
        "$$\n",
        "∇·(∇\\phi×∇ψ)=0,\n",
        "$$\n",
        "$$\n",
        "∇·(∇×\\vec{a})=0.\n",
        "$$"
      ],
      "metadata": {
        "id": "DErln0yHBV_B"
      }
    },
    {
      "cell_type": "code",
      "source": [
        "phi, psi, X, Y, Z = symbols(\"\\phi \\psi X Y Z\", cls=Function)\n",
        "phi = phi(R.x, R.y, R.z)\n",
        "psi = psi(R.x, R.y, R.z)\n",
        "a = X(R.x, R.y, R.z)*R.i + Y(R.x, R.y, R.z)*R.j + Z(R.x, R.y, R.z)*R.k"
      ],
      "metadata": {
        "id": "gS8FmbbhBOZN"
      },
      "execution_count": 322,
      "outputs": []
    },
    {
      "cell_type": "code",
      "source": [
        "curl(phi*a)"
      ],
      "metadata": {
        "colab": {
          "base_uri": "https://localhost:8080/",
          "height": 139
        },
        "id": "4C5pm1SUFNMF",
        "outputId": "0b88696c-88d8-4c24-bb0b-65af92af0eaf"
      },
      "execution_count": 323,
      "outputs": [
        {
          "output_type": "execute_result",
          "data": {
            "text/plain": [
              "⎛                    ∂                                            ∂                                ↪\n",
              "⎜- Y(x_R, y_R, z_R)⋅────(\\phi(x_R, y_R, z_R)) + Z(x_R, y_R, z_R)⋅────(\\phi(x_R, y_R, z_R)) - \\phi( ↪\n",
              "⎝                   ∂z_R                                         ∂y_R                              ↪\n",
              "\n",
              "↪                 ∂                                            ∂                    ⎞       ⎛      ↪\n",
              "↪ x_R, y_R, z_R)⋅────(Y(x_R, y_R, z_R)) + \\phi(x_R, y_R, z_R)⋅────(Z(x_R, y_R, z_R))⎟ i_R + ⎜X(x_R ↪\n",
              "↪                ∂z_R                                         ∂y_R                  ⎠       ⎝      ↪\n",
              "\n",
              "↪              ∂                                            ∂                                      ↪\n",
              "↪ , y_R, z_R)⋅────(\\phi(x_R, y_R, z_R)) - Z(x_R, y_R, z_R)⋅────(\\phi(x_R, y_R, z_R)) + \\phi(x_R, y ↪\n",
              "↪             ∂z_R                                         ∂x_R                                    ↪\n",
              "\n",
              "↪           ∂                                            ∂                    ⎞       ⎛            ↪\n",
              "↪ _R, z_R)⋅────(X(x_R, y_R, z_R)) - \\phi(x_R, y_R, z_R)⋅────(Z(x_R, y_R, z_R))⎟ j_R + ⎜- X(x_R, y_ ↪\n",
              "↪          ∂z_R                                         ∂x_R                  ⎠       ⎝            ↪\n",
              "\n",
              "↪          ∂                                            ∂                                          ↪\n",
              "↪ R, z_R)⋅────(\\phi(x_R, y_R, z_R)) + Y(x_R, y_R, z_R)⋅────(\\phi(x_R, y_R, z_R)) - \\phi(x_R, y_R,  ↪\n",
              "↪         ∂y_R                                         ∂x_R                                        ↪\n",
              "\n",
              "↪       ∂                                            ∂                    ⎞    \n",
              "↪ z_R)⋅────(X(x_R, y_R, z_R)) + \\phi(x_R, y_R, z_R)⋅────(Y(x_R, y_R, z_R))⎟ k_R\n",
              "↪      ∂y_R                                         ∂x_R                  ⎠    "
            ],
            "text/latex": "$\\displaystyle \\left(- Y{\\left(\\mathbf{{x}_{R}},\\mathbf{{y}_{R}},\\mathbf{{z}_{R}} \\right)} \\frac{\\partial}{\\partial \\mathbf{{z}_{R}}} \\phi{\\left(\\mathbf{{x}_{R}},\\mathbf{{y}_{R}},\\mathbf{{z}_{R}} \\right)} + Z{\\left(\\mathbf{{x}_{R}},\\mathbf{{y}_{R}},\\mathbf{{z}_{R}} \\right)} \\frac{\\partial}{\\partial \\mathbf{{y}_{R}}} \\phi{\\left(\\mathbf{{x}_{R}},\\mathbf{{y}_{R}},\\mathbf{{z}_{R}} \\right)} - \\phi{\\left(\\mathbf{{x}_{R}},\\mathbf{{y}_{R}},\\mathbf{{z}_{R}} \\right)} \\frac{\\partial}{\\partial \\mathbf{{z}_{R}}} Y{\\left(\\mathbf{{x}_{R}},\\mathbf{{y}_{R}},\\mathbf{{z}_{R}} \\right)} + \\phi{\\left(\\mathbf{{x}_{R}},\\mathbf{{y}_{R}},\\mathbf{{z}_{R}} \\right)} \\frac{\\partial}{\\partial \\mathbf{{y}_{R}}} Z{\\left(\\mathbf{{x}_{R}},\\mathbf{{y}_{R}},\\mathbf{{z}_{R}} \\right)}\\right)\\mathbf{\\hat{i}_{R}} + \\left(X{\\left(\\mathbf{{x}_{R}},\\mathbf{{y}_{R}},\\mathbf{{z}_{R}} \\right)} \\frac{\\partial}{\\partial \\mathbf{{z}_{R}}} \\phi{\\left(\\mathbf{{x}_{R}},\\mathbf{{y}_{R}},\\mathbf{{z}_{R}} \\right)} - Z{\\left(\\mathbf{{x}_{R}},\\mathbf{{y}_{R}},\\mathbf{{z}_{R}} \\right)} \\frac{\\partial}{\\partial \\mathbf{{x}_{R}}} \\phi{\\left(\\mathbf{{x}_{R}},\\mathbf{{y}_{R}},\\mathbf{{z}_{R}} \\right)} + \\phi{\\left(\\mathbf{{x}_{R}},\\mathbf{{y}_{R}},\\mathbf{{z}_{R}} \\right)} \\frac{\\partial}{\\partial \\mathbf{{z}_{R}}} X{\\left(\\mathbf{{x}_{R}},\\mathbf{{y}_{R}},\\mathbf{{z}_{R}} \\right)} - \\phi{\\left(\\mathbf{{x}_{R}},\\mathbf{{y}_{R}},\\mathbf{{z}_{R}} \\right)} \\frac{\\partial}{\\partial \\mathbf{{x}_{R}}} Z{\\left(\\mathbf{{x}_{R}},\\mathbf{{y}_{R}},\\mathbf{{z}_{R}} \\right)}\\right)\\mathbf{\\hat{j}_{R}} + \\left(- X{\\left(\\mathbf{{x}_{R}},\\mathbf{{y}_{R}},\\mathbf{{z}_{R}} \\right)} \\frac{\\partial}{\\partial \\mathbf{{y}_{R}}} \\phi{\\left(\\mathbf{{x}_{R}},\\mathbf{{y}_{R}},\\mathbf{{z}_{R}} \\right)} + Y{\\left(\\mathbf{{x}_{R}},\\mathbf{{y}_{R}},\\mathbf{{z}_{R}} \\right)} \\frac{\\partial}{\\partial \\mathbf{{x}_{R}}} \\phi{\\left(\\mathbf{{x}_{R}},\\mathbf{{y}_{R}},\\mathbf{{z}_{R}} \\right)} - \\phi{\\left(\\mathbf{{x}_{R}},\\mathbf{{y}_{R}},\\mathbf{{z}_{R}} \\right)} \\frac{\\partial}{\\partial \\mathbf{{y}_{R}}} X{\\left(\\mathbf{{x}_{R}},\\mathbf{{y}_{R}},\\mathbf{{z}_{R}} \\right)} + \\phi{\\left(\\mathbf{{x}_{R}},\\mathbf{{y}_{R}},\\mathbf{{z}_{R}} \\right)} \\frac{\\partial}{\\partial \\mathbf{{x}_{R}}} Y{\\left(\\mathbf{{x}_{R}},\\mathbf{{y}_{R}},\\mathbf{{z}_{R}} \\right)}\\right)\\mathbf{\\hat{k}_{R}}$"
          },
          "metadata": {},
          "execution_count": 323
        }
      ]
    },
    {
      "cell_type": "code",
      "source": [
        "gradient(phi).cross(a)+phi*curl(a)"
      ],
      "metadata": {
        "colab": {
          "base_uri": "https://localhost:8080/",
          "height": 139
        },
        "id": "8rhmENOtHvwM",
        "outputId": "7defa937-d9a2-4e17-ebd3-a8b5f79134e7"
      },
      "execution_count": 324,
      "outputs": [
        {
          "output_type": "execute_result",
          "data": {
            "text/plain": [
              "⎛⎛   ∂                        ∂                    ⎞                                         ∂     ↪\n",
              "⎜⎜- ────(Y(x_R, y_R, z_R)) + ────(Z(x_R, y_R, z_R))⎟⋅\\phi(x_R, y_R, z_R) - Y(x_R, y_R, z_R)⋅────(\\ ↪\n",
              "⎝⎝  ∂z_R                     ∂y_R                  ⎠                                        ∂z_R   ↪\n",
              "\n",
              "↪                                         ∂                       ⎞       ⎛⎛ ∂                     ↪\n",
              "↪ phi(x_R, y_R, z_R)) + Z(x_R, y_R, z_R)⋅────(\\phi(x_R, y_R, z_R))⎟ i_R + ⎜⎜────(X(x_R, y_R, z_R)) ↪\n",
              "↪                                        ∂y_R                     ⎠       ⎝⎝∂z_R                   ↪\n",
              "\n",
              "↪     ∂                    ⎞                                         ∂                             ↪\n",
              "↪  - ────(Z(x_R, y_R, z_R))⎟⋅\\phi(x_R, y_R, z_R) + X(x_R, y_R, z_R)⋅────(\\phi(x_R, y_R, z_R)) - Z( ↪\n",
              "↪    ∂x_R                  ⎠                                        ∂z_R                           ↪\n",
              "\n",
              "↪                 ∂                       ⎞       ⎛⎛   ∂                        ∂                  ↪\n",
              "↪ x_R, y_R, z_R)⋅────(\\phi(x_R, y_R, z_R))⎟ j_R + ⎜⎜- ────(X(x_R, y_R, z_R)) + ────(Y(x_R, y_R, z_ ↪\n",
              "↪                ∂x_R                     ⎠       ⎝⎝  ∂y_R                     ∂x_R                ↪\n",
              "\n",
              "↪    ⎞                                         ∂                                            ∂      ↪\n",
              "↪ R))⎟⋅\\phi(x_R, y_R, z_R) - X(x_R, y_R, z_R)⋅────(\\phi(x_R, y_R, z_R)) + Y(x_R, y_R, z_R)⋅────(\\p ↪\n",
              "↪    ⎠                                        ∂y_R                                         ∂x_R    ↪\n",
              "\n",
              "↪                   ⎞    \n",
              "↪ hi(x_R, y_R, z_R))⎟ k_R\n",
              "↪                   ⎠    "
            ],
            "text/latex": "$\\displaystyle \\left(\\left(- \\frac{\\partial}{\\partial \\mathbf{{z}_{R}}} Y{\\left(\\mathbf{{x}_{R}},\\mathbf{{y}_{R}},\\mathbf{{z}_{R}} \\right)} + \\frac{\\partial}{\\partial \\mathbf{{y}_{R}}} Z{\\left(\\mathbf{{x}_{R}},\\mathbf{{y}_{R}},\\mathbf{{z}_{R}} \\right)}\\right) \\phi{\\left(\\mathbf{{x}_{R}},\\mathbf{{y}_{R}},\\mathbf{{z}_{R}} \\right)} - Y{\\left(\\mathbf{{x}_{R}},\\mathbf{{y}_{R}},\\mathbf{{z}_{R}} \\right)} \\frac{\\partial}{\\partial \\mathbf{{z}_{R}}} \\phi{\\left(\\mathbf{{x}_{R}},\\mathbf{{y}_{R}},\\mathbf{{z}_{R}} \\right)} + Z{\\left(\\mathbf{{x}_{R}},\\mathbf{{y}_{R}},\\mathbf{{z}_{R}} \\right)} \\frac{\\partial}{\\partial \\mathbf{{y}_{R}}} \\phi{\\left(\\mathbf{{x}_{R}},\\mathbf{{y}_{R}},\\mathbf{{z}_{R}} \\right)}\\right)\\mathbf{\\hat{i}_{R}} + \\left(\\left(\\frac{\\partial}{\\partial \\mathbf{{z}_{R}}} X{\\left(\\mathbf{{x}_{R}},\\mathbf{{y}_{R}},\\mathbf{{z}_{R}} \\right)} - \\frac{\\partial}{\\partial \\mathbf{{x}_{R}}} Z{\\left(\\mathbf{{x}_{R}},\\mathbf{{y}_{R}},\\mathbf{{z}_{R}} \\right)}\\right) \\phi{\\left(\\mathbf{{x}_{R}},\\mathbf{{y}_{R}},\\mathbf{{z}_{R}} \\right)} + X{\\left(\\mathbf{{x}_{R}},\\mathbf{{y}_{R}},\\mathbf{{z}_{R}} \\right)} \\frac{\\partial}{\\partial \\mathbf{{z}_{R}}} \\phi{\\left(\\mathbf{{x}_{R}},\\mathbf{{y}_{R}},\\mathbf{{z}_{R}} \\right)} - Z{\\left(\\mathbf{{x}_{R}},\\mathbf{{y}_{R}},\\mathbf{{z}_{R}} \\right)} \\frac{\\partial}{\\partial \\mathbf{{x}_{R}}} \\phi{\\left(\\mathbf{{x}_{R}},\\mathbf{{y}_{R}},\\mathbf{{z}_{R}} \\right)}\\right)\\mathbf{\\hat{j}_{R}} + \\left(\\left(- \\frac{\\partial}{\\partial \\mathbf{{y}_{R}}} X{\\left(\\mathbf{{x}_{R}},\\mathbf{{y}_{R}},\\mathbf{{z}_{R}} \\right)} + \\frac{\\partial}{\\partial \\mathbf{{x}_{R}}} Y{\\left(\\mathbf{{x}_{R}},\\mathbf{{y}_{R}},\\mathbf{{z}_{R}} \\right)}\\right) \\phi{\\left(\\mathbf{{x}_{R}},\\mathbf{{y}_{R}},\\mathbf{{z}_{R}} \\right)} - X{\\left(\\mathbf{{x}_{R}},\\mathbf{{y}_{R}},\\mathbf{{z}_{R}} \\right)} \\frac{\\partial}{\\partial \\mathbf{{y}_{R}}} \\phi{\\left(\\mathbf{{x}_{R}},\\mathbf{{y}_{R}},\\mathbf{{z}_{R}} \\right)} + Y{\\left(\\mathbf{{x}_{R}},\\mathbf{{y}_{R}},\\mathbf{{z}_{R}} \\right)} \\frac{\\partial}{\\partial \\mathbf{{x}_{R}}} \\phi{\\left(\\mathbf{{x}_{R}},\\mathbf{{y}_{R}},\\mathbf{{z}_{R}} \\right)}\\right)\\mathbf{\\hat{k}_{R}}$"
          },
          "metadata": {},
          "execution_count": 324
        }
      ]
    },
    {
      "cell_type": "code",
      "source": [
        "Eq(Divergence(Cross(Gradient(phi), Gradient(psi))), Divergence(Cross(Gradient(phi).doit(), Gradient(psi).doit()).doit()).doit())"
      ],
      "metadata": {
        "colab": {
          "base_uri": "https://localhost:8080/",
          "height": 39
        },
        "id": "O8HSKAN7OF1-",
        "outputId": "986c66ab-2200-43b4-f803-9374ec1e736f"
      },
      "execution_count": 325,
      "outputs": [
        {
          "output_type": "execute_result",
          "data": {
            "text/plain": [
              "∇⋅((∇(\\phi(x_R, y_R, z_R)))×(∇(\\psi(x_R, y_R, z_R)))) = 0"
            ],
            "text/latex": "$\\displaystyle \\nabla\\cdot \\left(\\left(\\nabla \\phi{\\left(\\mathbf{{x}_{R}},\\mathbf{{y}_{R}},\\mathbf{{z}_{R}} \\right)}\\right) \\times \\left(\\nabla \\psi{\\left(\\mathbf{{x}_{R}},\\mathbf{{y}_{R}},\\mathbf{{z}_{R}} \\right)}\\right)\\right) = 0$"
          },
          "metadata": {},
          "execution_count": 325
        }
      ]
    },
    {
      "cell_type": "code",
      "source": [
        "Eq(Divergence(Curl(a)), Divergence(Curl(a).doit()).doit())"
      ],
      "metadata": {
        "colab": {
          "base_uri": "https://localhost:8080/",
          "height": 47
        },
        "id": "P0c-WAKnPbjn",
        "outputId": "b9f3bae5-4649-44d7-8e99-7e22a5365330"
      },
      "execution_count": 326,
      "outputs": [
        {
          "output_type": "execute_result",
          "data": {
            "text/plain": [
              "∇⋅(∇×((X(x_R, y_R, z_R)) i_R + (Y(x_R, y_R, z_R)) j_R + (Z(x_R, y_R, z_R)) k_R)) = 0"
            ],
            "text/latex": "$\\displaystyle \\nabla\\cdot \\left(\\nabla\\times \\left(\\left(X{\\left(\\mathbf{{x}_{R}},\\mathbf{{y}_{R}},\\mathbf{{z}_{R}} \\right)}\\right)\\mathbf{\\hat{i}_{R}} + \\left(Y{\\left(\\mathbf{{x}_{R}},\\mathbf{{y}_{R}},\\mathbf{{z}_{R}} \\right)}\\right)\\mathbf{\\hat{j}_{R}} + \\left(Z{\\left(\\mathbf{{x}_{R}},\\mathbf{{y}_{R}},\\mathbf{{z}_{R}} \\right)}\\right)\\mathbf{\\hat{k}_{R}}\\right)\\right) = 0$"
          },
          "metadata": {},
          "execution_count": 326
        }
      ]
    },
    {
      "cell_type": "markdown",
      "source": [
        "5. **Calcular el volumen**\n",
        "$$\n",
        "\\vec{a}=\\hat{i}+2\\hat{j}+3\\hat{k},\n",
        "$$\n",
        "$$\n",
        "\\vec{b}=4\\hat{i}+5\\hat{j}+6\\hat{k},\n",
        "$$\n",
        "$$\n",
        "\\vec{c}=7\\hat{i}+8\\hat{j}+9\\hat{k}.\n",
        "$$"
      ],
      "metadata": {
        "id": "sYW4qxfDPpkx"
      }
    },
    {
      "cell_type": "code",
      "source": [
        "a = R.i + 2*R.j + 3*R.k\n",
        "b = 4*R.i + 5*R.j + 6*R.k\n",
        "c = 7*R.i + 8*R.j + 9*R.k\n",
        "print(\"El volumen del paralelogramo que forman los vectores a, b y c es:\", Dot(c, Cross(a,b).doit()).doit())\n",
        "print(\"Son vectores coplanares\")"
      ],
      "metadata": {
        "colab": {
          "base_uri": "https://localhost:8080/"
        },
        "id": "edrynqP0Pnhm",
        "outputId": "d30698e6-7e50-4fcd-cfb3-ae70e9a4f483"
      },
      "execution_count": 327,
      "outputs": [
        {
          "output_type": "stream",
          "name": "stdout",
          "text": [
            "El volumen del paralelogramo que forman los vectores a, b y c es: 0\n",
            "Son vectores coplanares\n"
          ]
        }
      ]
    },
    {
      "cell_type": "markdown",
      "source": [
        "6. **Escribir la serie de Fourier de $f(x)=x^2$ para $-2\\leq x \\leq 2$.**"
      ],
      "metadata": {
        "id": "9HowlkY8idhf"
      }
    },
    {
      "cell_type": "code",
      "source": [
        "Eq(x**2, fourier_series(x**2, (x, -2, 2)))"
      ],
      "metadata": {
        "colab": {
          "base_uri": "https://localhost:8080/",
          "height": 56
        },
        "id": "TIW3g9NYhT4S",
        "outputId": "aa0db656-f8c2-433f-9c8b-99fc5c32338a"
      },
      "execution_count": 328,
      "outputs": [
        {
          "output_type": "execute_result",
          "data": {
            "text/plain": [
              "             ⎛π⋅x⎞                     \n",
              "       16⋅cos⎜───⎟                     \n",
              " 2           ⎝ 2 ⎠   4⋅cos(π⋅x)   4    \n",
              "x  = - ─────────── + ────────── + ─ + …\n",
              "            2             2       3    \n",
              "           π             π             "
            ],
            "text/latex": "$\\displaystyle x^{2} = - \\frac{16 \\cos{\\left(\\frac{\\pi x}{2} \\right)}}{\\pi^{2}} + \\frac{4 \\cos{\\left(\\pi x \\right)}}{\\pi^{2}} + \\frac{4}{3} + \\ldots$"
          },
          "metadata": {},
          "execution_count": 328
        }
      ]
    },
    {
      "cell_type": "markdown",
      "source": [
        "7. **Encontrar la transformada de Fourier**\n",
        "$$\n",
        "f(t)=\\frac{1}{\\tau\\sqrt{2\\pi}}\\exp \\left( \\frac{-t^2}{2\\tau^2} \\right), \\quad -∞ < t < ∞\n",
        "$$"
      ],
      "metadata": {
        "id": "8DNPbZ-UnBnV"
      }
    },
    {
      "cell_type": "code",
      "source": [
        "t, k, s = symbols(\"t k s\")\n",
        "f = 1/(sqrt(2*pi))*exp(-t**2/(2))\n",
        "Eq(FourierTransform(f, t, k), FourierTransform(f, t, k).doit())"
      ],
      "metadata": {
        "colab": {
          "base_uri": "https://localhost:8080/",
          "height": 69
        },
        "id": "tMfSOOx9jpcr",
        "outputId": "d1a87edf-fcdb-41ed-dd4c-5d24fa3e9f2d"
      },
      "execution_count": 329,
      "outputs": [
        {
          "output_type": "execute_result",
          "data": {
            "text/plain": [
              "                ⎛      2       ⎞            \n",
              "                ⎜    -t        ⎟            \n",
              "                ⎜    ────      ⎟            \n",
              "                ⎜     2        ⎟        2  2\n",
              "                ⎜√2⋅ℯ          ⎟    -2⋅π ⋅k \n",
              "FourierTransform⎜────────, t, k⎟ = ℯ        \n",
              "                ⎝  2⋅√π        ⎠            "
            ],
            "text/latex": "$\\displaystyle \\mathcal{F}_{t}\\left[\\frac{\\sqrt{2} e^{- \\frac{t^{2}}{2}}}{2 \\sqrt{\\pi}}\\right]\\left(k\\right) = e^{- 2 \\pi^{2} k^{2}}$"
          },
          "metadata": {},
          "execution_count": 329
        }
      ]
    },
    {
      "cell_type": "markdown",
      "source": [
        "8. **Encontrar la transformada de Laplace de $f(t)=e^{at}$.**"
      ],
      "metadata": {
        "id": "G_5zGXkx5O0Z"
      }
    },
    {
      "cell_type": "code",
      "source": [
        "Eq(LaplaceTransform(exp(a*t), t, s), LaplaceTransform(exp(a*t), t, s).doit())"
      ],
      "metadata": {
        "colab": {
          "base_uri": "https://localhost:8080/",
          "height": 57
        },
        "id": "nlzFTH0b1RTP",
        "outputId": "73e5a02f-7ece-4033-a6c1-01d56017d9f5"
      },
      "execution_count": 330,
      "outputs": [
        {
          "output_type": "execute_result",
          "data": {
            "text/plain": [
              "                ⎛ (t) i_R + (2⋅t) j_R + (3⋅t) k_R      ⎞              1            \n",
              "LaplaceTransform⎝ℯ                               , t, s⎠ = ────────────────────────\n",
              "                                                           -i_R - 2⋅j_R - 3⋅k_R + s"
            ],
            "text/latex": "$\\displaystyle \\mathcal{L}_{t}\\left[e^{\\left(t\\right)\\mathbf{\\hat{i}_{R}} + \\left(2 t\\right)\\mathbf{\\hat{j}_{R}} + \\left(3 t\\right)\\mathbf{\\hat{k}_{R}}}\\right]\\left(s\\right) = \\frac{1}{- \\mathbf{\\hat{i}_{R}} - 2 \\mathbf{\\hat{j}_{R}} - 3 \\mathbf{\\hat{k}_{R}} + s}$"
          },
          "metadata": {},
          "execution_count": 330
        }
      ]
    },
    {
      "cell_type": "markdown",
      "source": [
        "9. **Calcular la integral de camino**\n",
        "$$\n",
        "I=\\int_{C}\\vec{a}·d\\vec{r}, \\qquad \\vec{a}=(x+y)\\hat{i}+(y-x)\\hat{j},\n",
        "$$\n",
        " **sobre la curva $x=2u^2+u+1$, $y=1+u^2$, desde $(1,1)$ hasta $(4,2)$.**"
      ],
      "metadata": {
        "id": "3_Zt92uD6IgC"
      }
    },
    {
      "cell_type": "code",
      "source": [
        "u, X, Y = symbols(\"u X Y\")\n",
        "print(\"Calculamos los límites del parámetro u:\")\n",
        "u_1 = solve((Eq(1,2*u**2+u+1), Eq(1,1+u**2)))\n",
        "u_2 = solve((Eq(4,2*u**2+u+1), Eq(2,1+u**2)))\n",
        "print(\"u_1 =\", u_1)\n",
        "print(\"u_2 =\", u_2)"
      ],
      "metadata": {
        "colab": {
          "base_uri": "https://localhost:8080/"
        },
        "id": "u4QvNKKy51OJ",
        "outputId": "669be67e-6f9f-4e78-9f39-1e91a99bd1b0"
      },
      "execution_count": 332,
      "outputs": [
        {
          "output_type": "stream",
          "name": "stdout",
          "text": [
            "Calculamos los límites del parámetro u:\n",
            "u_1 = [{u: 0}]\n",
            "u_2 = [{u: 1}]\n"
          ]
        }
      ]
    },
    {
      "cell_type": "code",
      "source": [
        "X, Y = 2*u**2 + u + 1, 1 + u**2\n",
        "a = (X+Y)*R.i + (Y-X)*R.j\n",
        "d_r = X.diff(u)*R.i + Y.diff(u)*R.j\n",
        "arg = a.dot(d_r)\n",
        "I = Integral(arg, (u, 0, 1))\n",
        "Eq(I, I.doit())"
      ],
      "metadata": {
        "colab": {
          "base_uri": "https://localhost:8080/",
          "height": 80
        },
        "id": "9lPgSumIQpwL",
        "outputId": "8718195f-d882-4569-e692-2c0145ed7cbe"
      },
      "execution_count": 342,
      "outputs": [
        {
          "output_type": "execute_result",
          "data": {
            "text/plain": [
              "1                                                      \n",
              "⌠                                                      \n",
              "⎮ ⎛    ⎛   2    ⎞             ⎛   2        ⎞⎞          \n",
              "⎮ ⎝2⋅u⋅⎝- u  - u⎠ + (4⋅u + 1)⋅⎝3⋅u  + u + 2⎠⎠ du = 32/3\n",
              "⌡                                                      \n",
              "0                                                      "
            ],
            "text/latex": "$\\displaystyle \\int\\limits_{0}^{1} \\left(2 u \\left(- u^{2} - u\\right) + \\left(4 u + 1\\right) \\left(3 u^{2} + u + 2\\right)\\right)\\, du = \\frac{32}{3}$"
          },
          "metadata": {},
          "execution_count": 342
        }
      ]
    },
    {
      "cell_type": "markdown",
      "source": [
        "## Parte D\n",
        "1. **Resolver (Hint: separable)**\n",
        "$$\n",
        "\\frac{dy}{dx}=x+xy.\n",
        "$$"
      ],
      "metadata": {
        "id": "OLwOk5WgWEs3"
      }
    },
    {
      "cell_type": "code",
      "source": [
        "f = Function('f')(x)\n",
        "diffeq = Eq(Derivative(f, x), x+x*f)\n",
        "diffeq"
      ],
      "metadata": {
        "colab": {
          "base_uri": "https://localhost:8080/",
          "height": 52
        },
        "id": "JbsY4CBmWDLy",
        "outputId": "d514bf5c-3512-42c4-9339-eb4a09613b4c"
      },
      "execution_count": 348,
      "outputs": [
        {
          "output_type": "execute_result",
          "data": {
            "text/plain": [
              "d                    \n",
              "──(f(x)) = x⋅f(x) + x\n",
              "dx                   "
            ],
            "text/latex": "$\\displaystyle \\frac{d}{d x} f{\\left(x \\right)} = x f{\\left(x \\right)} + x$"
          },
          "metadata": {},
          "execution_count": 348
        }
      ]
    },
    {
      "cell_type": "code",
      "source": [
        "dsolve(diffeq, f, hint=\"separable\")"
      ],
      "metadata": {
        "colab": {
          "base_uri": "https://localhost:8080/",
          "height": 44
        },
        "id": "WucpYnAPW2Vk",
        "outputId": "62e179ee-27f1-4d69-e501-95946dd2bb3e"
      },
      "execution_count": 352,
      "outputs": [
        {
          "output_type": "execute_result",
          "data": {
            "text/plain": [
              "            2    \n",
              "           x     \n",
              "           ──    \n",
              "           2     \n",
              "f(x) = C₁⋅ℯ   - 1"
            ],
            "text/latex": "$\\displaystyle f{\\left(x \\right)} = C_{1} e^{\\frac{x^{2}}{2}} - 1$"
          },
          "metadata": {},
          "execution_count": 352
        }
      ]
    },
    {
      "cell_type": "markdown",
      "source": [
        "2. **Resolver (Hint: exacta)**\n",
        "$$\n",
        "x\\frac{dy}{dx}+3x+y=0.\n",
        "$$"
      ],
      "metadata": {
        "id": "m54rv8g2Xs1H"
      }
    },
    {
      "cell_type": "code",
      "source": [
        "diffeq = Eq(x*Derivative(f, x)+3*x+f, 0)\n",
        "diffeq"
      ],
      "metadata": {
        "colab": {
          "base_uri": "https://localhost:8080/",
          "height": 52
        },
        "id": "QEzo40yYXbY0",
        "outputId": "2eb0be0b-9cf1-4738-bf01-a0148ee485df"
      },
      "execution_count": 372,
      "outputs": [
        {
          "output_type": "execute_result",
          "data": {
            "text/plain": [
              "  d                        \n",
              "x⋅──(f(x)) + 3⋅x + f(x) = 0\n",
              "  dx                       "
            ],
            "text/latex": "$\\displaystyle x \\frac{d}{d x} f{\\left(x \\right)} + 3 x + f{\\left(x \\right)} = 0$"
          },
          "metadata": {},
          "execution_count": 372
        }
      ]
    },
    {
      "cell_type": "code",
      "source": [
        "dsolve(diffeq, f, hint=\"1st_exact\")"
      ],
      "metadata": {
        "colab": {
          "base_uri": "https://localhost:8080/",
          "height": 52
        },
        "id": "5-mQPZkrYdqr",
        "outputId": "b0847728-405a-4945-83ef-0ceecf9bd0b4"
      },
      "execution_count": 373,
      "outputs": [
        {
          "output_type": "execute_result",
          "data": {
            "text/plain": [
              "       C₁   3⋅x\n",
              "f(x) = ── - ───\n",
              "       x     2 "
            ],
            "text/latex": "$\\displaystyle f{\\left(x \\right)} = \\frac{C_{1}}{x} - \\frac{3 x}{2}$"
          },
          "metadata": {},
          "execution_count": 373
        }
      ]
    },
    {
      "cell_type": "markdown",
      "source": [
        "3. **Resolver (hint: μ)**\n",
        "$$\n",
        "\\frac{dy}{dx}+2xy=4x.\n",
        "$$"
      ],
      "metadata": {
        "id": "Qw9dSr7NZNKp"
      }
    },
    {
      "cell_type": "code",
      "source": [
        "diffeq = Eq(Derivative(f, x)+2*x*f, 4*x)\n",
        "diffeq"
      ],
      "metadata": {
        "colab": {
          "base_uri": "https://localhost:8080/",
          "height": 52
        },
        "id": "X_lm6mU2Ym3w",
        "outputId": "ed6a3821-426f-4427-ea55-5382ee6bcbad"
      },
      "execution_count": 374,
      "outputs": [
        {
          "output_type": "execute_result",
          "data": {
            "text/plain": [
              "           d             \n",
              "2⋅x⋅f(x) + ──(f(x)) = 4⋅x\n",
              "           dx            "
            ],
            "text/latex": "$\\displaystyle 2 x f{\\left(x \\right)} + \\frac{d}{d x} f{\\left(x \\right)} = 4 x$"
          },
          "metadata": {},
          "execution_count": 374
        }
      ]
    },
    {
      "cell_type": "code",
      "source": [
        "dsolve(diffeq, f, hint=\"factorable\")"
      ],
      "metadata": {
        "colab": {
          "base_uri": "https://localhost:8080/",
          "height": 41
        },
        "id": "QsL-UmlJZ2c3",
        "outputId": "f230a39b-3b83-48db-f46e-08bb39087874"
      },
      "execution_count": 376,
      "outputs": [
        {
          "output_type": "execute_result",
          "data": {
            "text/plain": [
              "             2    \n",
              "           -x     \n",
              "f(x) = C₁⋅ℯ    + 2"
            ],
            "text/latex": "$\\displaystyle f{\\left(x \\right)} = C_{1} e^{- x^{2}} + 2$"
          },
          "metadata": {},
          "execution_count": 376
        }
      ]
    },
    {
      "cell_type": "markdown",
      "source": [
        "4. **Resolver (Hint: homogenea)**\n",
        "$$\n",
        "\\frac{dy}{dx}=\\frac{y}{x}+\\tan(\\frac{y}{x})\n",
        "$$"
      ],
      "metadata": {
        "id": "izW4v-kAf_t1"
      }
    },
    {
      "cell_type": "code",
      "source": [
        "diffeq = Eq(Derivative(f, x), f/x+tan(f/x))\n",
        "diffeq"
      ],
      "metadata": {
        "colab": {
          "base_uri": "https://localhost:8080/",
          "height": 58
        },
        "id": "bZ4sdaXvaCkL",
        "outputId": "79ee32a5-2f2d-4af2-dcf0-cf9280cd43bd"
      },
      "execution_count": 378,
      "outputs": [
        {
          "output_type": "execute_result",
          "data": {
            "text/plain": [
              "d             ⎛f(x)⎞   f(x)\n",
              "──(f(x)) = tan⎜────⎟ + ────\n",
              "dx            ⎝ x  ⎠    x  "
            ],
            "text/latex": "$\\displaystyle \\frac{d}{d x} f{\\left(x \\right)} = \\tan{\\left(\\frac{f{\\left(x \\right)}}{x} \\right)} + \\frac{f{\\left(x \\right)}}{x}$"
          },
          "metadata": {},
          "execution_count": 378
        }
      ]
    },
    {
      "cell_type": "code",
      "source": [
        "dsolve(diffeq, f, hint=\"1st_homogeneous_coeff_best\")\n"
      ],
      "metadata": {
        "colab": {
          "base_uri": "https://localhost:8080/",
          "height": 39
        },
        "id": "Gc5M568Mgxh3",
        "outputId": "b48c0ec3-e21c-4c78-ac56-b4121b39323b"
      },
      "execution_count": 382,
      "outputs": [
        {
          "output_type": "execute_result",
          "data": {
            "text/plain": [
              "[f(x) = x⋅(π - asin(C₁⋅x)), f(x) = x⋅asin(C₁⋅x)]"
            ],
            "text/latex": "$\\displaystyle \\left[ f{\\left(x \\right)} = x \\left(\\pi - \\operatorname{asin}{\\left(C_{1} x \\right)}\\right), \\  f{\\left(x \\right)} = x \\operatorname{asin}{\\left(C_{1} x \\right)}\\right]$"
          },
          "metadata": {},
          "execution_count": 382
        }
      ]
    },
    {
      "cell_type": "markdown",
      "source": [
        "5. **Resolver (Hint: Bernoulli)**\n",
        "$$\n",
        "\\frac{dy}{dx}+\\frac{y}{x}=2x^3y^4.\n",
        "$$"
      ],
      "metadata": {
        "id": "ejr5UJP9hZ71"
      }
    },
    {
      "cell_type": "code",
      "source": [
        "diffeq = Eq(Derivative(f, x)+f/x, 2*x**3*f**4)\n",
        "diffeq"
      ],
      "metadata": {
        "colab": {
          "base_uri": "https://localhost:8080/",
          "height": 53
        },
        "id": "eL0815YkhAs5",
        "outputId": "8e48b7f4-1e79-4b29-d8dd-62f5195564ad"
      },
      "execution_count": 383,
      "outputs": [
        {
          "output_type": "execute_result",
          "data": {
            "text/plain": [
              "d          f(x)      3  4   \n",
              "──(f(x)) + ──── = 2⋅x ⋅f (x)\n",
              "dx          x               "
            ],
            "text/latex": "$\\displaystyle \\frac{d}{d x} f{\\left(x \\right)} + \\frac{f{\\left(x \\right)}}{x} = 2 x^{3} f^{4}{\\left(x \\right)}$"
          },
          "metadata": {},
          "execution_count": 383
        }
      ]
    },
    {
      "cell_type": "code",
      "source": [
        "dsolve(diffeq, f, hint=\"Bernoulli\")\n"
      ],
      "metadata": {
        "colab": {
          "base_uri": "https://localhost:8080/",
          "height": 81
        },
        "id": "AkGowV4aiAI3",
        "outputId": "52b79354-22d4-4776-f09e-8080dc355347"
      },
      "execution_count": 384,
      "outputs": [
        {
          "output_type": "execute_result",
          "data": {
            "text/plain": [
              "⎡                                         _______________                          _______________ ↪\n",
              "⎢                                        ╱      -1                                ╱      -1        ↪\n",
              "⎢                                       ╱  ───────────── ⋅(-1 - √3⋅ⅈ)            ╱  ─────────────  ↪\n",
              "⎢            _______________         3 ╱    3                                 3 ╱    3             ↪\n",
              "⎢           ╱      -1                ╲╱    x ⋅(C₁ + 6⋅x)                      ╲╱    x ⋅(C₁ + 6⋅x)  ↪\n",
              "⎢f(x) =    ╱  ───────────── , f(x) = ────────────────────────────────, f(x) = ──────────────────── ↪\n",
              "⎢       3 ╱    3                                    2                                        2     ↪\n",
              "⎣       ╲╱    x ⋅(C₁ + 6⋅x)                                                                        ↪\n",
              "\n",
              "↪             ⎤\n",
              "↪             ⎥\n",
              "↪ ⋅(-1 + √3⋅ⅈ)⎥\n",
              "↪             ⎥\n",
              "↪             ⎥\n",
              "↪ ────────────⎥\n",
              "↪             ⎥\n",
              "↪             ⎦"
            ],
            "text/latex": "$\\displaystyle \\left[ f{\\left(x \\right)} = \\sqrt[3]{- \\frac{1}{x^{3} \\left(C_{1} + 6 x\\right)}}, \\  f{\\left(x \\right)} = \\frac{\\sqrt[3]{- \\frac{1}{x^{3} \\left(C_{1} + 6 x\\right)}} \\left(-1 - \\sqrt{3} i\\right)}{2}, \\  f{\\left(x \\right)} = \\frac{\\sqrt[3]{- \\frac{1}{x^{3} \\left(C_{1} + 6 x\\right)}} \\left(-1 + \\sqrt{3} i\\right)}{2}\\right]$"
          },
          "metadata": {},
          "execution_count": 384
        }
      ]
    },
    {
      "cell_type": "markdown",
      "source": [
        "6. **Resolver (Hint: $y_p+y_c$)**\n",
        "$$\n",
        "\\frac{d^2y}{dx^2}-2\\frac{dy}{dx}+y=e^x,\n",
        "$$\n",
        "$$\n",
        "x^2\\frac{d^2y}{dx^2}+x\\frac{dy}{dx}-4y=0.\n",
        "$$"
      ],
      "metadata": {
        "id": "dY20QrPziTBL"
      }
    },
    {
      "cell_type": "code",
      "source": [
        "diffeq = Eq(Derivative(f, x, x)-2*Derivative(f, x)+f, exp(x))\n",
        "diffeq"
      ],
      "metadata": {
        "colab": {
          "base_uri": "https://localhost:8080/",
          "height": 54
        },
        "id": "ZrCaA1lliKPU",
        "outputId": "a653a572-39aa-4a1e-eccd-4b2be95628a1"
      },
      "execution_count": 385,
      "outputs": [
        {
          "output_type": "execute_result",
          "data": {
            "text/plain": [
              "                     2            \n",
              "         d          d            x\n",
              "f(x) - 2⋅──(f(x)) + ───(f(x)) = ℯ \n",
              "         dx           2           \n",
              "                    dx            "
            ],
            "text/latex": "$\\displaystyle f{\\left(x \\right)} - 2 \\frac{d}{d x} f{\\left(x \\right)} + \\frac{d^{2}}{d x^{2}} f{\\left(x \\right)} = e^{x}$"
          },
          "metadata": {},
          "execution_count": 385
        }
      ]
    },
    {
      "cell_type": "code",
      "source": [
        "dsolve(diffeq, f)"
      ],
      "metadata": {
        "colab": {
          "base_uri": "https://localhost:8080/",
          "height": 48
        },
        "id": "H7EpOAEFjkG-",
        "outputId": "95661e6f-5fa1-4f50-ea85-5583683036a9"
      },
      "execution_count": 386,
      "outputs": [
        {
          "output_type": "execute_result",
          "data": {
            "text/plain": [
              "       ⎛       ⎛     x⎞⎞  x\n",
              "f(x) = ⎜C₁ + x⋅⎜C₂ + ─⎟⎟⋅ℯ \n",
              "       ⎝       ⎝     2⎠⎠   "
            ],
            "text/latex": "$\\displaystyle f{\\left(x \\right)} = \\left(C_{1} + x \\left(C_{2} + \\frac{x}{2}\\right)\\right) e^{x}$"
          },
          "metadata": {},
          "execution_count": 386
        }
      ]
    },
    {
      "cell_type": "code",
      "source": [
        "diffeq = Eq(x**2*Derivative(f, x, x)+x*Derivative(f, x)-4*f, 0)\n",
        "diffeq"
      ],
      "metadata": {
        "colab": {
          "base_uri": "https://localhost:8080/",
          "height": 54
        },
        "id": "DnL8LrjCjqZj",
        "outputId": "3aeb1b2c-d5e2-474f-811a-aa3b536e8193"
      },
      "execution_count": 387,
      "outputs": [
        {
          "output_type": "execute_result",
          "data": {
            "text/plain": [
              "    2                                 \n",
              " 2 d             d                    \n",
              "x ⋅───(f(x)) + x⋅──(f(x)) - 4⋅f(x) = 0\n",
              "     2           dx                   \n",
              "   dx                                 "
            ],
            "text/latex": "$\\displaystyle x^{2} \\frac{d^{2}}{d x^{2}} f{\\left(x \\right)} + x \\frac{d}{d x} f{\\left(x \\right)} - 4 f{\\left(x \\right)} = 0$"
          },
          "metadata": {},
          "execution_count": 387
        }
      ]
    },
    {
      "cell_type": "code",
      "source": [
        "dsolve(diffeq, f)"
      ],
      "metadata": {
        "colab": {
          "base_uri": "https://localhost:8080/",
          "height": 52
        },
        "id": "e02flqbKj7ww",
        "outputId": "5a7459e8-ffe9-4f6b-fb14-f2bea2fa48ea"
      },
      "execution_count": 388,
      "outputs": [
        {
          "output_type": "execute_result",
          "data": {
            "text/plain": [
              "       C₁       2\n",
              "f(x) = ── + C₂⋅x \n",
              "        2        \n",
              "       x         "
            ],
            "text/latex": "$\\displaystyle f{\\left(x \\right)} = \\frac{C_{1}}{x^{2}} + C_{2} x^{2}$"
          },
          "metadata": {},
          "execution_count": 388
        }
      ]
    },
    {
      "cell_type": "markdown",
      "source": [
        "7. **Resolver**\n",
        "$$\n",
        "\\frac{d^2y}{dx^2}-y=\\csc(x),\n",
        "$$\n",
        "  **con condiciones $y(0)=y(π/2)=0$.**"
      ],
      "metadata": {
        "id": "l1YixDsQkH4r"
      }
    },
    {
      "cell_type": "code",
      "source": [
        "y = Function('y')\n",
        "diffeq = Eq(y(x).diff(x, x)-y(x), csc(x))\n",
        "diffeq"
      ],
      "metadata": {
        "colab": {
          "base_uri": "https://localhost:8080/",
          "height": 54
        },
        "id": "rgvRHdBCj-cJ",
        "outputId": "90cf7d45-9b51-4cb2-d786-7e99e387519c"
      },
      "execution_count": 412,
      "outputs": [
        {
          "output_type": "execute_result",
          "data": {
            "text/plain": [
              "         2                \n",
              "        d                 \n",
              "-y(x) + ───(y(x)) = csc(x)\n",
              "          2               \n",
              "        dx                "
            ],
            "text/latex": "$\\displaystyle - y{\\left(x \\right)} + \\frac{d^{2}}{d x^{2}} y{\\left(x \\right)} = \\csc{\\left(x \\right)}$"
          },
          "metadata": {},
          "execution_count": 412
        }
      ]
    },
    {
      "cell_type": "code",
      "source": [
        "bcs = {y(0): 0, y(pi/2): 0}\n",
        "dsolve(diffeq, y(x), ics=bcs)"
      ],
      "metadata": {
        "colab": {
          "base_uri": "https://localhost:8080/",
          "height": 162
        },
        "id": "zWfQy2UlkfKD",
        "outputId": "219da5a5-4739-43c5-92b0-fec72151f920"
      },
      "execution_count": 415,
      "outputs": [
        {
          "output_type": "execute_result",
          "data": {
            "text/plain": [
              "       ⎛                          π                                     π                          ↪\n",
              "       ⎜                          ─                                     ─                          ↪\n",
              "       ⎜     0                    2                    0                2                          ↪\n",
              "       ⎜     ⌠                    ⌠                    ⌠                ⌠                          ↪\n",
              "       ⎜   π ⎮  -x              π ⎮  -x              π ⎮  x             ⎮  x             ⌠         ↪\n",
              "       ⎜- ℯ ⋅⎮ ℯ  ⋅csc(x) dx + ℯ ⋅⎮ ℯ  ⋅csc(x) dx + ℯ ⋅⎮ ℯ ⋅csc(x) dx - ⎮ ℯ ⋅csc(x) dx   ⎮  x      ↪\n",
              "       ⎜     ⌡                    ⌡                    ⌡                ⌡                ⎮ ℯ ⋅csc( ↪\n",
              "       ⎜                                                                                 ⌡         ↪\n",
              "y(x) = ⎜────────────────────────────────────────────────────────────────────────────── - ───────── ↪\n",
              "       ⎜                                          π                                            2   ↪\n",
              "       ⎝                                  -2 + 2⋅ℯ                                                 ↪\n",
              "\n",
              "↪      ⎞       ⎛                     π                                  π                          ↪\n",
              "↪      ⎟       ⎜                     ─                                  ─                          ↪\n",
              "↪      ⎟       ⎜0                    2                 0                2                          ↪\n",
              "↪      ⎟       ⎜⌠                    ⌠                 ⌠                ⌠                          ↪\n",
              "↪      ⎟       ⎜⎮  -x              π ⎮  -x             ⎮  x             ⎮  x             ⌠         ↪\n",
              "↪      ⎟       ⎜⎮ ℯ  ⋅csc(x) dx - ℯ ⋅⎮ ℯ  ⋅csc(x) dx - ⎮ ℯ ⋅csc(x) dx + ⎮ ℯ ⋅csc(x) dx   ⎮  -x     ↪\n",
              "↪ x) dx⎟       ⎜⌡                    ⌡                 ⌡                ⌡                ⎮ ℯ  ⋅csc ↪\n",
              "↪      ⎟  -x   ⎜                                                                         ⌡         ↪\n",
              "↪ ─────⎟⋅ℯ   + ⎜────────────────────────────────────────────────────────────────────── + ───────── ↪\n",
              "↪      ⎟       ⎜                                      π                                         2  ↪\n",
              "↪      ⎠       ⎝                              -2 + 2⋅ℯ                                             ↪\n",
              "\n",
              "↪       ⎞   \n",
              "↪       ⎟   \n",
              "↪       ⎟   \n",
              "↪       ⎟   \n",
              "↪       ⎟   \n",
              "↪       ⎟   \n",
              "↪ (x) dx⎟   \n",
              "↪       ⎟  x\n",
              "↪ ──────⎟⋅ℯ \n",
              "↪       ⎟   \n",
              "↪       ⎠   "
            ],
            "text/latex": "$\\displaystyle y{\\left(x \\right)} = \\left(\\frac{- e^{\\pi} \\int\\limits^{0} e^{- x} \\csc{\\left(x \\right)}\\, dx + e^{\\pi} \\int\\limits^{\\frac{\\pi}{2}} e^{- x} \\csc{\\left(x \\right)}\\, dx + e^{\\pi} \\int\\limits^{0} e^{x} \\csc{\\left(x \\right)}\\, dx - \\int\\limits^{\\frac{\\pi}{2}} e^{x} \\csc{\\left(x \\right)}\\, dx}{-2 + 2 e^{\\pi}} - \\frac{\\int e^{x} \\csc{\\left(x \\right)}\\, dx}{2}\\right) e^{- x} + \\left(\\frac{\\int\\limits^{0} e^{- x} \\csc{\\left(x \\right)}\\, dx - e^{\\pi} \\int\\limits^{\\frac{\\pi}{2}} e^{- x} \\csc{\\left(x \\right)}\\, dx - \\int\\limits^{0} e^{x} \\csc{\\left(x \\right)}\\, dx + \\int\\limits^{\\frac{\\pi}{2}} e^{x} \\csc{\\left(x \\right)}\\, dx}{-2 + 2 e^{\\pi}} + \\frac{\\int e^{- x} \\csc{\\left(x \\right)}\\, dx}{2}\\right) e^{x}$"
          },
          "metadata": {},
          "execution_count": 415
        }
      ]
    },
    {
      "cell_type": "markdown",
      "source": [
        "8. **Resolver**\n",
        "$$\n",
        "x^2\\frac{d^2y}{dx^2}+x\\frac{dy}{dx}+\\frac{2}{x^3}=0.\n",
        "$$"
      ],
      "metadata": {
        "id": "p4OTMvuUqfAv"
      }
    },
    {
      "cell_type": "code",
      "source": [
        "diffeq = Eq(x**2*y(x).diff(x,x)+x*y(x).diff(x)+2/(x**3), 0)\n",
        "diffeq"
      ],
      "metadata": {
        "colab": {
          "base_uri": "https://localhost:8080/",
          "height": 54
        },
        "id": "Xh7L1-8SnzP6",
        "outputId": "3766aa31-864a-43de-e679-19d7a7b3ca07"
      },
      "execution_count": 422,
      "outputs": [
        {
          "output_type": "execute_result",
          "data": {
            "text/plain": [
              "    2                             \n",
              " 2 d             d          2     \n",
              "x ⋅───(y(x)) + x⋅──(y(x)) + ── = 0\n",
              "     2           dx          3    \n",
              "   dx                       x     "
            ],
            "text/latex": "$\\displaystyle x^{2} \\frac{d^{2}}{d x^{2}} y{\\left(x \\right)} + x \\frac{d}{d x} y{\\left(x \\right)} + \\frac{2}{x^{3}} = 0$"
          },
          "metadata": {},
          "execution_count": 422
        }
      ]
    },
    {
      "cell_type": "code",
      "source": [
        "dsolve(diffeq, y(x))"
      ],
      "metadata": {
        "colab": {
          "base_uri": "https://localhost:8080/",
          "height": 51
        },
        "id": "C2uiuCiAq_Si",
        "outputId": "96ec47bc-928f-43a3-9705-e66e2d925051"
      },
      "execution_count": 423,
      "outputs": [
        {
          "output_type": "execute_result",
          "data": {
            "text/plain": [
              "                         2  \n",
              "y(x) = C₁ + C₂⋅log(x) - ────\n",
              "                           3\n",
              "                        9⋅x "
            ],
            "text/latex": "$\\displaystyle y{\\left(x \\right)} = C_{1} + C_{2} \\log{\\left(x \\right)} - \\frac{2}{9 x^{3}}$"
          },
          "metadata": {},
          "execution_count": 423
        }
      ]
    },
    {
      "cell_type": "markdown",
      "source": [
        "9. **Explicar qué es una singularidad regular y esencial.**"
      ],
      "metadata": {
        "id": "T-rGYod2vV19"
      }
    },
    {
      "cell_type": "markdown",
      "source": [
        "Una **singularidad regular**, también conocida como polo, es un tipo de singularidad aislada en la que una función se comporta de manera específica cerca de ese punto. Matemáticamente, si $z_0$ es un polo de orden $n$ de la función $f(z)$, entonces cerca de $z_0$, la función $f(z)$ puede expresarse como:\n",
        "$$\n",
        "f(z)=\\frac{g(z)}{(z-z_0)^n}\n",
        "$$\n",
        "donde $g(z)$ es una función analítica y no es igual a cero en $z_0$. Un ejemplo común es la función $f(z)=\\frac{1}{z}$, que tiene un polo de orden $1$ en $z=0$.\n",
        "\n",
        "\n",
        "Una **singularidad esencial** es un tipo más complicado de singularidad aislada. Si $z_0$ es una singularidad esencial de la función $f(z)$, entonces el comportamiento de $f(z)$ cerca de $z_0$ es extremadamente errático. Una famosa caracterización de las singularidades esenciales es dada por el Teorema de Casorati-Weierstrass, que establece que cerca de una singularidad esencial, una función $f(z)$ toma valores cercanos a casi cualquier número complejo. Un ejemplo clásico de una función con una singularidad esencial es $f(z)=e^{1/z}$ en $z=0$. Cerca de $z=0$, el comportamiento de $f(z)$ es altamente impredecible y no se puede describir por una simple función racional."
      ],
      "metadata": {
        "id": "zp7GtanqtJjr"
      }
    },
    {
      "cell_type": "code",
      "source": [],
      "metadata": {
        "id": "Q-zotQ3ErDLu"
      },
      "execution_count": null,
      "outputs": []
    }
  ]
}