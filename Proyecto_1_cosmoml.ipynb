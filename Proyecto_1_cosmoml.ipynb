{
  "nbformat": 4,
  "nbformat_minor": 0,
  "metadata": {
    "colab": {
      "provenance": [],
      "toc_visible": true,
      "authorship_tag": "ABX9TyNOE4HFCZqLNZmL3XZdip8c",
      "include_colab_link": true
    },
    "kernelspec": {
      "name": "python3",
      "display_name": "Python 3"
    },
    "language_info": {
      "name": "python"
    }
  },
  "cells": [
    {
      "cell_type": "markdown",
      "metadata": {
        "id": "view-in-github",
        "colab_type": "text"
      },
      "source": [
        "<a href=\"https://colab.research.google.com/github/tdack21/cosmologia_ml/blob/main/Proyecto_1_cosmoml.ipynb\" target=\"_parent\"><img src=\"https://colab.research.google.com/assets/colab-badge.svg\" alt=\"Open In Colab\"/></a>"
      ]
    },
    {
      "cell_type": "markdown",
      "source": [
        "# Proyecto 1. Cosmología con Machine Learnig\n",
        "Tonatiuh Sánchez Madrid\n",
        "\n",
        "**The action of a massive scalar field, with potential $V(\\phi)$, is given by:**\n",
        "$$\n",
        "S=∫dx^4 \\sqrt{-g} [\\frac{1}{2}\\partial_{\\mu}\\phi \\partial^{\\mu}\\phi-V(\\phi)].\n",
        "$$\n",
        "**Show that the corresponding field equation for $\\phi$, obtained from the Euler-Lagrange equations,reads as:**\n",
        "$$\n",
        "\\Box^2\\phi+\\frac{dV}{d\\phi}=0,\n",
        "$$\n",
        "**where the d'Alembertian is: $\\Box^2 = ∂_a∂^a$.**"
      ],
      "metadata": {
        "id": "PIhiFgjgsBGV"
      }
    },
    {
      "cell_type": "code",
      "execution_count": 2,
      "metadata": {
        "colab": {
          "base_uri": "https://localhost:8080/"
        },
        "id": "5jRYw7ECr_8q",
        "outputId": "7832122f-18a4-4b23-f4af-f3b336bc8aef"
      },
      "outputs": [
        {
          "output_type": "stream",
          "name": "stdout",
          "text": [
            "Collecting gravipy\n",
            "  Downloading GraviPy-0.2.0-py3-none-any.whl.metadata (1.5 kB)\n",
            "Requirement already satisfied: sympy>=1.4 in /usr/local/lib/python3.11/dist-packages (from gravipy) (1.13.1)\n",
            "Requirement already satisfied: mpmath<1.4,>=1.1.0 in /usr/local/lib/python3.11/dist-packages (from sympy>=1.4->gravipy) (1.3.0)\n",
            "Downloading GraviPy-0.2.0-py3-none-any.whl (10 kB)\n",
            "Installing collected packages: gravipy\n",
            "Successfully installed gravipy-0.2.0\n"
          ]
        }
      ],
      "source": [
        "!pip install gravipy"
      ]
    },
    {
      "cell_type": "code",
      "source": [
        "import numpy as np\n",
        "from sympy import *\n",
        "from gravipy import *\n",
        "from gravipy.tensorial import *"
      ],
      "metadata": {
        "id": "G-OzCqV_vUJf"
      },
      "execution_count": 37,
      "outputs": []
    },
    {
      "cell_type": "code",
      "source": [
        "t, x, y, z, L  = symbols('t x y z \\mathcal{L}')\n",
        "V, phi = Function('V'), Function('\\phi')\n",
        "\n",
        "#Definir el espaciotiempo y las coordenadas\n",
        "chi = Coordinates(\"\\chi\", [t, x, y, z])\n",
        "Metric = diag(-1, 1, 1, 1)\n",
        "g = MetricTensor('g', chi, Metric)\n",
        "Ga = Christoffel('Ga', g)"
      ],
      "metadata": {
        "id": "4cSAv-zuvvWn"
      },
      "execution_count": 39,
      "outputs": []
    },
    {
      "cell_type": "markdown",
      "source": [
        "Las ecuaciones de Euler-Lagrange nos dicen que:\n",
        "\n",
        "$$\n",
        "\\partial_\\mu \\left( \\frac{\\partial \\mathcal{L}}{\\partial(\\partial_\\mu \\phi)} \\right) - \\frac{\\partial \\mathcal{L}}{\\partial \\phi} = 0,\n",
        "$$\n",
        "\n",
        "y de la acción $S$ podemos ver que:\n",
        "\n",
        "$$\n",
        "\\mathcal{L} = \\sqrt{-g} [\\frac{1}{2}\\partial_{\\mu}\\phi \\partial^{\\mu}\\phi-V(\\phi)].\n",
        "$$"
      ],
      "metadata": {
        "id": "8eftFKr8ZRq6"
      }
    },
    {
      "cell_type": "code",
      "source": [
        "phi = phi(t,x,y,z)\n",
        "V = V(phi)"
      ],
      "metadata": {
        "id": "sv_x8W1CDj9r"
      },
      "execution_count": 40,
      "outputs": []
    },
    {
      "cell_type": "markdown",
      "source": [
        "Primero calculamos $∂_\\mu\\phi \\partial^\\mu\\phi$:"
      ],
      "metadata": {
        "id": "8_BXvr-18bFh"
      }
    },
    {
      "cell_type": "code",
      "source": [
        "d_mu_d_mu = diag(phi.diff(chi(-1)) * phi.diff(chi(-1)), phi.diff(chi(-2)) * phi.diff(chi(-2)), phi.diff(chi(-3)) * phi.diff(chi(-3)), phi.diff(chi(-4)) * phi.diff(chi(-4)))\n",
        "d_mu_d_mu_T = Tensor(\"T\", 2, g, components=d_mu_d_mu)\n",
        "d_mu_d_mu_T(-All, All)"
      ],
      "metadata": {
        "colab": {
          "base_uri": "https://localhost:8080/",
          "height": 124
        },
        "id": "d1Lg0rElWR9v",
        "outputId": "a26af81d-b0be-49bd-f3bd-aeb4eae4f310"
      },
      "execution_count": 41,
      "outputs": [
        {
          "output_type": "execute_result",
          "data": {
            "text/plain": [
              "Matrix([\n",
              "[-Derivative(\\phi(t, x, y, z), t)**2,                                  0,                                  0,                                  0],\n",
              "[                                  0, Derivative(\\phi(t, x, y, z), x)**2,                                  0,                                  0],\n",
              "[                                  0,                                  0, Derivative(\\phi(t, x, y, z), y)**2,                                  0],\n",
              "[                                  0,                                  0,                                  0, Derivative(\\phi(t, x, y, z), z)**2]])"
            ],
            "text/latex": "$\\displaystyle \\left[\\begin{matrix}- \\left(\\frac{\\partial}{\\partial t} \\phi{\\left(t,x,y,z \\right)}\\right)^{2} & 0 & 0 & 0\\\\0 & \\left(\\frac{\\partial}{\\partial x} \\phi{\\left(t,x,y,z \\right)}\\right)^{2} & 0 & 0\\\\0 & 0 & \\left(\\frac{\\partial}{\\partial y} \\phi{\\left(t,x,y,z \\right)}\\right)^{2} & 0\\\\0 & 0 & 0 & \\left(\\frac{\\partial}{\\partial z} \\phi{\\left(t,x,y,z \\right)}\\right)^{2}\\end{matrix}\\right]$"
          },
          "metadata": {},
          "execution_count": 41
        }
      ]
    },
    {
      "cell_type": "markdown",
      "source": [
        "Ahora calculamos:\n",
        "\n",
        "$$\n",
        "\\frac{\\partial \\mathcal{L}}{\\partial(\\partial_\\mu \\phi)} = \\frac{\\partial}{\\partial(\\partial_\\mu \\phi)} [\\frac{1}{2}\\partial_{\\mu}\\phi \\partial^{\\mu}\\phi-V(\\phi)],\n",
        "$$"
      ],
      "metadata": {
        "id": "nUDKOCeK84AO"
      }
    },
    {
      "cell_type": "code",
      "source": [
        "La = d_mu_d_mu_T(-1,1) + d_mu_d_mu_T(-2,2) + d_mu_d_mu_T(-3,3) + d_mu_d_mu_T(-4,4) - V\n",
        "Eq(L, La)"
      ],
      "metadata": {
        "colab": {
          "base_uri": "https://localhost:8080/",
          "height": 61
        },
        "id": "wCIF9B1w_pKy",
        "outputId": "0361f31a-a35a-4b0b-961e-9a2372cc73f8"
      },
      "execution_count": 42,
      "outputs": [
        {
          "output_type": "execute_result",
          "data": {
            "text/plain": [
              "Eq(\\mathcal{L}, -V(\\phi(t, x, y, z)) - Derivative(\\phi(t, x, y, z), t)**2 + Derivative(\\phi(t, x, y, z), x)**2 + Derivative(\\phi(t, x, y, z), y)**2 + Derivative(\\phi(t, x, y, z), z)**2)"
            ],
            "text/latex": "$\\displaystyle \\mathcal{L} = - V{\\left(\\phi{\\left(t,x,y,z \\right)} \\right)} - \\left(\\frac{\\partial}{\\partial t} \\phi{\\left(t,x,y,z \\right)}\\right)^{2} + \\left(\\frac{\\partial}{\\partial x} \\phi{\\left(t,x,y,z \\right)}\\right)^{2} + \\left(\\frac{\\partial}{\\partial y} \\phi{\\left(t,x,y,z \\right)}\\right)^{2} + \\left(\\frac{\\partial}{\\partial z} \\phi{\\left(t,x,y,z \\right)}\\right)^{2}$"
          },
          "metadata": {},
          "execution_count": 42
        }
      ]
    },
    {
      "cell_type": "code",
      "source": [
        "dL_dphi = 1/2*(d_mu_d_mu_T(-All, All).diff(diff(phi, t)) + d_mu_d_mu_T(-All, All).diff(diff(phi, x)) + d_mu_d_mu_T(-All, All).diff(diff(phi, y)) + d_mu_d_mu_T(-All, All).diff(diff(phi, z)))\n",
        "dL_dphi"
      ],
      "metadata": {
        "colab": {
          "base_uri": "https://localhost:8080/",
          "height": 103
        },
        "id": "mxJbhcDfAWsm",
        "outputId": "5bef56f1-d0ba-432c-d964-6690e22afb42"
      },
      "execution_count": 16,
      "outputs": [
        {
          "output_type": "execute_result",
          "data": {
            "text/plain": [
              "Matrix([\n",
              "[-1.0*Derivative(\\phi(t, x, y, z), t),                                   0,                                   0,                                   0],\n",
              "[                                   0, 1.0*Derivative(\\phi(t, x, y, z), x),                                   0,                                   0],\n",
              "[                                   0,                                   0, 1.0*Derivative(\\phi(t, x, y, z), y),                                   0],\n",
              "[                                   0,                                   0,                                   0, 1.0*Derivative(\\phi(t, x, y, z), z)]])"
            ],
            "text/latex": "$\\displaystyle \\left[\\begin{matrix}- 1.0 \\frac{\\partial}{\\partial t} \\phi{\\left(t,x,y,z \\right)} & 0 & 0 & 0\\\\0 & 1.0 \\frac{\\partial}{\\partial x} \\phi{\\left(t,x,y,z \\right)} & 0 & 0\\\\0 & 0 & 1.0 \\frac{\\partial}{\\partial y} \\phi{\\left(t,x,y,z \\right)} & 0\\\\0 & 0 & 0 & 1.0 \\frac{\\partial}{\\partial z} \\phi{\\left(t,x,y,z \\right)}\\end{matrix}\\right]$"
          },
          "metadata": {},
          "execution_count": 16
        }
      ]
    },
    {
      "cell_type": "markdown",
      "source": [
        "Y luego derivamos el resultado anterior:\n",
        "\n",
        "$$\n",
        "\\partial_\\mu \\left( \\frac{\\partial \\mathcal{L}}{\\partial(\\partial_\\mu \\phi)} \\right),\n",
        "$$"
      ],
      "metadata": {
        "id": "bh3AI-Gw-aTV"
      }
    },
    {
      "cell_type": "code",
      "source": [
        "d_dL_dphi = dL_dphi[0].diff(chi(-1)) + dL_dphi[5].diff(chi(2)) + dL_dphi[10].diff(chi(3)) + dL_dphi[15].diff(chi(4))\n",
        "d_dL_dphi"
      ],
      "metadata": {
        "colab": {
          "base_uri": "https://localhost:8080/",
          "height": 57
        },
        "id": "A93FR0zLvSS0",
        "outputId": "b15bd865-c0fb-405a-9fdd-bbca241c4afb"
      },
      "execution_count": 28,
      "outputs": [
        {
          "output_type": "execute_result",
          "data": {
            "text/plain": [
              "-1.0*Derivative(\\phi(t, x, y, z), (t, 2)) + 1.0*Derivative(\\phi(t, x, y, z), (x, 2)) + 1.0*Derivative(\\phi(t, x, y, z), (y, 2)) + 1.0*Derivative(\\phi(t, x, y, z), (z, 2))"
            ],
            "text/latex": "$\\displaystyle - 1.0 \\frac{\\partial^{2}}{\\partial t^{2}} \\phi{\\left(t,x,y,z \\right)} + 1.0 \\frac{\\partial^{2}}{\\partial x^{2}} \\phi{\\left(t,x,y,z \\right)} + 1.0 \\frac{\\partial^{2}}{\\partial y^{2}} \\phi{\\left(t,x,y,z \\right)} + 1.0 \\frac{\\partial^{2}}{\\partial z^{2}} \\phi{\\left(t,x,y,z \\right)}$"
          },
          "metadata": {},
          "execution_count": 28
        }
      ]
    },
    {
      "cell_type": "markdown",
      "source": [
        "Por lo que tenemos que el primer término de E-L es:\n",
        "\n",
        "$$\n",
        "\\partial_\\mu \\left( \\frac{\\partial \\mathcal{L}}{\\partial(\\partial_\\mu \\phi)} \\right) = ∂_\\mu ∂^\\mu \\phi = \\square^2 \\phi.\n",
        "$$"
      ],
      "metadata": {
        "id": "KDLOJsKj-lTn"
      }
    },
    {
      "cell_type": "markdown",
      "source": [
        "Para el segundo término de E-L tenemos que:"
      ],
      "metadata": {
        "id": "OaBh1WjZ_JQu"
      }
    },
    {
      "cell_type": "code",
      "source": [
        "La.diff(phi)"
      ],
      "metadata": {
        "colab": {
          "base_uri": "https://localhost:8080/",
          "height": 56
        },
        "id": "puo27Y7XxpE5",
        "outputId": "05730137-f333-46ef-83cc-8787a4903dc7"
      },
      "execution_count": 43,
      "outputs": [
        {
          "output_type": "execute_result",
          "data": {
            "text/plain": [
              "-Derivative(V(\\phi(t, x, y, z)), \\phi(t, x, y, z))"
            ],
            "text/latex": "$\\displaystyle - \\frac{\\partial}{\\partial \\phi{\\left(t,x,y,z \\right)}} V{\\left(\\phi{\\left(t,x,y,z \\right)} \\right)}$"
          },
          "metadata": {},
          "execution_count": 43
        }
      ]
    },
    {
      "cell_type": "markdown",
      "source": [
        "teniendo que:\n",
        "\n",
        "$$\n",
        "\\frac{∂\\mathcal{L}}{\\partial \\phi} = -\\frac{∂V}{∂\\phi}\n",
        "$$"
      ],
      "metadata": {
        "id": "Oe7AGEvnA-RY"
      }
    },
    {
      "cell_type": "markdown",
      "source": [
        "Por lo tanto, a partir de las ecuaciones de E-L, tenemos:\n",
        "\n",
        "$$\n",
        "\\Box^2\\phi+\\frac{dV}{d\\phi}=0,\n",
        "$$"
      ],
      "metadata": {
        "id": "bmwGqlnmBiU2"
      }
    }
  ]
}