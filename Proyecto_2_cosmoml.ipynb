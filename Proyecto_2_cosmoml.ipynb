{
  "nbformat": 4,
  "nbformat_minor": 0,
  "metadata": {
    "colab": {
      "provenance": [],
      "authorship_tag": "ABX9TyOBKXUGeDmOF70h9LzzDFXV",
      "include_colab_link": true
    },
    "kernelspec": {
      "name": "python3",
      "display_name": "Python 3"
    },
    "language_info": {
      "name": "python"
    }
  },
  "cells": [
    {
      "cell_type": "markdown",
      "metadata": {
        "id": "view-in-github",
        "colab_type": "text"
      },
      "source": [
        "<a href=\"https://colab.research.google.com/github/tdack21/cosmologia_ml/blob/main/Proyecto_2_cosmoml.ipynb\" target=\"_parent\"><img src=\"https://colab.research.google.com/assets/colab-badge.svg\" alt=\"Open In Colab\"/></a>"
      ]
    },
    {
      "cell_type": "markdown",
      "source": [
        "# Proyecto 2. Cosmología con Machine Learning\n",
        "Tonatiuh Sánchez Madrid\n",
        "\n",
        "**Given the metric, with the perturbed metric (in conformal Newtonian\n",
        " Gauge) and by using Gravipy, we obtained the Einstein\n",
        " tensor.**\n",
        "\n",
        " $$\n",
        "ds^2 = a^2[(1+2\\psi)d\\tau^2 - (1-2\\phi)\\delta_{ij}dx^idx^j]\n",
        " $$"
      ],
      "metadata": {
        "id": "67SfliWcApzu"
      }
    },
    {
      "cell_type": "code",
      "execution_count": 1,
      "metadata": {
        "colab": {
          "base_uri": "https://localhost:8080/"
        },
        "id": "X8z1KdMZAoiE",
        "outputId": "6523f5ed-8e5c-49f7-a42f-f88d77918228"
      },
      "outputs": [
        {
          "output_type": "stream",
          "name": "stdout",
          "text": [
            "Collecting gravipy\n",
            "  Downloading GraviPy-0.2.0-py3-none-any.whl.metadata (1.5 kB)\n",
            "Requirement already satisfied: sympy>=1.4 in /usr/local/lib/python3.11/dist-packages (from gravipy) (1.13.1)\n",
            "Requirement already satisfied: mpmath<1.4,>=1.1.0 in /usr/local/lib/python3.11/dist-packages (from sympy>=1.4->gravipy) (1.3.0)\n",
            "Downloading GraviPy-0.2.0-py3-none-any.whl (10 kB)\n",
            "Installing collected packages: gravipy\n",
            "Successfully installed gravipy-0.2.0\n"
          ]
        }
      ],
      "source": [
        "!pip install gravipy"
      ]
    },
    {
      "cell_type": "code",
      "source": [
        "from sympy import *\n",
        "from gravipy import *\n",
        "from gravipy.tensorial import *"
      ],
      "metadata": {
        "id": "USI3CWRqCQF6"
      },
      "execution_count": 2,
      "outputs": []
    },
    {
      "cell_type": "code",
      "source": [
        "tau, x, y, z = symbols('\\\\tau x y z')\n",
        "a, phi, psi = Function('a')(tau), Function('\\phi')(tau,x,y,z), Function('\\psi')(tau,x,y,z)"
      ],
      "metadata": {
        "id": "ShPkh-59CZSs"
      },
      "execution_count": 11,
      "outputs": []
    },
    {
      "cell_type": "code",
      "source": [
        "chi = Coordinates('chi',[tau, x, y, z])\n",
        "Metric = diag(a**2*(1+2*psi), -a**2*(1-2*phi), -a**2*(1-2*phi), -a**2*(1-2*phi))\n",
        "g = MetricTensor('g', chi, Metric)"
      ],
      "metadata": {
        "id": "-wTaUpTHDBHJ"
      },
      "execution_count": 12,
      "outputs": []
    },
    {
      "cell_type": "code",
      "source": [
        "g(All, All)"
      ],
      "metadata": {
        "colab": {
          "base_uri": "https://localhost:8080/",
          "height": 98
        },
        "id": "dxKdLvzeDBji",
        "outputId": "3590f3d3-b8f9-4ed6-9fc0-b324e9479171"
      },
      "execution_count": 13,
      "outputs": [
        {
          "output_type": "execute_result",
          "data": {
            "text/plain": [
              "Matrix([\n",
              "[(2*\\psi(\\tau, x, y, z) + 1)*a(\\tau)**2,                                       0,                                       0,                                       0],\n",
              "[                                     0, -(1 - 2*\\phi(\\tau, x, y, z))*a(\\tau)**2,                                       0,                                       0],\n",
              "[                                     0,                                       0, -(1 - 2*\\phi(\\tau, x, y, z))*a(\\tau)**2,                                       0],\n",
              "[                                     0,                                       0,                                       0, -(1 - 2*\\phi(\\tau, x, y, z))*a(\\tau)**2]])"
            ],
            "text/latex": "$\\displaystyle \\left[\\begin{matrix}\\left(2 \\psi{\\left(\\tau,x,y,z \\right)} + 1\\right) a^{2}{\\left(\\tau \\right)} & 0 & 0 & 0\\\\0 & - \\left(1 - 2 \\phi{\\left(\\tau,x,y,z \\right)}\\right) a^{2}{\\left(\\tau \\right)} & 0 & 0\\\\0 & 0 & - \\left(1 - 2 \\phi{\\left(\\tau,x,y,z \\right)}\\right) a^{2}{\\left(\\tau \\right)} & 0\\\\0 & 0 & 0 & - \\left(1 - 2 \\phi{\\left(\\tau,x,y,z \\right)}\\right) a^{2}{\\left(\\tau \\right)}\\end{matrix}\\right]$"
          },
          "metadata": {},
          "execution_count": 13
        }
      ]
    },
    {
      "cell_type": "code",
      "source": [
        "Ga = Christoffel('Ga', g)\n",
        "Rm = Ricci('Rm', g)\n",
        "Ri = Ricci('Ri', g)"
      ],
      "metadata": {
        "id": "OzKl4Nw_EekP"
      },
      "execution_count": 14,
      "outputs": []
    },
    {
      "cell_type": "code",
      "source": [
        "G = Einstein('G', Ri)\n",
        "G(-1,1).simplify()"
      ],
      "metadata": {
        "colab": {
          "base_uri": "https://localhost:8080/",
          "height": 93
        },
        "id": "VRQq7q7iE6e_",
        "outputId": "e439d3ed-9a8e-45fb-9b36-c0d0f5f1877a"
      },
      "execution_count": 20,
      "outputs": [
        {
          "output_type": "execute_result",
          "data": {
            "text/plain": [
              "(24*\\phi(\\tau, x, y, z)**3*Derivative(a(\\tau), \\tau)**2 + 24*\\phi(\\tau, x, y, z)**2*a(\\tau)*Derivative(\\phi(\\tau, x, y, z), \\tau)*Derivative(a(\\tau), \\tau) - 36*\\phi(\\tau, x, y, z)**2*Derivative(a(\\tau), \\tau)**2 + 8*\\phi(\\tau, x, y, z)*\\psi(\\tau, x, y, z)*a(\\tau)**2*Derivative(\\phi(\\tau, x, y, z), (x, 2)) + 8*\\phi(\\tau, x, y, z)*\\psi(\\tau, x, y, z)*a(\\tau)**2*Derivative(\\phi(\\tau, x, y, z), (y, 2)) + 8*\\phi(\\tau, x, y, z)*\\psi(\\tau, x, y, z)*a(\\tau)**2*Derivative(\\phi(\\tau, x, y, z), (z, 2)) + 6*\\phi(\\tau, x, y, z)*a(\\tau)**2*Derivative(\\phi(\\tau, x, y, z), \\tau)**2 + 4*\\phi(\\tau, x, y, z)*a(\\tau)**2*Derivative(\\phi(\\tau, x, y, z), (x, 2)) + 4*\\phi(\\tau, x, y, z)*a(\\tau)**2*Derivative(\\phi(\\tau, x, y, z), (y, 2)) + 4*\\phi(\\tau, x, y, z)*a(\\tau)**2*Derivative(\\phi(\\tau, x, y, z), (z, 2)) - 24*\\phi(\\tau, x, y, z)*a(\\tau)*Derivative(\\phi(\\tau, x, y, z), \\tau)*Derivative(a(\\tau), \\tau) + 18*\\phi(\\tau, x, y, z)*Derivative(a(\\tau), \\tau)**2 - 6*\\psi(\\tau, x, y, z)*a(\\tau)**2*Derivative(\\phi(\\tau, x, y, z), x)**2 - 4*\\psi(\\tau, x, y, z)*a(\\tau)**2*Derivative(\\phi(\\tau, x, y, z), (x, 2)) - 6*\\psi(\\tau, x, y, z)*a(\\tau)**2*Derivative(\\phi(\\tau, x, y, z), y)**2 - 4*\\psi(\\tau, x, y, z)*a(\\tau)**2*Derivative(\\phi(\\tau, x, y, z), (y, 2)) - 6*\\psi(\\tau, x, y, z)*a(\\tau)**2*Derivative(\\phi(\\tau, x, y, z), z)**2 - 4*\\psi(\\tau, x, y, z)*a(\\tau)**2*Derivative(\\phi(\\tau, x, y, z), (z, 2)) - 3*a(\\tau)**2*Derivative(\\phi(\\tau, x, y, z), \\tau)**2 - 3*a(\\tau)**2*Derivative(\\phi(\\tau, x, y, z), x)**2 - 2*a(\\tau)**2*Derivative(\\phi(\\tau, x, y, z), (x, 2)) - 3*a(\\tau)**2*Derivative(\\phi(\\tau, x, y, z), y)**2 - 2*a(\\tau)**2*Derivative(\\phi(\\tau, x, y, z), (y, 2)) - 3*a(\\tau)**2*Derivative(\\phi(\\tau, x, y, z), z)**2 - 2*a(\\tau)**2*Derivative(\\phi(\\tau, x, y, z), (z, 2)) + 6*a(\\tau)*Derivative(\\phi(\\tau, x, y, z), \\tau)*Derivative(a(\\tau), \\tau) - 3*Derivative(a(\\tau), \\tau)**2)/((2*\\psi(\\tau, x, y, z) + 1)*(8*\\phi(\\tau, x, y, z)**3 - 12*\\phi(\\tau, x, y, z)**2 + 6*\\phi(\\tau, x, y, z) - 1)*a(\\tau)**4)"
            ],
            "text/latex": "$\\displaystyle \\frac{24 \\phi^{3}{\\left(\\tau,x,y,z \\right)} \\left(\\frac{d}{d \\tau} a{\\left(\\tau \\right)}\\right)^{2} + 24 \\phi^{2}{\\left(\\tau,x,y,z \\right)} a{\\left(\\tau \\right)} \\frac{\\partial}{\\partial \\tau} \\phi{\\left(\\tau,x,y,z \\right)} \\frac{d}{d \\tau} a{\\left(\\tau \\right)} - 36 \\phi^{2}{\\left(\\tau,x,y,z \\right)} \\left(\\frac{d}{d \\tau} a{\\left(\\tau \\right)}\\right)^{2} + 8 \\phi{\\left(\\tau,x,y,z \\right)} \\psi{\\left(\\tau,x,y,z \\right)} a^{2}{\\left(\\tau \\right)} \\frac{\\partial^{2}}{\\partial x^{2}} \\phi{\\left(\\tau,x,y,z \\right)} + 8 \\phi{\\left(\\tau,x,y,z \\right)} \\psi{\\left(\\tau,x,y,z \\right)} a^{2}{\\left(\\tau \\right)} \\frac{\\partial^{2}}{\\partial y^{2}} \\phi{\\left(\\tau,x,y,z \\right)} + 8 \\phi{\\left(\\tau,x,y,z \\right)} \\psi{\\left(\\tau,x,y,z \\right)} a^{2}{\\left(\\tau \\right)} \\frac{\\partial^{2}}{\\partial z^{2}} \\phi{\\left(\\tau,x,y,z \\right)} + 6 \\phi{\\left(\\tau,x,y,z \\right)} a^{2}{\\left(\\tau \\right)} \\left(\\frac{\\partial}{\\partial \\tau} \\phi{\\left(\\tau,x,y,z \\right)}\\right)^{2} + 4 \\phi{\\left(\\tau,x,y,z \\right)} a^{2}{\\left(\\tau \\right)} \\frac{\\partial^{2}}{\\partial x^{2}} \\phi{\\left(\\tau,x,y,z \\right)} + 4 \\phi{\\left(\\tau,x,y,z \\right)} a^{2}{\\left(\\tau \\right)} \\frac{\\partial^{2}}{\\partial y^{2}} \\phi{\\left(\\tau,x,y,z \\right)} + 4 \\phi{\\left(\\tau,x,y,z \\right)} a^{2}{\\left(\\tau \\right)} \\frac{\\partial^{2}}{\\partial z^{2}} \\phi{\\left(\\tau,x,y,z \\right)} - 24 \\phi{\\left(\\tau,x,y,z \\right)} a{\\left(\\tau \\right)} \\frac{\\partial}{\\partial \\tau} \\phi{\\left(\\tau,x,y,z \\right)} \\frac{d}{d \\tau} a{\\left(\\tau \\right)} + 18 \\phi{\\left(\\tau,x,y,z \\right)} \\left(\\frac{d}{d \\tau} a{\\left(\\tau \\right)}\\right)^{2} - 6 \\psi{\\left(\\tau,x,y,z \\right)} a^{2}{\\left(\\tau \\right)} \\left(\\frac{\\partial}{\\partial x} \\phi{\\left(\\tau,x,y,z \\right)}\\right)^{2} - 4 \\psi{\\left(\\tau,x,y,z \\right)} a^{2}{\\left(\\tau \\right)} \\frac{\\partial^{2}}{\\partial x^{2}} \\phi{\\left(\\tau,x,y,z \\right)} - 6 \\psi{\\left(\\tau,x,y,z \\right)} a^{2}{\\left(\\tau \\right)} \\left(\\frac{\\partial}{\\partial y} \\phi{\\left(\\tau,x,y,z \\right)}\\right)^{2} - 4 \\psi{\\left(\\tau,x,y,z \\right)} a^{2}{\\left(\\tau \\right)} \\frac{\\partial^{2}}{\\partial y^{2}} \\phi{\\left(\\tau,x,y,z \\right)} - 6 \\psi{\\left(\\tau,x,y,z \\right)} a^{2}{\\left(\\tau \\right)} \\left(\\frac{\\partial}{\\partial z} \\phi{\\left(\\tau,x,y,z \\right)}\\right)^{2} - 4 \\psi{\\left(\\tau,x,y,z \\right)} a^{2}{\\left(\\tau \\right)} \\frac{\\partial^{2}}{\\partial z^{2}} \\phi{\\left(\\tau,x,y,z \\right)} - 3 a^{2}{\\left(\\tau \\right)} \\left(\\frac{\\partial}{\\partial \\tau} \\phi{\\left(\\tau,x,y,z \\right)}\\right)^{2} - 3 a^{2}{\\left(\\tau \\right)} \\left(\\frac{\\partial}{\\partial x} \\phi{\\left(\\tau,x,y,z \\right)}\\right)^{2} - 2 a^{2}{\\left(\\tau \\right)} \\frac{\\partial^{2}}{\\partial x^{2}} \\phi{\\left(\\tau,x,y,z \\right)} - 3 a^{2}{\\left(\\tau \\right)} \\left(\\frac{\\partial}{\\partial y} \\phi{\\left(\\tau,x,y,z \\right)}\\right)^{2} - 2 a^{2}{\\left(\\tau \\right)} \\frac{\\partial^{2}}{\\partial y^{2}} \\phi{\\left(\\tau,x,y,z \\right)} - 3 a^{2}{\\left(\\tau \\right)} \\left(\\frac{\\partial}{\\partial z} \\phi{\\left(\\tau,x,y,z \\right)}\\right)^{2} - 2 a^{2}{\\left(\\tau \\right)} \\frac{\\partial^{2}}{\\partial z^{2}} \\phi{\\left(\\tau,x,y,z \\right)} + 6 a{\\left(\\tau \\right)} \\frac{\\partial}{\\partial \\tau} \\phi{\\left(\\tau,x,y,z \\right)} \\frac{d}{d \\tau} a{\\left(\\tau \\right)} - 3 \\left(\\frac{d}{d \\tau} a{\\left(\\tau \\right)}\\right)^{2}}{\\left(2 \\psi{\\left(\\tau,x,y,z \\right)} + 1\\right) \\left(8 \\phi^{3}{\\left(\\tau,x,y,z \\right)} - 12 \\phi^{2}{\\left(\\tau,x,y,z \\right)} + 6 \\phi{\\left(\\tau,x,y,z \\right)} - 1\\right) a^{4}{\\left(\\tau \\right)}}$"
          },
          "metadata": {},
          "execution_count": 20
        }
      ]
    },
    {
      "cell_type": "code",
      "source": [
        "G(-2,2)"
      ],
      "metadata": {
        "colab": {
          "base_uri": "https://localhost:8080/",
          "height": 103
        },
        "id": "vbMJH8_AE_6Z",
        "outputId": "53d8b775-4e45-4121-e9c3-5691d372394b"
      },
      "execution_count": 21,
      "outputs": [
        {
          "output_type": "execute_result",
          "data": {
            "text/plain": [
              "-(((2*\\phi(\\tau, x, y, z) - 1)*Derivative(a(\\tau), \\tau) + a(\\tau)*Derivative(\\phi(\\tau, x, y, z), \\tau))**2*(2*\\phi(\\tau, x, y, z) - 1)*(2*\\psi(\\tau, x, y, z) + 1) + ((2*\\phi(\\tau, x, y, z) - 1)*Derivative(a(\\tau), \\tau) + a(\\tau)*Derivative(\\phi(\\tau, x, y, z), \\tau))*((2*\\psi(\\tau, x, y, z) + 1)*Derivative(a(\\tau), \\tau) + a(\\tau)*Derivative(\\psi(\\tau, x, y, z), \\tau))*(2*\\phi(\\tau, x, y, z) - 1)**2 - ((2*\\phi(\\tau, x, y, z) - 1)*Derivative(a(\\tau), \\tau) + a(\\tau)*Derivative(\\phi(\\tau, x, y, z), \\tau))*(2*\\phi(\\tau, x, y, z) - 1)**2*(2*\\psi(\\tau, x, y, z) + 1)*Derivative(a(\\tau), \\tau) - 2*((2*\\phi(\\tau, x, y, z) - 1)*Derivative(a(\\tau), \\tau) + a(\\tau)*Derivative(\\phi(\\tau, x, y, z), \\tau))*(2*\\phi(\\tau, x, y, z) - 1)**2*a(\\tau)*Derivative(\\psi(\\tau, x, y, z), \\tau) + (2*\\phi(\\tau, x, y, z) - 1)**2*(2*\\psi(\\tau, x, y, z) + 1)*((2*\\phi(\\tau, x, y, z) - 1)*Derivative(a(\\tau), (\\tau, 2)) + a(\\tau)*Derivative(\\phi(\\tau, x, y, z), (\\tau, 2)) + 3*Derivative(\\phi(\\tau, x, y, z), \\tau)*Derivative(a(\\tau), \\tau))*a(\\tau) - (2*\\phi(\\tau, x, y, z) - 1)**2*(2*\\psi(\\tau, x, y, z) + 1)*a(\\tau)**2*Derivative(\\psi(\\tau, x, y, z), (x, 2)) + (2*\\phi(\\tau, x, y, z) - 1)**2*(2*\\psi(\\tau, x, y, z) + 1)*a(\\tau)**2*Derivative(\\psi(\\tau, x, y, z), (y, 2)) + (2*\\phi(\\tau, x, y, z) - 1)**2*(2*\\psi(\\tau, x, y, z) + 1)*a(\\tau)**2*Derivative(\\psi(\\tau, x, y, z), (z, 2)) + (2*\\phi(\\tau, x, y, z) - 1)**2*a(\\tau)**2*Derivative(\\psi(\\tau, x, y, z), x)**2 - (2*\\phi(\\tau, x, y, z) - 1)**2*a(\\tau)**2*Derivative(\\psi(\\tau, x, y, z), y)**2 - (2*\\phi(\\tau, x, y, z) - 1)**2*a(\\tau)**2*Derivative(\\psi(\\tau, x, y, z), z)**2 + 2*(2*\\phi(\\tau, x, y, z) - 1)*(2*\\psi(\\tau, x, y, z) + 1)**2*a(\\tau)**2*Derivative(\\phi(\\tau, x, y, z), (y, 2)) + 2*(2*\\phi(\\tau, x, y, z) - 1)*(2*\\psi(\\tau, x, y, z) + 1)**2*a(\\tau)**2*Derivative(\\phi(\\tau, x, y, z), (z, 2)) + 3*(2*\\phi(\\tau, x, y, z) - 1)*(2*\\psi(\\tau, x, y, z) + 1)*a(\\tau)**2*Derivative(\\phi(\\tau, x, y, z), x)*Derivative(\\psi(\\tau, x, y, z), x) - (2*\\phi(\\tau, x, y, z) - 1)*(2*\\psi(\\tau, x, y, z) + 1)*a(\\tau)**2*Derivative(\\phi(\\tau, x, y, z), y)*Derivative(\\psi(\\tau, x, y, z), y) - (2*\\phi(\\tau, x, y, z) - 1)*(2*\\psi(\\tau, x, y, z) + 1)*a(\\tau)**2*Derivative(\\phi(\\tau, x, y, z), z)*Derivative(\\psi(\\tau, x, y, z), z) + (2*\\phi(\\tau, x, y, z) - 1)*((1 - 2*\\phi(\\tau, x, y, z))*a(\\tau)**2*Derivative(\\psi(\\tau, x, y, z), x)**2 + (1 - 2*\\phi(\\tau, x, y, z))*a(\\tau)**2*Derivative(\\psi(\\tau, x, y, z), y)**2 + (1 - 2*\\phi(\\tau, x, y, z))*a(\\tau)**2*Derivative(\\psi(\\tau, x, y, z), z)**2 + 3*((2*\\phi(\\tau, x, y, z) - 1)*Derivative(a(\\tau), \\tau) + a(\\tau)*Derivative(\\phi(\\tau, x, y, z), \\tau))**2*(2*\\psi(\\tau, x, y, z) + 1) - 3*((2*\\phi(\\tau, x, y, z) - 1)*Derivative(a(\\tau), \\tau) + a(\\tau)*Derivative(\\phi(\\tau, x, y, z), \\tau))*((2*\\psi(\\tau, x, y, z) + 1)*Derivative(a(\\tau), \\tau) + a(\\tau)*Derivative(\\psi(\\tau, x, y, z), \\tau))*(2*\\phi(\\tau, x, y, z) - 1) - 3*((2*\\phi(\\tau, x, y, z) - 1)*Derivative(a(\\tau), \\tau) + a(\\tau)*Derivative(\\phi(\\tau, x, y, z), \\tau))*(2*\\phi(\\tau, x, y, z) - 1)*(2*\\psi(\\tau, x, y, z) + 1)*Derivative(a(\\tau), \\tau) - 6*((2*\\phi(\\tau, x, y, z) - 1)*Derivative(a(\\tau), \\tau) + a(\\tau)*Derivative(\\phi(\\tau, x, y, z), \\tau))*(2*\\psi(\\tau, x, y, z) + 1)*a(\\tau)*Derivative(\\phi(\\tau, x, y, z), \\tau) + 3*(2*\\phi(\\tau, x, y, z) - 1)*(2*\\psi(\\tau, x, y, z) + 1)*((2*\\phi(\\tau, x, y, z) - 1)*Derivative(a(\\tau), (\\tau, 2)) + a(\\tau)*Derivative(\\phi(\\tau, x, y, z), (\\tau, 2)) + 3*Derivative(\\phi(\\tau, x, y, z), \\tau)*Derivative(a(\\tau), \\tau))*a(\\tau) + (2*\\phi(\\tau, x, y, z) - 1)*(2*\\psi(\\tau, x, y, z) + 1)*a(\\tau)**2*Derivative(\\psi(\\tau, x, y, z), (x, 2)) + (2*\\phi(\\tau, x, y, z) - 1)*(2*\\psi(\\tau, x, y, z) + 1)*a(\\tau)**2*Derivative(\\psi(\\tau, x, y, z), (y, 2)) + (2*\\phi(\\tau, x, y, z) - 1)*(2*\\psi(\\tau, x, y, z) + 1)*a(\\tau)**2*Derivative(\\psi(\\tau, x, y, z), (z, 2)) + (2*\\psi(\\tau, x, y, z) + 1)*a(\\tau)**2*Derivative(\\phi(\\tau, x, y, z), x)*Derivative(\\psi(\\tau, x, y, z), x) + (2*\\psi(\\tau, x, y, z) + 1)*a(\\tau)**2*Derivative(\\phi(\\tau, x, y, z), y)*Derivative(\\psi(\\tau, x, y, z), y) + (2*\\psi(\\tau, x, y, z) + 1)*a(\\tau)**2*Derivative(\\phi(\\tau, x, y, z), z)*Derivative(\\psi(\\tau, x, y, z), z)) + 2*(2*\\psi(\\tau, x, y, z) + 1)**2*a(\\tau)**2*Derivative(\\phi(\\tau, x, y, z), x)**2 - 4*(2*\\psi(\\tau, x, y, z) + 1)**2*a(\\tau)**2*Derivative(\\phi(\\tau, x, y, z), y)**2 - 4*(2*\\psi(\\tau, x, y, z) + 1)**2*a(\\tau)**2*Derivative(\\phi(\\tau, x, y, z), z)**2)/(2*(1 - 2*\\phi(\\tau, x, y, z))*(2*\\phi(\\tau, x, y, z) - 1)**2*(2*\\psi(\\tau, x, y, z) + 1)**2*a(\\tau)**4)"
            ],
            "text/latex": "$\\displaystyle - \\frac{\\left(\\left(2 \\phi{\\left(\\tau,x,y,z \\right)} - 1\\right) \\frac{d}{d \\tau} a{\\left(\\tau \\right)} + a{\\left(\\tau \\right)} \\frac{\\partial}{\\partial \\tau} \\phi{\\left(\\tau,x,y,z \\right)}\\right)^{2} \\left(2 \\phi{\\left(\\tau,x,y,z \\right)} - 1\\right) \\left(2 \\psi{\\left(\\tau,x,y,z \\right)} + 1\\right) + \\left(\\left(2 \\phi{\\left(\\tau,x,y,z \\right)} - 1\\right) \\frac{d}{d \\tau} a{\\left(\\tau \\right)} + a{\\left(\\tau \\right)} \\frac{\\partial}{\\partial \\tau} \\phi{\\left(\\tau,x,y,z \\right)}\\right) \\left(\\left(2 \\psi{\\left(\\tau,x,y,z \\right)} + 1\\right) \\frac{d}{d \\tau} a{\\left(\\tau \\right)} + a{\\left(\\tau \\right)} \\frac{\\partial}{\\partial \\tau} \\psi{\\left(\\tau,x,y,z \\right)}\\right) \\left(2 \\phi{\\left(\\tau,x,y,z \\right)} - 1\\right)^{2} - \\left(\\left(2 \\phi{\\left(\\tau,x,y,z \\right)} - 1\\right) \\frac{d}{d \\tau} a{\\left(\\tau \\right)} + a{\\left(\\tau \\right)} \\frac{\\partial}{\\partial \\tau} \\phi{\\left(\\tau,x,y,z \\right)}\\right) \\left(2 \\phi{\\left(\\tau,x,y,z \\right)} - 1\\right)^{2} \\left(2 \\psi{\\left(\\tau,x,y,z \\right)} + 1\\right) \\frac{d}{d \\tau} a{\\left(\\tau \\right)} - 2 \\left(\\left(2 \\phi{\\left(\\tau,x,y,z \\right)} - 1\\right) \\frac{d}{d \\tau} a{\\left(\\tau \\right)} + a{\\left(\\tau \\right)} \\frac{\\partial}{\\partial \\tau} \\phi{\\left(\\tau,x,y,z \\right)}\\right) \\left(2 \\phi{\\left(\\tau,x,y,z \\right)} - 1\\right)^{2} a{\\left(\\tau \\right)} \\frac{\\partial}{\\partial \\tau} \\psi{\\left(\\tau,x,y,z \\right)} + \\left(2 \\phi{\\left(\\tau,x,y,z \\right)} - 1\\right)^{2} \\left(2 \\psi{\\left(\\tau,x,y,z \\right)} + 1\\right) \\left(\\left(2 \\phi{\\left(\\tau,x,y,z \\right)} - 1\\right) \\frac{d^{2}}{d \\tau^{2}} a{\\left(\\tau \\right)} + a{\\left(\\tau \\right)} \\frac{\\partial^{2}}{\\partial \\tau^{2}} \\phi{\\left(\\tau,x,y,z \\right)} + 3 \\frac{\\partial}{\\partial \\tau} \\phi{\\left(\\tau,x,y,z \\right)} \\frac{d}{d \\tau} a{\\left(\\tau \\right)}\\right) a{\\left(\\tau \\right)} - \\left(2 \\phi{\\left(\\tau,x,y,z \\right)} - 1\\right)^{2} \\left(2 \\psi{\\left(\\tau,x,y,z \\right)} + 1\\right) a^{2}{\\left(\\tau \\right)} \\frac{\\partial^{2}}{\\partial x^{2}} \\psi{\\left(\\tau,x,y,z \\right)} + \\left(2 \\phi{\\left(\\tau,x,y,z \\right)} - 1\\right)^{2} \\left(2 \\psi{\\left(\\tau,x,y,z \\right)} + 1\\right) a^{2}{\\left(\\tau \\right)} \\frac{\\partial^{2}}{\\partial y^{2}} \\psi{\\left(\\tau,x,y,z \\right)} + \\left(2 \\phi{\\left(\\tau,x,y,z \\right)} - 1\\right)^{2} \\left(2 \\psi{\\left(\\tau,x,y,z \\right)} + 1\\right) a^{2}{\\left(\\tau \\right)} \\frac{\\partial^{2}}{\\partial z^{2}} \\psi{\\left(\\tau,x,y,z \\right)} + \\left(2 \\phi{\\left(\\tau,x,y,z \\right)} - 1\\right)^{2} a^{2}{\\left(\\tau \\right)} \\left(\\frac{\\partial}{\\partial x} \\psi{\\left(\\tau,x,y,z \\right)}\\right)^{2} - \\left(2 \\phi{\\left(\\tau,x,y,z \\right)} - 1\\right)^{2} a^{2}{\\left(\\tau \\right)} \\left(\\frac{\\partial}{\\partial y} \\psi{\\left(\\tau,x,y,z \\right)}\\right)^{2} - \\left(2 \\phi{\\left(\\tau,x,y,z \\right)} - 1\\right)^{2} a^{2}{\\left(\\tau \\right)} \\left(\\frac{\\partial}{\\partial z} \\psi{\\left(\\tau,x,y,z \\right)}\\right)^{2} + 2 \\left(2 \\phi{\\left(\\tau,x,y,z \\right)} - 1\\right) \\left(2 \\psi{\\left(\\tau,x,y,z \\right)} + 1\\right)^{2} a^{2}{\\left(\\tau \\right)} \\frac{\\partial^{2}}{\\partial y^{2}} \\phi{\\left(\\tau,x,y,z \\right)} + 2 \\left(2 \\phi{\\left(\\tau,x,y,z \\right)} - 1\\right) \\left(2 \\psi{\\left(\\tau,x,y,z \\right)} + 1\\right)^{2} a^{2}{\\left(\\tau \\right)} \\frac{\\partial^{2}}{\\partial z^{2}} \\phi{\\left(\\tau,x,y,z \\right)} + 3 \\left(2 \\phi{\\left(\\tau,x,y,z \\right)} - 1\\right) \\left(2 \\psi{\\left(\\tau,x,y,z \\right)} + 1\\right) a^{2}{\\left(\\tau \\right)} \\frac{\\partial}{\\partial x} \\phi{\\left(\\tau,x,y,z \\right)} \\frac{\\partial}{\\partial x} \\psi{\\left(\\tau,x,y,z \\right)} - \\left(2 \\phi{\\left(\\tau,x,y,z \\right)} - 1\\right) \\left(2 \\psi{\\left(\\tau,x,y,z \\right)} + 1\\right) a^{2}{\\left(\\tau \\right)} \\frac{\\partial}{\\partial y} \\phi{\\left(\\tau,x,y,z \\right)} \\frac{\\partial}{\\partial y} \\psi{\\left(\\tau,x,y,z \\right)} - \\left(2 \\phi{\\left(\\tau,x,y,z \\right)} - 1\\right) \\left(2 \\psi{\\left(\\tau,x,y,z \\right)} + 1\\right) a^{2}{\\left(\\tau \\right)} \\frac{\\partial}{\\partial z} \\phi{\\left(\\tau,x,y,z \\right)} \\frac{\\partial}{\\partial z} \\psi{\\left(\\tau,x,y,z \\right)} + \\left(2 \\phi{\\left(\\tau,x,y,z \\right)} - 1\\right) \\left(\\left(1 - 2 \\phi{\\left(\\tau,x,y,z \\right)}\\right) a^{2}{\\left(\\tau \\right)} \\left(\\frac{\\partial}{\\partial x} \\psi{\\left(\\tau,x,y,z \\right)}\\right)^{2} + \\left(1 - 2 \\phi{\\left(\\tau,x,y,z \\right)}\\right) a^{2}{\\left(\\tau \\right)} \\left(\\frac{\\partial}{\\partial y} \\psi{\\left(\\tau,x,y,z \\right)}\\right)^{2} + \\left(1 - 2 \\phi{\\left(\\tau,x,y,z \\right)}\\right) a^{2}{\\left(\\tau \\right)} \\left(\\frac{\\partial}{\\partial z} \\psi{\\left(\\tau,x,y,z \\right)}\\right)^{2} + 3 \\left(\\left(2 \\phi{\\left(\\tau,x,y,z \\right)} - 1\\right) \\frac{d}{d \\tau} a{\\left(\\tau \\right)} + a{\\left(\\tau \\right)} \\frac{\\partial}{\\partial \\tau} \\phi{\\left(\\tau,x,y,z \\right)}\\right)^{2} \\left(2 \\psi{\\left(\\tau,x,y,z \\right)} + 1\\right) - 3 \\left(\\left(2 \\phi{\\left(\\tau,x,y,z \\right)} - 1\\right) \\frac{d}{d \\tau} a{\\left(\\tau \\right)} + a{\\left(\\tau \\right)} \\frac{\\partial}{\\partial \\tau} \\phi{\\left(\\tau,x,y,z \\right)}\\right) \\left(\\left(2 \\psi{\\left(\\tau,x,y,z \\right)} + 1\\right) \\frac{d}{d \\tau} a{\\left(\\tau \\right)} + a{\\left(\\tau \\right)} \\frac{\\partial}{\\partial \\tau} \\psi{\\left(\\tau,x,y,z \\right)}\\right) \\left(2 \\phi{\\left(\\tau,x,y,z \\right)} - 1\\right) - 3 \\left(\\left(2 \\phi{\\left(\\tau,x,y,z \\right)} - 1\\right) \\frac{d}{d \\tau} a{\\left(\\tau \\right)} + a{\\left(\\tau \\right)} \\frac{\\partial}{\\partial \\tau} \\phi{\\left(\\tau,x,y,z \\right)}\\right) \\left(2 \\phi{\\left(\\tau,x,y,z \\right)} - 1\\right) \\left(2 \\psi{\\left(\\tau,x,y,z \\right)} + 1\\right) \\frac{d}{d \\tau} a{\\left(\\tau \\right)} - 6 \\left(\\left(2 \\phi{\\left(\\tau,x,y,z \\right)} - 1\\right) \\frac{d}{d \\tau} a{\\left(\\tau \\right)} + a{\\left(\\tau \\right)} \\frac{\\partial}{\\partial \\tau} \\phi{\\left(\\tau,x,y,z \\right)}\\right) \\left(2 \\psi{\\left(\\tau,x,y,z \\right)} + 1\\right) a{\\left(\\tau \\right)} \\frac{\\partial}{\\partial \\tau} \\phi{\\left(\\tau,x,y,z \\right)} + 3 \\left(2 \\phi{\\left(\\tau,x,y,z \\right)} - 1\\right) \\left(2 \\psi{\\left(\\tau,x,y,z \\right)} + 1\\right) \\left(\\left(2 \\phi{\\left(\\tau,x,y,z \\right)} - 1\\right) \\frac{d^{2}}{d \\tau^{2}} a{\\left(\\tau \\right)} + a{\\left(\\tau \\right)} \\frac{\\partial^{2}}{\\partial \\tau^{2}} \\phi{\\left(\\tau,x,y,z \\right)} + 3 \\frac{\\partial}{\\partial \\tau} \\phi{\\left(\\tau,x,y,z \\right)} \\frac{d}{d \\tau} a{\\left(\\tau \\right)}\\right) a{\\left(\\tau \\right)} + \\left(2 \\phi{\\left(\\tau,x,y,z \\right)} - 1\\right) \\left(2 \\psi{\\left(\\tau,x,y,z \\right)} + 1\\right) a^{2}{\\left(\\tau \\right)} \\frac{\\partial^{2}}{\\partial x^{2}} \\psi{\\left(\\tau,x,y,z \\right)} + \\left(2 \\phi{\\left(\\tau,x,y,z \\right)} - 1\\right) \\left(2 \\psi{\\left(\\tau,x,y,z \\right)} + 1\\right) a^{2}{\\left(\\tau \\right)} \\frac{\\partial^{2}}{\\partial y^{2}} \\psi{\\left(\\tau,x,y,z \\right)} + \\left(2 \\phi{\\left(\\tau,x,y,z \\right)} - 1\\right) \\left(2 \\psi{\\left(\\tau,x,y,z \\right)} + 1\\right) a^{2}{\\left(\\tau \\right)} \\frac{\\partial^{2}}{\\partial z^{2}} \\psi{\\left(\\tau,x,y,z \\right)} + \\left(2 \\psi{\\left(\\tau,x,y,z \\right)} + 1\\right) a^{2}{\\left(\\tau \\right)} \\frac{\\partial}{\\partial x} \\phi{\\left(\\tau,x,y,z \\right)} \\frac{\\partial}{\\partial x} \\psi{\\left(\\tau,x,y,z \\right)} + \\left(2 \\psi{\\left(\\tau,x,y,z \\right)} + 1\\right) a^{2}{\\left(\\tau \\right)} \\frac{\\partial}{\\partial y} \\phi{\\left(\\tau,x,y,z \\right)} \\frac{\\partial}{\\partial y} \\psi{\\left(\\tau,x,y,z \\right)} + \\left(2 \\psi{\\left(\\tau,x,y,z \\right)} + 1\\right) a^{2}{\\left(\\tau \\right)} \\frac{\\partial}{\\partial z} \\phi{\\left(\\tau,x,y,z \\right)} \\frac{\\partial}{\\partial z} \\psi{\\left(\\tau,x,y,z \\right)}\\right) + 2 \\left(2 \\psi{\\left(\\tau,x,y,z \\right)} + 1\\right)^{2} a^{2}{\\left(\\tau \\right)} \\left(\\frac{\\partial}{\\partial x} \\phi{\\left(\\tau,x,y,z \\right)}\\right)^{2} - 4 \\left(2 \\psi{\\left(\\tau,x,y,z \\right)} + 1\\right)^{2} a^{2}{\\left(\\tau \\right)} \\left(\\frac{\\partial}{\\partial y} \\phi{\\left(\\tau,x,y,z \\right)}\\right)^{2} - 4 \\left(2 \\psi{\\left(\\tau,x,y,z \\right)} + 1\\right)^{2} a^{2}{\\left(\\tau \\right)} \\left(\\frac{\\partial}{\\partial z} \\phi{\\left(\\tau,x,y,z \\right)}\\right)^{2}}{2 \\left(1 - 2 \\phi{\\left(\\tau,x,y,z \\right)}\\right) \\left(2 \\phi{\\left(\\tau,x,y,z \\right)} - 1\\right)^{2} \\left(2 \\psi{\\left(\\tau,x,y,z \\right)} + 1\\right)^{2} a^{4}{\\left(\\tau \\right)}}$"
          },
          "metadata": {},
          "execution_count": 21
        }
      ]
    },
    {
      "cell_type": "code",
      "source": [
        "G(-3,3)"
      ],
      "metadata": {
        "colab": {
          "base_uri": "https://localhost:8080/",
          "height": 103
        },
        "id": "jxF5O5fOVak2",
        "outputId": "c4c11e1d-b8f2-4722-c7fd-47d3cafb0137"
      },
      "execution_count": 22,
      "outputs": [
        {
          "output_type": "execute_result",
          "data": {
            "text/plain": [
              "-(((2*\\phi(\\tau, x, y, z) - 1)*Derivative(a(\\tau), \\tau) + a(\\tau)*Derivative(\\phi(\\tau, x, y, z), \\tau))**2*(2*\\phi(\\tau, x, y, z) - 1)*(2*\\psi(\\tau, x, y, z) + 1) + ((2*\\phi(\\tau, x, y, z) - 1)*Derivative(a(\\tau), \\tau) + a(\\tau)*Derivative(\\phi(\\tau, x, y, z), \\tau))*((2*\\psi(\\tau, x, y, z) + 1)*Derivative(a(\\tau), \\tau) + a(\\tau)*Derivative(\\psi(\\tau, x, y, z), \\tau))*(2*\\phi(\\tau, x, y, z) - 1)**2 - ((2*\\phi(\\tau, x, y, z) - 1)*Derivative(a(\\tau), \\tau) + a(\\tau)*Derivative(\\phi(\\tau, x, y, z), \\tau))*(2*\\phi(\\tau, x, y, z) - 1)**2*(2*\\psi(\\tau, x, y, z) + 1)*Derivative(a(\\tau), \\tau) - 2*((2*\\phi(\\tau, x, y, z) - 1)*Derivative(a(\\tau), \\tau) + a(\\tau)*Derivative(\\phi(\\tau, x, y, z), \\tau))*(2*\\phi(\\tau, x, y, z) - 1)**2*a(\\tau)*Derivative(\\psi(\\tau, x, y, z), \\tau) + (2*\\phi(\\tau, x, y, z) - 1)**2*(2*\\psi(\\tau, x, y, z) + 1)*((2*\\phi(\\tau, x, y, z) - 1)*Derivative(a(\\tau), (\\tau, 2)) + a(\\tau)*Derivative(\\phi(\\tau, x, y, z), (\\tau, 2)) + 3*Derivative(\\phi(\\tau, x, y, z), \\tau)*Derivative(a(\\tau), \\tau))*a(\\tau) + (2*\\phi(\\tau, x, y, z) - 1)**2*(2*\\psi(\\tau, x, y, z) + 1)*a(\\tau)**2*Derivative(\\psi(\\tau, x, y, z), (x, 2)) - (2*\\phi(\\tau, x, y, z) - 1)**2*(2*\\psi(\\tau, x, y, z) + 1)*a(\\tau)**2*Derivative(\\psi(\\tau, x, y, z), (y, 2)) + (2*\\phi(\\tau, x, y, z) - 1)**2*(2*\\psi(\\tau, x, y, z) + 1)*a(\\tau)**2*Derivative(\\psi(\\tau, x, y, z), (z, 2)) - (2*\\phi(\\tau, x, y, z) - 1)**2*a(\\tau)**2*Derivative(\\psi(\\tau, x, y, z), x)**2 + (2*\\phi(\\tau, x, y, z) - 1)**2*a(\\tau)**2*Derivative(\\psi(\\tau, x, y, z), y)**2 - (2*\\phi(\\tau, x, y, z) - 1)**2*a(\\tau)**2*Derivative(\\psi(\\tau, x, y, z), z)**2 + 2*(2*\\phi(\\tau, x, y, z) - 1)*(2*\\psi(\\tau, x, y, z) + 1)**2*a(\\tau)**2*Derivative(\\phi(\\tau, x, y, z), (x, 2)) + 2*(2*\\phi(\\tau, x, y, z) - 1)*(2*\\psi(\\tau, x, y, z) + 1)**2*a(\\tau)**2*Derivative(\\phi(\\tau, x, y, z), (z, 2)) - (2*\\phi(\\tau, x, y, z) - 1)*(2*\\psi(\\tau, x, y, z) + 1)*a(\\tau)**2*Derivative(\\phi(\\tau, x, y, z), x)*Derivative(\\psi(\\tau, x, y, z), x) + 3*(2*\\phi(\\tau, x, y, z) - 1)*(2*\\psi(\\tau, x, y, z) + 1)*a(\\tau)**2*Derivative(\\phi(\\tau, x, y, z), y)*Derivative(\\psi(\\tau, x, y, z), y) - (2*\\phi(\\tau, x, y, z) - 1)*(2*\\psi(\\tau, x, y, z) + 1)*a(\\tau)**2*Derivative(\\phi(\\tau, x, y, z), z)*Derivative(\\psi(\\tau, x, y, z), z) + (2*\\phi(\\tau, x, y, z) - 1)*((1 - 2*\\phi(\\tau, x, y, z))*a(\\tau)**2*Derivative(\\psi(\\tau, x, y, z), x)**2 + (1 - 2*\\phi(\\tau, x, y, z))*a(\\tau)**2*Derivative(\\psi(\\tau, x, y, z), y)**2 + (1 - 2*\\phi(\\tau, x, y, z))*a(\\tau)**2*Derivative(\\psi(\\tau, x, y, z), z)**2 + 3*((2*\\phi(\\tau, x, y, z) - 1)*Derivative(a(\\tau), \\tau) + a(\\tau)*Derivative(\\phi(\\tau, x, y, z), \\tau))**2*(2*\\psi(\\tau, x, y, z) + 1) - 3*((2*\\phi(\\tau, x, y, z) - 1)*Derivative(a(\\tau), \\tau) + a(\\tau)*Derivative(\\phi(\\tau, x, y, z), \\tau))*((2*\\psi(\\tau, x, y, z) + 1)*Derivative(a(\\tau), \\tau) + a(\\tau)*Derivative(\\psi(\\tau, x, y, z), \\tau))*(2*\\phi(\\tau, x, y, z) - 1) - 3*((2*\\phi(\\tau, x, y, z) - 1)*Derivative(a(\\tau), \\tau) + a(\\tau)*Derivative(\\phi(\\tau, x, y, z), \\tau))*(2*\\phi(\\tau, x, y, z) - 1)*(2*\\psi(\\tau, x, y, z) + 1)*Derivative(a(\\tau), \\tau) - 6*((2*\\phi(\\tau, x, y, z) - 1)*Derivative(a(\\tau), \\tau) + a(\\tau)*Derivative(\\phi(\\tau, x, y, z), \\tau))*(2*\\psi(\\tau, x, y, z) + 1)*a(\\tau)*Derivative(\\phi(\\tau, x, y, z), \\tau) + 3*(2*\\phi(\\tau, x, y, z) - 1)*(2*\\psi(\\tau, x, y, z) + 1)*((2*\\phi(\\tau, x, y, z) - 1)*Derivative(a(\\tau), (\\tau, 2)) + a(\\tau)*Derivative(\\phi(\\tau, x, y, z), (\\tau, 2)) + 3*Derivative(\\phi(\\tau, x, y, z), \\tau)*Derivative(a(\\tau), \\tau))*a(\\tau) + (2*\\phi(\\tau, x, y, z) - 1)*(2*\\psi(\\tau, x, y, z) + 1)*a(\\tau)**2*Derivative(\\psi(\\tau, x, y, z), (x, 2)) + (2*\\phi(\\tau, x, y, z) - 1)*(2*\\psi(\\tau, x, y, z) + 1)*a(\\tau)**2*Derivative(\\psi(\\tau, x, y, z), (y, 2)) + (2*\\phi(\\tau, x, y, z) - 1)*(2*\\psi(\\tau, x, y, z) + 1)*a(\\tau)**2*Derivative(\\psi(\\tau, x, y, z), (z, 2)) + (2*\\psi(\\tau, x, y, z) + 1)*a(\\tau)**2*Derivative(\\phi(\\tau, x, y, z), x)*Derivative(\\psi(\\tau, x, y, z), x) + (2*\\psi(\\tau, x, y, z) + 1)*a(\\tau)**2*Derivative(\\phi(\\tau, x, y, z), y)*Derivative(\\psi(\\tau, x, y, z), y) + (2*\\psi(\\tau, x, y, z) + 1)*a(\\tau)**2*Derivative(\\phi(\\tau, x, y, z), z)*Derivative(\\psi(\\tau, x, y, z), z)) - 4*(2*\\psi(\\tau, x, y, z) + 1)**2*a(\\tau)**2*Derivative(\\phi(\\tau, x, y, z), x)**2 + 2*(2*\\psi(\\tau, x, y, z) + 1)**2*a(\\tau)**2*Derivative(\\phi(\\tau, x, y, z), y)**2 - 4*(2*\\psi(\\tau, x, y, z) + 1)**2*a(\\tau)**2*Derivative(\\phi(\\tau, x, y, z), z)**2)/(2*(1 - 2*\\phi(\\tau, x, y, z))*(2*\\phi(\\tau, x, y, z) - 1)**2*(2*\\psi(\\tau, x, y, z) + 1)**2*a(\\tau)**4)"
            ],
            "text/latex": "$\\displaystyle - \\frac{\\left(\\left(2 \\phi{\\left(\\tau,x,y,z \\right)} - 1\\right) \\frac{d}{d \\tau} a{\\left(\\tau \\right)} + a{\\left(\\tau \\right)} \\frac{\\partial}{\\partial \\tau} \\phi{\\left(\\tau,x,y,z \\right)}\\right)^{2} \\left(2 \\phi{\\left(\\tau,x,y,z \\right)} - 1\\right) \\left(2 \\psi{\\left(\\tau,x,y,z \\right)} + 1\\right) + \\left(\\left(2 \\phi{\\left(\\tau,x,y,z \\right)} - 1\\right) \\frac{d}{d \\tau} a{\\left(\\tau \\right)} + a{\\left(\\tau \\right)} \\frac{\\partial}{\\partial \\tau} \\phi{\\left(\\tau,x,y,z \\right)}\\right) \\left(\\left(2 \\psi{\\left(\\tau,x,y,z \\right)} + 1\\right) \\frac{d}{d \\tau} a{\\left(\\tau \\right)} + a{\\left(\\tau \\right)} \\frac{\\partial}{\\partial \\tau} \\psi{\\left(\\tau,x,y,z \\right)}\\right) \\left(2 \\phi{\\left(\\tau,x,y,z \\right)} - 1\\right)^{2} - \\left(\\left(2 \\phi{\\left(\\tau,x,y,z \\right)} - 1\\right) \\frac{d}{d \\tau} a{\\left(\\tau \\right)} + a{\\left(\\tau \\right)} \\frac{\\partial}{\\partial \\tau} \\phi{\\left(\\tau,x,y,z \\right)}\\right) \\left(2 \\phi{\\left(\\tau,x,y,z \\right)} - 1\\right)^{2} \\left(2 \\psi{\\left(\\tau,x,y,z \\right)} + 1\\right) \\frac{d}{d \\tau} a{\\left(\\tau \\right)} - 2 \\left(\\left(2 \\phi{\\left(\\tau,x,y,z \\right)} - 1\\right) \\frac{d}{d \\tau} a{\\left(\\tau \\right)} + a{\\left(\\tau \\right)} \\frac{\\partial}{\\partial \\tau} \\phi{\\left(\\tau,x,y,z \\right)}\\right) \\left(2 \\phi{\\left(\\tau,x,y,z \\right)} - 1\\right)^{2} a{\\left(\\tau \\right)} \\frac{\\partial}{\\partial \\tau} \\psi{\\left(\\tau,x,y,z \\right)} + \\left(2 \\phi{\\left(\\tau,x,y,z \\right)} - 1\\right)^{2} \\left(2 \\psi{\\left(\\tau,x,y,z \\right)} + 1\\right) \\left(\\left(2 \\phi{\\left(\\tau,x,y,z \\right)} - 1\\right) \\frac{d^{2}}{d \\tau^{2}} a{\\left(\\tau \\right)} + a{\\left(\\tau \\right)} \\frac{\\partial^{2}}{\\partial \\tau^{2}} \\phi{\\left(\\tau,x,y,z \\right)} + 3 \\frac{\\partial}{\\partial \\tau} \\phi{\\left(\\tau,x,y,z \\right)} \\frac{d}{d \\tau} a{\\left(\\tau \\right)}\\right) a{\\left(\\tau \\right)} + \\left(2 \\phi{\\left(\\tau,x,y,z \\right)} - 1\\right)^{2} \\left(2 \\psi{\\left(\\tau,x,y,z \\right)} + 1\\right) a^{2}{\\left(\\tau \\right)} \\frac{\\partial^{2}}{\\partial x^{2}} \\psi{\\left(\\tau,x,y,z \\right)} - \\left(2 \\phi{\\left(\\tau,x,y,z \\right)} - 1\\right)^{2} \\left(2 \\psi{\\left(\\tau,x,y,z \\right)} + 1\\right) a^{2}{\\left(\\tau \\right)} \\frac{\\partial^{2}}{\\partial y^{2}} \\psi{\\left(\\tau,x,y,z \\right)} + \\left(2 \\phi{\\left(\\tau,x,y,z \\right)} - 1\\right)^{2} \\left(2 \\psi{\\left(\\tau,x,y,z \\right)} + 1\\right) a^{2}{\\left(\\tau \\right)} \\frac{\\partial^{2}}{\\partial z^{2}} \\psi{\\left(\\tau,x,y,z \\right)} - \\left(2 \\phi{\\left(\\tau,x,y,z \\right)} - 1\\right)^{2} a^{2}{\\left(\\tau \\right)} \\left(\\frac{\\partial}{\\partial x} \\psi{\\left(\\tau,x,y,z \\right)}\\right)^{2} + \\left(2 \\phi{\\left(\\tau,x,y,z \\right)} - 1\\right)^{2} a^{2}{\\left(\\tau \\right)} \\left(\\frac{\\partial}{\\partial y} \\psi{\\left(\\tau,x,y,z \\right)}\\right)^{2} - \\left(2 \\phi{\\left(\\tau,x,y,z \\right)} - 1\\right)^{2} a^{2}{\\left(\\tau \\right)} \\left(\\frac{\\partial}{\\partial z} \\psi{\\left(\\tau,x,y,z \\right)}\\right)^{2} + 2 \\left(2 \\phi{\\left(\\tau,x,y,z \\right)} - 1\\right) \\left(2 \\psi{\\left(\\tau,x,y,z \\right)} + 1\\right)^{2} a^{2}{\\left(\\tau \\right)} \\frac{\\partial^{2}}{\\partial x^{2}} \\phi{\\left(\\tau,x,y,z \\right)} + 2 \\left(2 \\phi{\\left(\\tau,x,y,z \\right)} - 1\\right) \\left(2 \\psi{\\left(\\tau,x,y,z \\right)} + 1\\right)^{2} a^{2}{\\left(\\tau \\right)} \\frac{\\partial^{2}}{\\partial z^{2}} \\phi{\\left(\\tau,x,y,z \\right)} - \\left(2 \\phi{\\left(\\tau,x,y,z \\right)} - 1\\right) \\left(2 \\psi{\\left(\\tau,x,y,z \\right)} + 1\\right) a^{2}{\\left(\\tau \\right)} \\frac{\\partial}{\\partial x} \\phi{\\left(\\tau,x,y,z \\right)} \\frac{\\partial}{\\partial x} \\psi{\\left(\\tau,x,y,z \\right)} + 3 \\left(2 \\phi{\\left(\\tau,x,y,z \\right)} - 1\\right) \\left(2 \\psi{\\left(\\tau,x,y,z \\right)} + 1\\right) a^{2}{\\left(\\tau \\right)} \\frac{\\partial}{\\partial y} \\phi{\\left(\\tau,x,y,z \\right)} \\frac{\\partial}{\\partial y} \\psi{\\left(\\tau,x,y,z \\right)} - \\left(2 \\phi{\\left(\\tau,x,y,z \\right)} - 1\\right) \\left(2 \\psi{\\left(\\tau,x,y,z \\right)} + 1\\right) a^{2}{\\left(\\tau \\right)} \\frac{\\partial}{\\partial z} \\phi{\\left(\\tau,x,y,z \\right)} \\frac{\\partial}{\\partial z} \\psi{\\left(\\tau,x,y,z \\right)} + \\left(2 \\phi{\\left(\\tau,x,y,z \\right)} - 1\\right) \\left(\\left(1 - 2 \\phi{\\left(\\tau,x,y,z \\right)}\\right) a^{2}{\\left(\\tau \\right)} \\left(\\frac{\\partial}{\\partial x} \\psi{\\left(\\tau,x,y,z \\right)}\\right)^{2} + \\left(1 - 2 \\phi{\\left(\\tau,x,y,z \\right)}\\right) a^{2}{\\left(\\tau \\right)} \\left(\\frac{\\partial}{\\partial y} \\psi{\\left(\\tau,x,y,z \\right)}\\right)^{2} + \\left(1 - 2 \\phi{\\left(\\tau,x,y,z \\right)}\\right) a^{2}{\\left(\\tau \\right)} \\left(\\frac{\\partial}{\\partial z} \\psi{\\left(\\tau,x,y,z \\right)}\\right)^{2} + 3 \\left(\\left(2 \\phi{\\left(\\tau,x,y,z \\right)} - 1\\right) \\frac{d}{d \\tau} a{\\left(\\tau \\right)} + a{\\left(\\tau \\right)} \\frac{\\partial}{\\partial \\tau} \\phi{\\left(\\tau,x,y,z \\right)}\\right)^{2} \\left(2 \\psi{\\left(\\tau,x,y,z \\right)} + 1\\right) - 3 \\left(\\left(2 \\phi{\\left(\\tau,x,y,z \\right)} - 1\\right) \\frac{d}{d \\tau} a{\\left(\\tau \\right)} + a{\\left(\\tau \\right)} \\frac{\\partial}{\\partial \\tau} \\phi{\\left(\\tau,x,y,z \\right)}\\right) \\left(\\left(2 \\psi{\\left(\\tau,x,y,z \\right)} + 1\\right) \\frac{d}{d \\tau} a{\\left(\\tau \\right)} + a{\\left(\\tau \\right)} \\frac{\\partial}{\\partial \\tau} \\psi{\\left(\\tau,x,y,z \\right)}\\right) \\left(2 \\phi{\\left(\\tau,x,y,z \\right)} - 1\\right) - 3 \\left(\\left(2 \\phi{\\left(\\tau,x,y,z \\right)} - 1\\right) \\frac{d}{d \\tau} a{\\left(\\tau \\right)} + a{\\left(\\tau \\right)} \\frac{\\partial}{\\partial \\tau} \\phi{\\left(\\tau,x,y,z \\right)}\\right) \\left(2 \\phi{\\left(\\tau,x,y,z \\right)} - 1\\right) \\left(2 \\psi{\\left(\\tau,x,y,z \\right)} + 1\\right) \\frac{d}{d \\tau} a{\\left(\\tau \\right)} - 6 \\left(\\left(2 \\phi{\\left(\\tau,x,y,z \\right)} - 1\\right) \\frac{d}{d \\tau} a{\\left(\\tau \\right)} + a{\\left(\\tau \\right)} \\frac{\\partial}{\\partial \\tau} \\phi{\\left(\\tau,x,y,z \\right)}\\right) \\left(2 \\psi{\\left(\\tau,x,y,z \\right)} + 1\\right) a{\\left(\\tau \\right)} \\frac{\\partial}{\\partial \\tau} \\phi{\\left(\\tau,x,y,z \\right)} + 3 \\left(2 \\phi{\\left(\\tau,x,y,z \\right)} - 1\\right) \\left(2 \\psi{\\left(\\tau,x,y,z \\right)} + 1\\right) \\left(\\left(2 \\phi{\\left(\\tau,x,y,z \\right)} - 1\\right) \\frac{d^{2}}{d \\tau^{2}} a{\\left(\\tau \\right)} + a{\\left(\\tau \\right)} \\frac{\\partial^{2}}{\\partial \\tau^{2}} \\phi{\\left(\\tau,x,y,z \\right)} + 3 \\frac{\\partial}{\\partial \\tau} \\phi{\\left(\\tau,x,y,z \\right)} \\frac{d}{d \\tau} a{\\left(\\tau \\right)}\\right) a{\\left(\\tau \\right)} + \\left(2 \\phi{\\left(\\tau,x,y,z \\right)} - 1\\right) \\left(2 \\psi{\\left(\\tau,x,y,z \\right)} + 1\\right) a^{2}{\\left(\\tau \\right)} \\frac{\\partial^{2}}{\\partial x^{2}} \\psi{\\left(\\tau,x,y,z \\right)} + \\left(2 \\phi{\\left(\\tau,x,y,z \\right)} - 1\\right) \\left(2 \\psi{\\left(\\tau,x,y,z \\right)} + 1\\right) a^{2}{\\left(\\tau \\right)} \\frac{\\partial^{2}}{\\partial y^{2}} \\psi{\\left(\\tau,x,y,z \\right)} + \\left(2 \\phi{\\left(\\tau,x,y,z \\right)} - 1\\right) \\left(2 \\psi{\\left(\\tau,x,y,z \\right)} + 1\\right) a^{2}{\\left(\\tau \\right)} \\frac{\\partial^{2}}{\\partial z^{2}} \\psi{\\left(\\tau,x,y,z \\right)} + \\left(2 \\psi{\\left(\\tau,x,y,z \\right)} + 1\\right) a^{2}{\\left(\\tau \\right)} \\frac{\\partial}{\\partial x} \\phi{\\left(\\tau,x,y,z \\right)} \\frac{\\partial}{\\partial x} \\psi{\\left(\\tau,x,y,z \\right)} + \\left(2 \\psi{\\left(\\tau,x,y,z \\right)} + 1\\right) a^{2}{\\left(\\tau \\right)} \\frac{\\partial}{\\partial y} \\phi{\\left(\\tau,x,y,z \\right)} \\frac{\\partial}{\\partial y} \\psi{\\left(\\tau,x,y,z \\right)} + \\left(2 \\psi{\\left(\\tau,x,y,z \\right)} + 1\\right) a^{2}{\\left(\\tau \\right)} \\frac{\\partial}{\\partial z} \\phi{\\left(\\tau,x,y,z \\right)} \\frac{\\partial}{\\partial z} \\psi{\\left(\\tau,x,y,z \\right)}\\right) - 4 \\left(2 \\psi{\\left(\\tau,x,y,z \\right)} + 1\\right)^{2} a^{2}{\\left(\\tau \\right)} \\left(\\frac{\\partial}{\\partial x} \\phi{\\left(\\tau,x,y,z \\right)}\\right)^{2} + 2 \\left(2 \\psi{\\left(\\tau,x,y,z \\right)} + 1\\right)^{2} a^{2}{\\left(\\tau \\right)} \\left(\\frac{\\partial}{\\partial y} \\phi{\\left(\\tau,x,y,z \\right)}\\right)^{2} - 4 \\left(2 \\psi{\\left(\\tau,x,y,z \\right)} + 1\\right)^{2} a^{2}{\\left(\\tau \\right)} \\left(\\frac{\\partial}{\\partial z} \\phi{\\left(\\tau,x,y,z \\right)}\\right)^{2}}{2 \\left(1 - 2 \\phi{\\left(\\tau,x,y,z \\right)}\\right) \\left(2 \\phi{\\left(\\tau,x,y,z \\right)} - 1\\right)^{2} \\left(2 \\psi{\\left(\\tau,x,y,z \\right)} + 1\\right)^{2} a^{4}{\\left(\\tau \\right)}}$"
          },
          "metadata": {},
          "execution_count": 22
        }
      ]
    },
    {
      "cell_type": "code",
      "source": [
        "G(-4,4)"
      ],
      "metadata": {
        "colab": {
          "base_uri": "https://localhost:8080/",
          "height": 103
        },
        "id": "QMWKjRV2Vc_P",
        "outputId": "3c78745e-3079-41e5-cb44-1e337915a54d"
      },
      "execution_count": 23,
      "outputs": [
        {
          "output_type": "execute_result",
          "data": {
            "text/plain": [
              "-(((2*\\phi(\\tau, x, y, z) - 1)*Derivative(a(\\tau), \\tau) + a(\\tau)*Derivative(\\phi(\\tau, x, y, z), \\tau))**2*(2*\\phi(\\tau, x, y, z) - 1)*(2*\\psi(\\tau, x, y, z) + 1) + ((2*\\phi(\\tau, x, y, z) - 1)*Derivative(a(\\tau), \\tau) + a(\\tau)*Derivative(\\phi(\\tau, x, y, z), \\tau))*((2*\\psi(\\tau, x, y, z) + 1)*Derivative(a(\\tau), \\tau) + a(\\tau)*Derivative(\\psi(\\tau, x, y, z), \\tau))*(2*\\phi(\\tau, x, y, z) - 1)**2 - ((2*\\phi(\\tau, x, y, z) - 1)*Derivative(a(\\tau), \\tau) + a(\\tau)*Derivative(\\phi(\\tau, x, y, z), \\tau))*(2*\\phi(\\tau, x, y, z) - 1)**2*(2*\\psi(\\tau, x, y, z) + 1)*Derivative(a(\\tau), \\tau) - 2*((2*\\phi(\\tau, x, y, z) - 1)*Derivative(a(\\tau), \\tau) + a(\\tau)*Derivative(\\phi(\\tau, x, y, z), \\tau))*(2*\\phi(\\tau, x, y, z) - 1)**2*a(\\tau)*Derivative(\\psi(\\tau, x, y, z), \\tau) + (2*\\phi(\\tau, x, y, z) - 1)**2*(2*\\psi(\\tau, x, y, z) + 1)*((2*\\phi(\\tau, x, y, z) - 1)*Derivative(a(\\tau), (\\tau, 2)) + a(\\tau)*Derivative(\\phi(\\tau, x, y, z), (\\tau, 2)) + 3*Derivative(\\phi(\\tau, x, y, z), \\tau)*Derivative(a(\\tau), \\tau))*a(\\tau) + (2*\\phi(\\tau, x, y, z) - 1)**2*(2*\\psi(\\tau, x, y, z) + 1)*a(\\tau)**2*Derivative(\\psi(\\tau, x, y, z), (x, 2)) + (2*\\phi(\\tau, x, y, z) - 1)**2*(2*\\psi(\\tau, x, y, z) + 1)*a(\\tau)**2*Derivative(\\psi(\\tau, x, y, z), (y, 2)) - (2*\\phi(\\tau, x, y, z) - 1)**2*(2*\\psi(\\tau, x, y, z) + 1)*a(\\tau)**2*Derivative(\\psi(\\tau, x, y, z), (z, 2)) - (2*\\phi(\\tau, x, y, z) - 1)**2*a(\\tau)**2*Derivative(\\psi(\\tau, x, y, z), x)**2 - (2*\\phi(\\tau, x, y, z) - 1)**2*a(\\tau)**2*Derivative(\\psi(\\tau, x, y, z), y)**2 + (2*\\phi(\\tau, x, y, z) - 1)**2*a(\\tau)**2*Derivative(\\psi(\\tau, x, y, z), z)**2 + 2*(2*\\phi(\\tau, x, y, z) - 1)*(2*\\psi(\\tau, x, y, z) + 1)**2*a(\\tau)**2*Derivative(\\phi(\\tau, x, y, z), (x, 2)) + 2*(2*\\phi(\\tau, x, y, z) - 1)*(2*\\psi(\\tau, x, y, z) + 1)**2*a(\\tau)**2*Derivative(\\phi(\\tau, x, y, z), (y, 2)) - (2*\\phi(\\tau, x, y, z) - 1)*(2*\\psi(\\tau, x, y, z) + 1)*a(\\tau)**2*Derivative(\\phi(\\tau, x, y, z), x)*Derivative(\\psi(\\tau, x, y, z), x) - (2*\\phi(\\tau, x, y, z) - 1)*(2*\\psi(\\tau, x, y, z) + 1)*a(\\tau)**2*Derivative(\\phi(\\tau, x, y, z), y)*Derivative(\\psi(\\tau, x, y, z), y) + 3*(2*\\phi(\\tau, x, y, z) - 1)*(2*\\psi(\\tau, x, y, z) + 1)*a(\\tau)**2*Derivative(\\phi(\\tau, x, y, z), z)*Derivative(\\psi(\\tau, x, y, z), z) + (2*\\phi(\\tau, x, y, z) - 1)*((1 - 2*\\phi(\\tau, x, y, z))*a(\\tau)**2*Derivative(\\psi(\\tau, x, y, z), x)**2 + (1 - 2*\\phi(\\tau, x, y, z))*a(\\tau)**2*Derivative(\\psi(\\tau, x, y, z), y)**2 + (1 - 2*\\phi(\\tau, x, y, z))*a(\\tau)**2*Derivative(\\psi(\\tau, x, y, z), z)**2 + 3*((2*\\phi(\\tau, x, y, z) - 1)*Derivative(a(\\tau), \\tau) + a(\\tau)*Derivative(\\phi(\\tau, x, y, z), \\tau))**2*(2*\\psi(\\tau, x, y, z) + 1) - 3*((2*\\phi(\\tau, x, y, z) - 1)*Derivative(a(\\tau), \\tau) + a(\\tau)*Derivative(\\phi(\\tau, x, y, z), \\tau))*((2*\\psi(\\tau, x, y, z) + 1)*Derivative(a(\\tau), \\tau) + a(\\tau)*Derivative(\\psi(\\tau, x, y, z), \\tau))*(2*\\phi(\\tau, x, y, z) - 1) - 3*((2*\\phi(\\tau, x, y, z) - 1)*Derivative(a(\\tau), \\tau) + a(\\tau)*Derivative(\\phi(\\tau, x, y, z), \\tau))*(2*\\phi(\\tau, x, y, z) - 1)*(2*\\psi(\\tau, x, y, z) + 1)*Derivative(a(\\tau), \\tau) - 6*((2*\\phi(\\tau, x, y, z) - 1)*Derivative(a(\\tau), \\tau) + a(\\tau)*Derivative(\\phi(\\tau, x, y, z), \\tau))*(2*\\psi(\\tau, x, y, z) + 1)*a(\\tau)*Derivative(\\phi(\\tau, x, y, z), \\tau) + 3*(2*\\phi(\\tau, x, y, z) - 1)*(2*\\psi(\\tau, x, y, z) + 1)*((2*\\phi(\\tau, x, y, z) - 1)*Derivative(a(\\tau), (\\tau, 2)) + a(\\tau)*Derivative(\\phi(\\tau, x, y, z), (\\tau, 2)) + 3*Derivative(\\phi(\\tau, x, y, z), \\tau)*Derivative(a(\\tau), \\tau))*a(\\tau) + (2*\\phi(\\tau, x, y, z) - 1)*(2*\\psi(\\tau, x, y, z) + 1)*a(\\tau)**2*Derivative(\\psi(\\tau, x, y, z), (x, 2)) + (2*\\phi(\\tau, x, y, z) - 1)*(2*\\psi(\\tau, x, y, z) + 1)*a(\\tau)**2*Derivative(\\psi(\\tau, x, y, z), (y, 2)) + (2*\\phi(\\tau, x, y, z) - 1)*(2*\\psi(\\tau, x, y, z) + 1)*a(\\tau)**2*Derivative(\\psi(\\tau, x, y, z), (z, 2)) + (2*\\psi(\\tau, x, y, z) + 1)*a(\\tau)**2*Derivative(\\phi(\\tau, x, y, z), x)*Derivative(\\psi(\\tau, x, y, z), x) + (2*\\psi(\\tau, x, y, z) + 1)*a(\\tau)**2*Derivative(\\phi(\\tau, x, y, z), y)*Derivative(\\psi(\\tau, x, y, z), y) + (2*\\psi(\\tau, x, y, z) + 1)*a(\\tau)**2*Derivative(\\phi(\\tau, x, y, z), z)*Derivative(\\psi(\\tau, x, y, z), z)) - 4*(2*\\psi(\\tau, x, y, z) + 1)**2*a(\\tau)**2*Derivative(\\phi(\\tau, x, y, z), x)**2 - 4*(2*\\psi(\\tau, x, y, z) + 1)**2*a(\\tau)**2*Derivative(\\phi(\\tau, x, y, z), y)**2 + 2*(2*\\psi(\\tau, x, y, z) + 1)**2*a(\\tau)**2*Derivative(\\phi(\\tau, x, y, z), z)**2)/(2*(1 - 2*\\phi(\\tau, x, y, z))*(2*\\phi(\\tau, x, y, z) - 1)**2*(2*\\psi(\\tau, x, y, z) + 1)**2*a(\\tau)**4)"
            ],
            "text/latex": "$\\displaystyle - \\frac{\\left(\\left(2 \\phi{\\left(\\tau,x,y,z \\right)} - 1\\right) \\frac{d}{d \\tau} a{\\left(\\tau \\right)} + a{\\left(\\tau \\right)} \\frac{\\partial}{\\partial \\tau} \\phi{\\left(\\tau,x,y,z \\right)}\\right)^{2} \\left(2 \\phi{\\left(\\tau,x,y,z \\right)} - 1\\right) \\left(2 \\psi{\\left(\\tau,x,y,z \\right)} + 1\\right) + \\left(\\left(2 \\phi{\\left(\\tau,x,y,z \\right)} - 1\\right) \\frac{d}{d \\tau} a{\\left(\\tau \\right)} + a{\\left(\\tau \\right)} \\frac{\\partial}{\\partial \\tau} \\phi{\\left(\\tau,x,y,z \\right)}\\right) \\left(\\left(2 \\psi{\\left(\\tau,x,y,z \\right)} + 1\\right) \\frac{d}{d \\tau} a{\\left(\\tau \\right)} + a{\\left(\\tau \\right)} \\frac{\\partial}{\\partial \\tau} \\psi{\\left(\\tau,x,y,z \\right)}\\right) \\left(2 \\phi{\\left(\\tau,x,y,z \\right)} - 1\\right)^{2} - \\left(\\left(2 \\phi{\\left(\\tau,x,y,z \\right)} - 1\\right) \\frac{d}{d \\tau} a{\\left(\\tau \\right)} + a{\\left(\\tau \\right)} \\frac{\\partial}{\\partial \\tau} \\phi{\\left(\\tau,x,y,z \\right)}\\right) \\left(2 \\phi{\\left(\\tau,x,y,z \\right)} - 1\\right)^{2} \\left(2 \\psi{\\left(\\tau,x,y,z \\right)} + 1\\right) \\frac{d}{d \\tau} a{\\left(\\tau \\right)} - 2 \\left(\\left(2 \\phi{\\left(\\tau,x,y,z \\right)} - 1\\right) \\frac{d}{d \\tau} a{\\left(\\tau \\right)} + a{\\left(\\tau \\right)} \\frac{\\partial}{\\partial \\tau} \\phi{\\left(\\tau,x,y,z \\right)}\\right) \\left(2 \\phi{\\left(\\tau,x,y,z \\right)} - 1\\right)^{2} a{\\left(\\tau \\right)} \\frac{\\partial}{\\partial \\tau} \\psi{\\left(\\tau,x,y,z \\right)} + \\left(2 \\phi{\\left(\\tau,x,y,z \\right)} - 1\\right)^{2} \\left(2 \\psi{\\left(\\tau,x,y,z \\right)} + 1\\right) \\left(\\left(2 \\phi{\\left(\\tau,x,y,z \\right)} - 1\\right) \\frac{d^{2}}{d \\tau^{2}} a{\\left(\\tau \\right)} + a{\\left(\\tau \\right)} \\frac{\\partial^{2}}{\\partial \\tau^{2}} \\phi{\\left(\\tau,x,y,z \\right)} + 3 \\frac{\\partial}{\\partial \\tau} \\phi{\\left(\\tau,x,y,z \\right)} \\frac{d}{d \\tau} a{\\left(\\tau \\right)}\\right) a{\\left(\\tau \\right)} + \\left(2 \\phi{\\left(\\tau,x,y,z \\right)} - 1\\right)^{2} \\left(2 \\psi{\\left(\\tau,x,y,z \\right)} + 1\\right) a^{2}{\\left(\\tau \\right)} \\frac{\\partial^{2}}{\\partial x^{2}} \\psi{\\left(\\tau,x,y,z \\right)} + \\left(2 \\phi{\\left(\\tau,x,y,z \\right)} - 1\\right)^{2} \\left(2 \\psi{\\left(\\tau,x,y,z \\right)} + 1\\right) a^{2}{\\left(\\tau \\right)} \\frac{\\partial^{2}}{\\partial y^{2}} \\psi{\\left(\\tau,x,y,z \\right)} - \\left(2 \\phi{\\left(\\tau,x,y,z \\right)} - 1\\right)^{2} \\left(2 \\psi{\\left(\\tau,x,y,z \\right)} + 1\\right) a^{2}{\\left(\\tau \\right)} \\frac{\\partial^{2}}{\\partial z^{2}} \\psi{\\left(\\tau,x,y,z \\right)} - \\left(2 \\phi{\\left(\\tau,x,y,z \\right)} - 1\\right)^{2} a^{2}{\\left(\\tau \\right)} \\left(\\frac{\\partial}{\\partial x} \\psi{\\left(\\tau,x,y,z \\right)}\\right)^{2} - \\left(2 \\phi{\\left(\\tau,x,y,z \\right)} - 1\\right)^{2} a^{2}{\\left(\\tau \\right)} \\left(\\frac{\\partial}{\\partial y} \\psi{\\left(\\tau,x,y,z \\right)}\\right)^{2} + \\left(2 \\phi{\\left(\\tau,x,y,z \\right)} - 1\\right)^{2} a^{2}{\\left(\\tau \\right)} \\left(\\frac{\\partial}{\\partial z} \\psi{\\left(\\tau,x,y,z \\right)}\\right)^{2} + 2 \\left(2 \\phi{\\left(\\tau,x,y,z \\right)} - 1\\right) \\left(2 \\psi{\\left(\\tau,x,y,z \\right)} + 1\\right)^{2} a^{2}{\\left(\\tau \\right)} \\frac{\\partial^{2}}{\\partial x^{2}} \\phi{\\left(\\tau,x,y,z \\right)} + 2 \\left(2 \\phi{\\left(\\tau,x,y,z \\right)} - 1\\right) \\left(2 \\psi{\\left(\\tau,x,y,z \\right)} + 1\\right)^{2} a^{2}{\\left(\\tau \\right)} \\frac{\\partial^{2}}{\\partial y^{2}} \\phi{\\left(\\tau,x,y,z \\right)} - \\left(2 \\phi{\\left(\\tau,x,y,z \\right)} - 1\\right) \\left(2 \\psi{\\left(\\tau,x,y,z \\right)} + 1\\right) a^{2}{\\left(\\tau \\right)} \\frac{\\partial}{\\partial x} \\phi{\\left(\\tau,x,y,z \\right)} \\frac{\\partial}{\\partial x} \\psi{\\left(\\tau,x,y,z \\right)} - \\left(2 \\phi{\\left(\\tau,x,y,z \\right)} - 1\\right) \\left(2 \\psi{\\left(\\tau,x,y,z \\right)} + 1\\right) a^{2}{\\left(\\tau \\right)} \\frac{\\partial}{\\partial y} \\phi{\\left(\\tau,x,y,z \\right)} \\frac{\\partial}{\\partial y} \\psi{\\left(\\tau,x,y,z \\right)} + 3 \\left(2 \\phi{\\left(\\tau,x,y,z \\right)} - 1\\right) \\left(2 \\psi{\\left(\\tau,x,y,z \\right)} + 1\\right) a^{2}{\\left(\\tau \\right)} \\frac{\\partial}{\\partial z} \\phi{\\left(\\tau,x,y,z \\right)} \\frac{\\partial}{\\partial z} \\psi{\\left(\\tau,x,y,z \\right)} + \\left(2 \\phi{\\left(\\tau,x,y,z \\right)} - 1\\right) \\left(\\left(1 - 2 \\phi{\\left(\\tau,x,y,z \\right)}\\right) a^{2}{\\left(\\tau \\right)} \\left(\\frac{\\partial}{\\partial x} \\psi{\\left(\\tau,x,y,z \\right)}\\right)^{2} + \\left(1 - 2 \\phi{\\left(\\tau,x,y,z \\right)}\\right) a^{2}{\\left(\\tau \\right)} \\left(\\frac{\\partial}{\\partial y} \\psi{\\left(\\tau,x,y,z \\right)}\\right)^{2} + \\left(1 - 2 \\phi{\\left(\\tau,x,y,z \\right)}\\right) a^{2}{\\left(\\tau \\right)} \\left(\\frac{\\partial}{\\partial z} \\psi{\\left(\\tau,x,y,z \\right)}\\right)^{2} + 3 \\left(\\left(2 \\phi{\\left(\\tau,x,y,z \\right)} - 1\\right) \\frac{d}{d \\tau} a{\\left(\\tau \\right)} + a{\\left(\\tau \\right)} \\frac{\\partial}{\\partial \\tau} \\phi{\\left(\\tau,x,y,z \\right)}\\right)^{2} \\left(2 \\psi{\\left(\\tau,x,y,z \\right)} + 1\\right) - 3 \\left(\\left(2 \\phi{\\left(\\tau,x,y,z \\right)} - 1\\right) \\frac{d}{d \\tau} a{\\left(\\tau \\right)} + a{\\left(\\tau \\right)} \\frac{\\partial}{\\partial \\tau} \\phi{\\left(\\tau,x,y,z \\right)}\\right) \\left(\\left(2 \\psi{\\left(\\tau,x,y,z \\right)} + 1\\right) \\frac{d}{d \\tau} a{\\left(\\tau \\right)} + a{\\left(\\tau \\right)} \\frac{\\partial}{\\partial \\tau} \\psi{\\left(\\tau,x,y,z \\right)}\\right) \\left(2 \\phi{\\left(\\tau,x,y,z \\right)} - 1\\right) - 3 \\left(\\left(2 \\phi{\\left(\\tau,x,y,z \\right)} - 1\\right) \\frac{d}{d \\tau} a{\\left(\\tau \\right)} + a{\\left(\\tau \\right)} \\frac{\\partial}{\\partial \\tau} \\phi{\\left(\\tau,x,y,z \\right)}\\right) \\left(2 \\phi{\\left(\\tau,x,y,z \\right)} - 1\\right) \\left(2 \\psi{\\left(\\tau,x,y,z \\right)} + 1\\right) \\frac{d}{d \\tau} a{\\left(\\tau \\right)} - 6 \\left(\\left(2 \\phi{\\left(\\tau,x,y,z \\right)} - 1\\right) \\frac{d}{d \\tau} a{\\left(\\tau \\right)} + a{\\left(\\tau \\right)} \\frac{\\partial}{\\partial \\tau} \\phi{\\left(\\tau,x,y,z \\right)}\\right) \\left(2 \\psi{\\left(\\tau,x,y,z \\right)} + 1\\right) a{\\left(\\tau \\right)} \\frac{\\partial}{\\partial \\tau} \\phi{\\left(\\tau,x,y,z \\right)} + 3 \\left(2 \\phi{\\left(\\tau,x,y,z \\right)} - 1\\right) \\left(2 \\psi{\\left(\\tau,x,y,z \\right)} + 1\\right) \\left(\\left(2 \\phi{\\left(\\tau,x,y,z \\right)} - 1\\right) \\frac{d^{2}}{d \\tau^{2}} a{\\left(\\tau \\right)} + a{\\left(\\tau \\right)} \\frac{\\partial^{2}}{\\partial \\tau^{2}} \\phi{\\left(\\tau,x,y,z \\right)} + 3 \\frac{\\partial}{\\partial \\tau} \\phi{\\left(\\tau,x,y,z \\right)} \\frac{d}{d \\tau} a{\\left(\\tau \\right)}\\right) a{\\left(\\tau \\right)} + \\left(2 \\phi{\\left(\\tau,x,y,z \\right)} - 1\\right) \\left(2 \\psi{\\left(\\tau,x,y,z \\right)} + 1\\right) a^{2}{\\left(\\tau \\right)} \\frac{\\partial^{2}}{\\partial x^{2}} \\psi{\\left(\\tau,x,y,z \\right)} + \\left(2 \\phi{\\left(\\tau,x,y,z \\right)} - 1\\right) \\left(2 \\psi{\\left(\\tau,x,y,z \\right)} + 1\\right) a^{2}{\\left(\\tau \\right)} \\frac{\\partial^{2}}{\\partial y^{2}} \\psi{\\left(\\tau,x,y,z \\right)} + \\left(2 \\phi{\\left(\\tau,x,y,z \\right)} - 1\\right) \\left(2 \\psi{\\left(\\tau,x,y,z \\right)} + 1\\right) a^{2}{\\left(\\tau \\right)} \\frac{\\partial^{2}}{\\partial z^{2}} \\psi{\\left(\\tau,x,y,z \\right)} + \\left(2 \\psi{\\left(\\tau,x,y,z \\right)} + 1\\right) a^{2}{\\left(\\tau \\right)} \\frac{\\partial}{\\partial x} \\phi{\\left(\\tau,x,y,z \\right)} \\frac{\\partial}{\\partial x} \\psi{\\left(\\tau,x,y,z \\right)} + \\left(2 \\psi{\\left(\\tau,x,y,z \\right)} + 1\\right) a^{2}{\\left(\\tau \\right)} \\frac{\\partial}{\\partial y} \\phi{\\left(\\tau,x,y,z \\right)} \\frac{\\partial}{\\partial y} \\psi{\\left(\\tau,x,y,z \\right)} + \\left(2 \\psi{\\left(\\tau,x,y,z \\right)} + 1\\right) a^{2}{\\left(\\tau \\right)} \\frac{\\partial}{\\partial z} \\phi{\\left(\\tau,x,y,z \\right)} \\frac{\\partial}{\\partial z} \\psi{\\left(\\tau,x,y,z \\right)}\\right) - 4 \\left(2 \\psi{\\left(\\tau,x,y,z \\right)} + 1\\right)^{2} a^{2}{\\left(\\tau \\right)} \\left(\\frac{\\partial}{\\partial x} \\phi{\\left(\\tau,x,y,z \\right)}\\right)^{2} - 4 \\left(2 \\psi{\\left(\\tau,x,y,z \\right)} + 1\\right)^{2} a^{2}{\\left(\\tau \\right)} \\left(\\frac{\\partial}{\\partial y} \\phi{\\left(\\tau,x,y,z \\right)}\\right)^{2} + 2 \\left(2 \\psi{\\left(\\tau,x,y,z \\right)} + 1\\right)^{2} a^{2}{\\left(\\tau \\right)} \\left(\\frac{\\partial}{\\partial z} \\phi{\\left(\\tau,x,y,z \\right)}\\right)^{2}}{2 \\left(1 - 2 \\phi{\\left(\\tau,x,y,z \\right)}\\right) \\left(2 \\phi{\\left(\\tau,x,y,z \\right)} - 1\\right)^{2} \\left(2 \\psi{\\left(\\tau,x,y,z \\right)} + 1\\right)^{2} a^{4}{\\left(\\tau \\right)}}$"
          },
          "metadata": {},
          "execution_count": 23
        }
      ]
    },
    {
      "cell_type": "code",
      "source": [],
      "metadata": {
        "id": "vLCpiZVYVlvU"
      },
      "execution_count": null,
      "outputs": []
    }
  ]
}