{
  "nbformat": 4,
  "nbformat_minor": 0,
  "metadata": {
    "colab": {
      "provenance": [],
      "toc_visible": true,
      "authorship_tag": "ABX9TyNepSoyz4rt8g+Tazm4wYlL",
      "include_colab_link": true
    },
    "kernelspec": {
      "name": "python3",
      "display_name": "Python 3"
    },
    "language_info": {
      "name": "python"
    }
  },
  "cells": [
    {
      "cell_type": "markdown",
      "metadata": {
        "id": "view-in-github",
        "colab_type": "text"
      },
      "source": [
        "<a href=\"https://colab.research.google.com/github/tdack21/cosmologia_ml/blob/main/Tarea_1_cosmoml.ipynb\" target=\"_parent\"><img src=\"https://colab.research.google.com/assets/colab-badge.svg\" alt=\"Open In Colab\"/></a>"
      ]
    },
    {
      "cell_type": "markdown",
      "source": [
        "# Tarea 1. Cosmología con Machine Learning\n",
        "## Tonatiuh Sánchez Madrid"
      ],
      "metadata": {
        "id": "IrMRtoM6A87t"
      }
    },
    {
      "cell_type": "markdown",
      "source": [
        "1. a. Give a number n, draw an square with base n."
      ],
      "metadata": {
        "id": "F_F5pIzjBSwB"
      }
    },
    {
      "cell_type": "code",
      "execution_count": 1,
      "metadata": {
        "colab": {
          "base_uri": "https://localhost:8080/"
        },
        "id": "fOF3ojxWA44z",
        "outputId": "45714fd3-5fc0-442c-c137-2f374fcd5c24"
      },
      "outputs": [
        {
          "output_type": "stream",
          "name": "stdout",
          "text": [
            "*****\n",
            "*****\n",
            "*****\n",
            "*****\n",
            "*****\n"
          ]
        }
      ],
      "source": [
        "def draw_square(n):\n",
        "    for i in range(n):\n",
        "        print('*' * n)\n",
        "\n",
        "draw_square(5)"
      ]
    },
    {
      "cell_type": "markdown",
      "source": [
        "1. b. Give a number n, draw a triangle (rectangle) with base n."
      ],
      "metadata": {
        "id": "11XJi0xzCam3"
      }
    },
    {
      "cell_type": "code",
      "source": [
        "def draw_triangle(n):\n",
        "    for i in range(n):\n",
        "        print('*' * (i+1))\n",
        "\n",
        "draw_triangle(5)"
      ],
      "metadata": {
        "colab": {
          "base_uri": "https://localhost:8080/"
        },
        "id": "XGag9cOMCKcP",
        "outputId": "df79620c-e269-4eda-93c8-193df2ab7159"
      },
      "execution_count": 4,
      "outputs": [
        {
          "output_type": "stream",
          "name": "stdout",
          "text": [
            "*\n",
            "**\n",
            "***\n",
            "****\n",
            "*****\n"
          ]
        }
      ]
    },
    {
      "cell_type": "markdown",
      "source": [
        "1. c. Give a number n, draw a inverted triangle (rectangle) with base n."
      ],
      "metadata": {
        "id": "PeG8wSzmCx7M"
      }
    },
    {
      "cell_type": "code",
      "source": [
        "def draw_inverted_triangle(n):\n",
        "    for i in range(n):\n",
        "        print('*' * (n-i))\n",
        "\n",
        "draw_inverted_triangle(5)"
      ],
      "metadata": {
        "colab": {
          "base_uri": "https://localhost:8080/"
        },
        "id": "kJSvlHEMCnYH",
        "outputId": "9b160b2b-2d96-4d24-f51f-4b2445e9e6c9"
      },
      "execution_count": 3,
      "outputs": [
        {
          "output_type": "stream",
          "name": "stdout",
          "text": [
            "*****\n",
            "****\n",
            "***\n",
            "**\n",
            "*\n"
          ]
        }
      ]
    },
    {
      "cell_type": "markdown",
      "source": [
        "2. The prime factors of 13195 are 5, 7, 13 and 29. What is the largest prime factor of the number 600851475143?"
      ],
      "metadata": {
        "id": "K5_P6AcoDTj9"
      }
    },
    {
      "cell_type": "code",
      "source": [
        "def largest_prime_factor(n):\n",
        "    i, n_0 = 2, n\n",
        "    factors = []\n",
        "    while i <= n:\n",
        "        if n % i != 0:\n",
        "            i += 1\n",
        "        else:\n",
        "            n //= i\n",
        "            factors.append(i)\n",
        "    print(factors)\n",
        "    print(f\"The largest prime factor of {n_0} is {i}\")\n",
        "\n",
        "largest_prime_factor(600851475143)"
      ],
      "metadata": {
        "colab": {
          "base_uri": "https://localhost:8080/"
        },
        "id": "71wqY8kBIZOk",
        "outputId": "e443d475-d6f6-4de1-e619-c088381767ab"
      },
      "execution_count": 1,
      "outputs": [
        {
          "output_type": "stream",
          "name": "stdout",
          "text": [
            "[71, 839, 1471, 6857]\n",
            "The largest prime factor of 600851475143 is 6857\n"
          ]
        }
      ]
    },
    {
      "cell_type": "markdown",
      "source": [
        "3. A palindromic number reads the same both ways. The largest palindrome made from the product of two 2-digit numbers is 9009=91×99. Find the largest palindrome made from the product of two 3-digit numbers."
      ],
      "metadata": {
        "id": "-o-eJTsHIeOb"
      }
    },
    {
      "cell_type": "code",
      "source": [
        "def largest_palindrome(n):\n",
        "    largest, a, b = 0, 0, 0\n",
        "    for i in range(10**(n-1), 10**n):\n",
        "        for j in range(i, 10**n):\n",
        "            product = i * j\n",
        "            if str(product) == str(product)[::-1] and product > largest:\n",
        "                largest = product\n",
        "                a = i\n",
        "                b = j\n",
        "    print(f\"The largest palindrome made from the product of two {n}-digit numbers is {largest} = {a} x {b}\")\n",
        "\n",
        "largest_palindrome(3)"
      ],
      "metadata": {
        "colab": {
          "base_uri": "https://localhost:8080/"
        },
        "id": "DqNhn279EoAb",
        "outputId": "5ed5c020-8e93-4ed5-d1ac-8f0c60889ad0"
      },
      "execution_count": 5,
      "outputs": [
        {
          "output_type": "stream",
          "name": "stdout",
          "text": [
            "The largest palindrome made from the product of two 3-digit numbers is 906609 = 913 x 993\n"
          ]
        }
      ]
    },
    {
      "cell_type": "markdown",
      "source": [
        "4. 2520 is the smallest number that can be divided by each of the numbers from 1 to 10 without any remainder. What is the smallest positive number that is evenly divisible by all of the numbers from 1 to 20?"
      ],
      "metadata": {
        "id": "HecGLLO0_MpZ"
      }
    },
    {
      "cell_type": "code",
      "source": [
        "def smallest_number_divisible(n):\n",
        "    i = 1\n",
        "    while True:\n",
        "        if all(i % j == 0 for j in range(1, n+1)):\n",
        "            break\n",
        "        i += 1\n",
        "    print(f\"The smallest positive number that is evenly divisible by all of the numbers from 1 to {n} is {i}\")\n",
        "\n",
        "smallest_number_divisible(20)"
      ],
      "metadata": {
        "colab": {
          "base_uri": "https://localhost:8080/"
        },
        "id": "2DgoiJpX7kLu",
        "outputId": "fc48792b-ad4c-44e2-ff7f-df25866362b1"
      },
      "execution_count": 11,
      "outputs": [
        {
          "output_type": "stream",
          "name": "stdout",
          "text": [
            "The smallest positive number that is evenly divisible by all of the numbers from 1 to 20 is 232792560\n"
          ]
        }
      ]
    },
    {
      "cell_type": "code",
      "source": [],
      "metadata": {
        "id": "Z9iW1-4PAYTz"
      },
      "execution_count": null,
      "outputs": []
    }
  ]
}