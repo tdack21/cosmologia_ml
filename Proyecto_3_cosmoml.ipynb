{
  "nbformat": 4,
  "nbformat_minor": 0,
  "metadata": {
    "colab": {
      "provenance": [],
      "authorship_tag": "ABX9TyPt0YcuiVGZQs+Dv4L/jsXF",
      "include_colab_link": true
    },
    "kernelspec": {
      "name": "python3",
      "display_name": "Python 3"
    },
    "language_info": {
      "name": "python"
    }
  },
  "cells": [
    {
      "cell_type": "markdown",
      "metadata": {
        "id": "view-in-github",
        "colab_type": "text"
      },
      "source": [
        "<a href=\"https://colab.research.google.com/github/tdack21/cosmologia_ml/blob/main/Proyecto_3_cosmoml.ipynb\" target=\"_parent\"><img src=\"https://colab.research.google.com/assets/colab-badge.svg\" alt=\"Open In Colab\"/></a>"
      ]
    },
    {
      "cell_type": "code",
      "execution_count": null,
      "metadata": {
        "id": "L9qxXCwPsmUf"
      },
      "outputs": [],
      "source": [
        "import healpy as hp\n",
        "import matplotlib.pyplot as plt\n",
        "\n",
        "# Cargar mapa (ajusta la ruta al archivo descargado)\n",
        "cmb_map = hp.read_map(\"path_to/COM_CMB_IQU-smica-field-Int_2048_R3.00_full.fits\", field=0)\n",
        "\n",
        "# Degradar resolución para ℓ=2-8\n",
        "cmb_map_lowres = hp.ud_grade(cmb_map, nside_out=32)\n",
        "\n",
        "# Calcular multipolos\n",
        "alm = hp.sphtfunc.map2alm(cmb_map_lowres, lmax=8)\n",
        "cl = hp.sphtfunc.alm2cl(alm)\n",
        "\n",
        "# Graficar\n",
        "ell = np.arange(2, 9)\n",
        "plt.plot(ell, cl[2:9], 'bo-')\n",
        "plt.xlabel(\"Multipole ℓ\")\n",
        "plt.ylabel(\"$C_{\\ell}$ [$\\mu K^2$]\")\n",
        "plt.title(\"CMB Power Spectrum (ℓ=2-8)\")\n",
        "plt.grid()\n",
        "plt.show()"
      ]
    }
  ]
}