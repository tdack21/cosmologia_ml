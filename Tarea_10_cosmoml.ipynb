{
  "nbformat": 4,
  "nbformat_minor": 0,
  "metadata": {
    "colab": {
      "provenance": [],
      "authorship_tag": "ABX9TyPFGxDfkEC8QnggjHvDqmZe",
      "include_colab_link": true
    },
    "kernelspec": {
      "name": "python3",
      "display_name": "Python 3"
    },
    "language_info": {
      "name": "python"
    }
  },
  "cells": [
    {
      "cell_type": "markdown",
      "metadata": {
        "id": "view-in-github",
        "colab_type": "text"
      },
      "source": [
        "<a href=\"https://colab.research.google.com/github/tdack21/cosmologia_ml/blob/main/Tarea_10_cosmoml.ipynb\" target=\"_parent\"><img src=\"https://colab.research.google.com/assets/colab-badge.svg\" alt=\"Open In Colab\"/></a>"
      ]
    },
    {
      "cell_type": "markdown",
      "source": [
        "# Tarea 10. Cosmología con Machine Learning\n",
        "Tonatiuh Sánchez Madrid"
      ],
      "metadata": {
        "id": "-d_b_lTbmflJ"
      }
    },
    {
      "cell_type": "code",
      "execution_count": 1,
      "metadata": {
        "id": "n8GWHSdAmcjQ"
      },
      "outputs": [],
      "source": [
        "import numpy as np\n",
        "import matplotlib.pyplot as plt\n",
        "from matplotlib.animation import FuncAnimation\n",
        "from scipy.optimize import approx_fprime\n",
        "from scipy.stats import chi2"
      ]
    },
    {
      "cell_type": "code",
      "source": [
        "H0 = 68  # Hubble constant in km/s/Mpc\n",
        "Omega_m0 = 0.3  # Matter density parameter\n",
        "Omega_L0 = 0.7  # Dark energy density parameter\n",
        "\n",
        "# CPL parameterization for w(z)\n",
        "def w(z, w0, wa):\n",
        "    return w0 + wa * (z / (1 + z))\n",
        "\n",
        "# Hubble parameter function E(z) for CPL\n",
        "def E(z, w0, wa):\n",
        "    return np.sqrt(Omega_m0 * (1 + z)**3 + Omega_L0 * (1 + z)**(3 * (1 + w0 + wa)) * np.exp(-3 * wa * z / (1 + z)))\n",
        "\n",
        "# Theoretical H(z)\n",
        "def H(z, w0, wa):\n",
        "    return H0 * E(z, w0, wa)\n",
        "\n",
        "# Observational data (H(z) from Cosmic Chronometers)\n",
        "z_H = np.array([0.07, 0.12, 0.20, 0.28, 0.40, 0.50, 0.60, 0.80, 1.00])\n",
        "H_obs = np.array([69, 68.6, 72.9, 88.8, 95, 97, 87.9, 117, 168])  # H(z) values in km/s/Mpc\n",
        "H_err = np.array([19.6, 26.2, 29.6, 36.6, 17, 62, 6.1, 23.4, 17.4])  # Errors\n",
        "\n",
        "# Chi-squared function\n",
        "def chi2(w0, wa):\n",
        "    H_theo = np.array([H(zi, w0, wa) for zi in z_H])\n",
        "    return np.sum(((H_obs - H_theo) / H_err)**2)"
      ],
      "metadata": {
        "id": "ylcTNW9D6bKy"
      },
      "execution_count": 2,
      "outputs": []
    },
    {
      "cell_type": "code",
      "source": [
        "# Función de likelihood\n",
        "def likelihood(w0, wa):\n",
        "    return np.exp(-0.5 * chi2(w0, wa))  # Ejemplo basado en chi2\n",
        "\n",
        "# Función de fitness\n",
        "def _fitness(x):\n",
        "    w0, wa = x  # Desempaquetar los valores de w0 y wa\n",
        "    if -7 < w0 < 0 and -5 < wa < 20:  # Restricciones en w0 y wa\n",
        "        y = likelihood(w0, wa)  # Calcular el likelihood\n",
        "        return np.round(y, 6)\n",
        "    else:\n",
        "        return 0\n",
        "\n",
        "fitness = np.vectorize(_fitness, signature=\"(n)->()\")\n",
        "\n",
        "# Función para obtener el mejor fitness\n",
        "def _get_fitness(parents, fitness):\n",
        "    _fitness = fitness(parents)  # Calcular el fitness para todos los padres\n",
        "    Lfitness = list(zip(parents, _fitness))  # Combinar padres con su fitness\n",
        "    Lfitness.sort(key=lambda x: x[1], reverse=True)  # Ordenar por fitness\n",
        "    best_parents, best_fitness = Lfitness[0]  # Obtener el mejor par\n",
        "    return np.round(best_parents, 4), np.round(best_fitness, 4)\n",
        "\n",
        "# Función de mutación\n",
        "def mutate(parents, fitness_fun):\n",
        "    n = len(parents)\n",
        "    scores = fitness_fun(parents)  # Calcular el fitness de los padres\n",
        "    id = scores > 0  # Filtrar padres con fitness válido\n",
        "    scores = scores[id]\n",
        "    parents = np.array(parents)[id]\n",
        "\n",
        "    # Seleccionar padres basados en su fitness\n",
        "    children_indices = np.random.choice(range(len(parents)), size=n, p=scores/scores.sum())\n",
        "    children = parents[children_indices]\n",
        "\n",
        "    # Aplicar mutación a ambos w0 y wa\n",
        "    mutations = np.random.uniform(-0.5, 0.5, size=(n, 2))\n",
        "    children = children + mutations\n",
        "\n",
        "    return children.tolist()\n",
        "\n",
        "# Algoritmo genético\n",
        "def GA(parents, fitness_fun, max_gen=100):\n",
        "    best_parent, best_fitness = _get_fitness(parents, fitness_fun)\n",
        "    for i in range(1, max_gen):\n",
        "        parents = mutate(parents, fitness_fun)\n",
        "        curr_parent, curr_fitness = _get_fitness(parents, fitness_fun)\n",
        "        if curr_fitness > best_fitness:\n",
        "            best_parent, best_fitness = curr_parent, curr_fitness\n",
        "    return best_parent, best_fitness\n",
        "\n",
        "# Población inicial\n",
        "w0_range = np.linspace(-7, 0, 20)\n",
        "wa_range = np.linspace(-5, 20, 20)\n",
        "ini_pob = list(zip(np.random.choice(w0_range, size=10), np.random.choice(wa_range, size=10)))\n",
        "\n",
        "# Ejecutar el algoritmo genético\n",
        "best_solution, best_fitness = GA(ini_pob, fitness)\n",
        "print(f\"Mejor solución: w0 = {best_solution[0]}, wa = {best_solution[1]}\")\n",
        "print(f\"Mejor fitness: {best_fitness}\")"
      ],
      "metadata": {
        "colab": {
          "base_uri": "https://localhost:8080/"
        },
        "id": "Rt0NhCDs6hPi",
        "outputId": "58729a39-e3e9-498a-f069-a5ce603ba201"
      },
      "execution_count": 3,
      "outputs": [
        {
          "output_type": "stream",
          "name": "stdout",
          "text": [
            "Mejor solución: w0 = -3.4465, wa = 11.5435\n",
            "Mejor fitness: 0.2354\n"
          ]
        }
      ]
    },
    {
      "cell_type": "code",
      "source": [
        "# Función de likelihood (ejemplo)\n",
        "def likelihood(params):\n",
        "    w0, wa = params\n",
        "    # Aquí va tu código para calcular el likelihood\n",
        "    return np.exp(-0.5 * chi2(w0, wa))  # Ejemplo basado en chi2\n",
        "\n",
        "# Función para calcular el Hessiano numéricamente\n",
        "def compute_hessian(fun, params, epsilon=1e-5):\n",
        "    n = len(params)\n",
        "    hessian = np.zeros((n, n))\n",
        "\n",
        "    # Función para calcular la primera derivada parcial\n",
        "    def partial_derivative(f, x, i, epsilon):\n",
        "        x_plus = x.copy()\n",
        "        x_plus[i] += epsilon\n",
        "        x_minus = x.copy()\n",
        "        x_minus[i] -= epsilon\n",
        "        return (f(x_plus) - f(x_minus)) / (2 * epsilon)\n",
        "\n",
        "    # Calcular el Hessiano\n",
        "    for i in range(n):\n",
        "        for j in range(n):\n",
        "            # Función para calcular la segunda derivada parcial\n",
        "            def second_partial_derivative(x):\n",
        "                def partial_i(x):\n",
        "                    return partial_derivative(fun, x, i, epsilon)\n",
        "                return partial_derivative(partial_i, x, j, epsilon)\n",
        "\n",
        "            # Calcular el elemento (i, j) del Hessiano\n",
        "            hessian[i, j] = second_partial_derivative(params)\n",
        "\n",
        "    return hessian\n",
        "\n",
        "# Parámetros óptimos (obtenidos del GA)\n",
        "best_params = [best_solution[0], best_solution[1]]  # w0 y wa óptimos\n",
        "\n",
        "# Calcular el Hessiano en los parámetros óptimos\n",
        "hessian = compute_hessian(likelihood, best_params)\n",
        "\n",
        "# Invertir el Hessiano para obtener la matriz de covarianza\n",
        "cov_matrix = np.linalg.inv(hessian)\n",
        "\n",
        "# Calcular la matriz de correlación\n",
        "std_dev = np.diag(cov_matrix)  # Desviaciones estándar\n",
        "corr_matrix = cov_matrix / np.sqrt(np.outer(std_dev, std_dev))\n",
        "\n",
        "# Mostrar resultados\n",
        "print(\"Matriz de covarianza:\")\n",
        "print(cov_matrix)\n",
        "print(\"\\nMatriz de correlación:\")\n",
        "print(corr_matrix)"
      ],
      "metadata": {
        "colab": {
          "base_uri": "https://localhost:8080/"
        },
        "id": "Ze_VUcq36l1L",
        "outputId": "ef61061a-245f-40a4-e2fd-e7029fa47684"
      },
      "execution_count": 4,
      "outputs": [
        {
          "output_type": "stream",
          "name": "stdout",
          "text": [
            "Matriz de covarianza:\n",
            "[[ -4.81613239  18.60919002]\n",
            " [ 18.60919002 -73.17408829]]\n",
            "\n",
            "Matriz de correlación:\n",
            "[[-1.          0.99128744]\n",
            " [ 0.99128744 -1.        ]]\n"
          ]
        }
      ]
    },
    {
      "cell_type": "code",
      "source": [
        "# Calcular eigenvalores y eigenvectores\n",
        "eigenvalues, eigenvectors = np.linalg.eig(cov_matrix)\n",
        "\n",
        "# Mostrar resultados\n",
        "print(\"Eigenvalores:\")\n",
        "print(eigenvalues)\n",
        "print(\"\\nEigenvectores:\")\n",
        "print(eigenvectors)"
      ],
      "metadata": {
        "colab": {
          "base_uri": "https://localhost:8080/"
        },
        "id": "vtXqqdx_OE4T",
        "outputId": "0e427924-485d-4508-a7a1-7e52e5d949ad"
      },
      "execution_count": 5,
      "outputs": [
        {
          "output_type": "stream",
          "name": "stdout",
          "text": [
            "Eigenvalores:\n",
            "[ -0.07847525 -77.91174543]\n",
            "\n",
            "Eigenvectores:\n",
            "[[ 0.96908756 -0.24671706]\n",
            " [ 0.24671706  0.96908756]]\n"
          ]
        }
      ]
    },
    {
      "cell_type": "code",
      "source": [
        "# Generar la elipse\n",
        "angle = np.linspace(0, 2 * np.pi, 100)\n",
        "a = np.sqrt(abs(eigenvalues[0]))  # Eje mayor\n",
        "b = np.sqrt(abs(eigenvalues[1]))  # Eje menor\n",
        "\n",
        "# Rotación de los eigenvectores\n",
        "x_ellipse = a * np.cos(angle)\n",
        "y_ellipse = b * np.sin(angle)\n",
        "\n",
        "# Matriz de rotación\n",
        "rotation_matrix = eigenvectors\n",
        "\n",
        "# Aplicar la rotación a la elipse\n",
        "rotated_ellipse = np.dot(np.column_stack((x_ellipse, y_ellipse)), rotation_matrix)\n",
        "x_rotated = rotated_ellipse[:, 0]\n",
        "y_rotated = rotated_ellipse[:, 1]\n",
        "\n",
        "# Graficar la elipse\n",
        "plt.figure(figsize=(6, 6))\n",
        "plt.plot(x_rotated + best_params[0], y_rotated + best_params[1], label='Elipse de covarianza')\n",
        "plt.scatter(best_params[0], best_params[1], color='red', label='Máximo likelihood')\n",
        "plt.xlabel('w0')\n",
        "plt.ylabel('wa')\n",
        "plt.title('Elipse de Covarianza y Máximo Likelihood')\n",
        "plt.legend()\n",
        "plt.grid(True)\n",
        "plt.show()\n"
      ],
      "metadata": {
        "colab": {
          "base_uri": "https://localhost:8080/",
          "height": 565
        },
        "id": "rZUE3NqqHoD4",
        "outputId": "ae44fffe-3972-4e5f-d77e-56c0bf34e3f3"
      },
      "execution_count": 14,
      "outputs": [
        {
          "output_type": "display_data",
          "data": {
            "text/plain": [
              "<Figure size 600x600 with 1 Axes>"
            ],
            "image/png": "[encoded data removed]"
          },
          "metadata": {}
        }
      ]
    },
    {
      "cell_type": "code",
      "source": [],
      "metadata": {
        "id": "ewwhAX7J2CLu"
      },
      "execution_count": null,
      "outputs": []
    }
  ]
}